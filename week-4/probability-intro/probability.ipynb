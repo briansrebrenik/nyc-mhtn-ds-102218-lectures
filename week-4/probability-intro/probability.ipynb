{
 "cells": [
  {
   "cell_type": "markdown",
   "metadata": {},
   "source": [
    "### Sets"
   ]
  },
  {
   "cell_type": "markdown",
   "metadata": {},
   "source": [
    "* Read the wikipedia article on sets, come up with some examples of some use cases for both the inclusion exclusion principle, and cartesian products [sets wikipedia](https://en.wikipedia.org/wiki/Set_(mathematics)\n",
    "\n",
    "* Now consider the [rule of sum](https://en.wikipedia.org/wiki/Rule_of_sum) and the [rule of product](https://en.wikipedia.org/wiki/Rule_of_product).  How do these relate to the inclusion exclusion principle, and set multiplication above?"
   ]
  },
  {
   "cell_type": "markdown",
   "metadata": {},
   "source": [
    "* Intersection\n",
    "* Union"
   ]
  },
  {
   "cell_type": "code",
   "execution_count": null,
   "metadata": {},
   "outputs": [],
   "source": []
  },
  {
   "cell_type": "markdown",
   "metadata": {},
   "source": [
    "### First problems"
   ]
  },
  {
   "cell_type": "markdown",
   "metadata": {},
   "source": [
    "\n",
    "\n",
    "> **Ex 1** Person plans on joining Flatiron School  as a student and they can apply for admissions either in the the web course or the data science course.  The web course has three seats open and the data science course has one seat open.  How many total seats are available to the student?\n",
    "\n",
    ">** Ex 2 ** Flatiron school has five teachers who can teach Ruby and three teachers who can teach Python.  Two of the teachers teach both Ruby and Python.  How many total courses can Flatiron run.  (A teacher can only teach one class)."
   ]
  },
  {
   "cell_type": "markdown",
   "metadata": {},
   "source": [
    "* either choose web or data science \n",
    "\n",
    "web: 3\n",
    "data science: 1\n",
    "\n",
    "total: 4\n",
    "\n",
    "* W U DS = amount of web + amount of data science \n",
    "* W U DS = 3 + 1 = 4\n",
    "\n",
    "\n",
    "\n",
    "Ruby: 5\n",
    "Python: 3\n",
    "Ruby & Python: 2"
   ]
  },
  {
   "cell_type": "markdown",
   "metadata": {},
   "source": [
    "Flatiron school is trying to assess the probability someone joins a course. As a first step it calculates the total number of courses. \n",
    "\n",
    "\n",
    "Courses run as either fullstack or data science, and each course has a part-time, or full time or online. (All courses have the same number of seats). How many different options are there for a student to join?\n",
    "\n",
    "Fullstack      or Datascience \n",
    "PT, FT, Online\n"
   ]
  },
  {
   "cell_type": "markdown",
   "metadata": {},
   "source": [
    "### Second problems \n",
    "\n",
    "> Flatiron school is trying to assess the probability someone joins a course.  As a first step it calculates the total number of courses.  Courses run as either fullstack or data science, and each course has a part-time, or full time or online.  (All courses have the same number of seats).  How many different options are there for a student to join?    \n",
    "\n",
    "> Flatiron School orders salads for students on the first day.  Each salad can have lettuce, spinach, or kale as it's base, and chicken or veggie as it's protein, there are five different kinds of cheese that can be topped with.\n",
    "\n",
    "> A. Assuming an order must include a base, protein, and cheese topping, what are the total number of types of a salads a student can choose from.\n",
    "\n",
    "> Those who keep kosher at Flatiron school cannot eat chicken and cheese together, but stil must order a salad with cheese.  How many fewer options does a kosher student have than a student without dietary restrictions?\n",
    "\n",
    "\n",
    "Bonus\n",
    "> B. Now assume that an order need not include a cheese topping.  How many total options can a student choose from.  How many total options can a Kosher student choose from?"
   ]
  },
  {
   "cell_type": "code",
   "execution_count": 1,
   "metadata": {},
   "outputs": [],
   "source": [
    "from itertools import product"
   ]
  },
  {
   "cell_type": "code",
   "execution_count": 4,
   "metadata": {},
   "outputs": [
    {
     "data": {
      "text/plain": [
       "[('lettuce', 'chicken'),\n",
       " ('lettuce', 'vegetables'),\n",
       " ('kale', 'chicken'),\n",
       " ('kale', 'vegetables'),\n",
       " ('spinach', 'chicken'),\n",
       " ('spinach', 'vegetables')]"
      ]
     },
     "execution_count": 4,
     "metadata": {},
     "output_type": "execute_result"
    }
   ],
   "source": [
    "list(product(['lettuce', 'kale', 'spinach'], ['chicken', 'vegetables']))"
   ]
  },
  {
   "cell_type": "markdown",
   "metadata": {},
   "source": [
    "### Permutations and combinations"
   ]
  },
  {
   "cell_type": "markdown",
   "metadata": {},
   "source": [
    "### Permutations\n",
    "\n",
    "> Flatiron is considering reordering it's modules first four modules of the data science course: engineering, stats, machine learning, deep learning.  How many different ways can it order these modules?  \n",
    "\n",
    "A k-permutation is an **ordered** k-tuple of distinct objects.\n",
    "\n",
    "> Now because Flatiron has some owners with deep pockets and big dreams, it decided to buy another school, that has three other data science modules.  Now that flatiron has seven potential modules worth of material, how many different ways can it order a four module data science immersive.\n",
    "\n",
    "Note that it doesn't have to be numbers.  But anything where there's a distinct label.\n",
    "\n",
    "> Flatiron school has six teachers and four separate courses: data science, web, pt-ds, and pt-web.  How many ways can the six teachers be assigned to the four courses?\n",
    "\n",
    "**$n P k = \\frac{n!}{(n - k)!} $**"
   ]
  },
  {
   "cell_type": "markdown",
   "metadata": {},
   "source": [
    "$\\frac{n!}{r!(n-r)!}$"
   ]
  },
  {
   "cell_type": "code",
   "execution_count": null,
   "metadata": {},
   "outputs": [],
   "source": []
  }
 ],
 "metadata": {
  "kernelspec": {
   "display_name": "Python 3",
   "language": "python",
   "name": "python3"
  },
  "language_info": {
   "codemirror_mode": {
    "name": "ipython",
    "version": 3
   },
   "file_extension": ".py",
   "mimetype": "text/x-python",
   "name": "python",
   "nbconvert_exporter": "python",
   "pygments_lexer": "ipython3",
   "version": "3.7.0"
  }
 },
 "nbformat": 4,
 "nbformat_minor": 2
}

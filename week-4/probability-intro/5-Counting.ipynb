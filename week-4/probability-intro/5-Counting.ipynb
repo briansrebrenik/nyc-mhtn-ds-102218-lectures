{
 "cells": [
  {
   "cell_type": "markdown",
   "metadata": {},
   "source": [
    "### Sets"
   ]
  },
  {
   "cell_type": "markdown",
   "metadata": {},
   "source": [
    "* Read the wikipedia article on sets, come up with some examples of some use cases for both the inclusion exclusion principle, and cartesian products [sets wikipedia](https://en.wikipedia.org/wiki/Set_(mathematics)\n",
    "\n",
    "* Now consider the [rule of sum](https://en.wikipedia.org/wiki/Rule_of_sum) and the [rule of product](https://en.wikipedia.org/wiki/Rule_of_product).  How do these relate to the inclusion exclusion principle, and set multiplication above?"
   ]
  },
  {
   "cell_type": "markdown",
   "metadata": {},
   "source": [
    "* Intersection\n",
    "* Union"
   ]
  },
  {
   "cell_type": "markdown",
   "metadata": {},
   "source": [
    "### Why we need to talk about counting\n",
    "\n",
    "A key question of probability, is the probability assuming potential event has equal outcomes.  So to make this calculation, we need to at least be able to count up all of the different outcomes."
   ]
  },
  {
   "cell_type": "markdown",
   "metadata": {},
   "source": [
    "Rule of sum\n",
    "\n",
    "> **Ex 1** Person plans on joining Flatiron School  as a student and they can apply for admissions either in the the web course or the data science course.  The web course has three seats open and the data science course has one seat open.  How many total seats are available to the student?\n",
    "\n",
    ">** Ex 2 ** Flatiron school has five teachers who can teach Ruby and three teachers who can teach Python.  Two of the teachers teach both Ruby and Python.  How many total teachers does Flatiron Have."
   ]
  },
  {
   "cell_type": "markdown",
   "metadata": {},
   "source": [
    "**Inclusion exclusion principle**\n",
    "\n",
    "In |A| + |B| each element of |A ∩ B| has been counted twice. To get the fair number\n",
    "of elements in |A ∪ B| we have to subtract |A ∩ B| from |A| + |B|.\n",
    "\n",
    "$A + B - A \\cap B $\n",
    "\n",
    "* Sum rule\n",
    "If an outcome is one of n options or m options, and only one of the two are possible.  And n and m do not overlap, then the total number of possible outcomes is n + m.\n",
    "\n",
    "If $A \\cap B = \\varnothing$ then $|A \\cup B| = |A| + |B|$"
   ]
  },
  {
   "cell_type": "markdown",
   "metadata": {},
   "source": [
    "### product rule \n",
    "\n",
    "* Experiment is an ordered pair of outcomes, and first part results in m outcomes and second part can result n outcomes **regardless of the outcome of the first part**.  Then total number of outcomes is m*n.\n",
    "* If each solution is an ordered pair (x, y) and there are n1 choices for x and n2 choices for y, then the total number of solutions is n1 · n2\n",
    "\n",
    "> Flatiron school is trying to assess the probability someone joins a course.  As a first step it calculates the total number of courses.  Courses run as either fullstack or data science, and each course has a part-time, or full time or online.  (All courses have the same number of seats).  How many different courses are there?    \n",
    "\n",
    "> Flatiron School orders salads for students on the first day.  Each salad can have lettuce, spinach, or kale as it's base, and chicken or veggie as it's base, there are five different kinds of cheese that can be topped with.  How many different combinations are possible.\n",
    "\n",
    "> Those who keep kosher at Flatiron school cannot eat chicken and cheese together.  How many fewer options does a kosher student have than a student without dietary restrictions?"
   ]
  },
  {
   "cell_type": "markdown",
   "metadata": {},
   "source": [
    "** Key takeaway.  We use the rule of sums when we have or questions.  We use the rule of products when we have and questions.  Another way is when we think of our decision as a list of tuples.**"
   ]
  },
  {
   "cell_type": "markdown",
   "metadata": {},
   "source": [
    "### Permutations\n",
    "\n",
    "> Flatiron is considering reordering it's modules first four modules of the data science course: engineering, stats, machine learning, deep learning.  How many different ways can it order these modules?  \n",
    "\n",
    "A k-permutation is an **ordered** k-tuple of distinct objects.\n",
    "\n",
    "> Now because Flatiron has some owners with deep pockets and big dreams, it decided to buy another school, that has three other data science modules.  Now that flatiron has seven potential modules worth of material, how many different ways can it order a four module data science immersive.\n",
    "\n",
    "Note that it doesn't have to be numbers.  But anything where there's a distinct label.\n",
    "\n",
    "> Flatiron school has six teachers and four separate courses: data science, web, pt-ds, and pt-web.  How many ways can the six teachers be assigned to the four courses?\n",
    "\n",
    "**$n P k = \\frac{n!}{(n - k)!} $**"
   ]
  },
  {
   "cell_type": "markdown",
   "metadata": {},
   "source": [
    "> A password can be any of 26 characters and or 10 digits.  And must be five characters long.\n",
    "\n",
    "* How many different variations of the password?\n",
    "* Now consider that there cannot be a password of all characters or all digits.  Now how many variations of passwords?\n",
    "* Now consider that every previous condition still holds except a password can now be 5, 6 or 7 characters.  How many variations?"
   ]
  },
  {
   "cell_type": "markdown",
   "metadata": {},
   "source": [
    "### Combinations"
   ]
  },
  {
   "cell_type": "markdown",
   "metadata": {},
   "source": [
    "* So now let's do three choose two courses.  \n",
    "\n",
    "> You want to spell out each of the options here.  Notice that for each course, there is 2! repeats.  So that is why we divide and do not subtract.\n",
    "\n",
    "* And finally let's do 4 choose two courses.  \n",
    "\n",
    "$n!/r!(n-r)!$"
   ]
  },
  {
   "cell_type": "markdown",
   "metadata": {},
   "source": [
    "[brilliant multinomials](https://brilliant.org/wiki/multinomial-coefficients/)"
   ]
  },
  {
   "cell_type": "markdown",
   "metadata": {},
   "source": [
    "How many different ways can we get 3 heads.\n",
    "\n",
    "\n",
    "** Note that combinations, 3 choose 2 is really of the three distinct objects, choose two to assign a lable that is not distinct **\n",
    "\n",
    "\"bookeeper\" rule.  Think of the ten different ways to spell bookkeeper.  \n",
    "\n",
    "Think of this problem of we have ten different slots to place bookkeeper, and out of these 10 slots, choose 3 to place the e, and the order (of our choice) doesn't matter."
   ]
  },
  {
   "cell_type": "code",
   "execution_count": null,
   "metadata": {},
   "outputs": [],
   "source": [
    "[]()"
   ]
  }
 ],
 "metadata": {
  "kernelspec": {
   "display_name": "Python 3",
   "language": "python",
   "name": "python3"
  },
  "language_info": {
   "codemirror_mode": {
    "name": "ipython",
    "version": 3
   },
   "file_extension": ".py",
   "mimetype": "text/x-python",
   "name": "python",
   "nbconvert_exporter": "python",
   "pygments_lexer": "ipython3",
   "version": "3.7.0"
  }
 },
 "nbformat": 4,
 "nbformat_minor": 2
}

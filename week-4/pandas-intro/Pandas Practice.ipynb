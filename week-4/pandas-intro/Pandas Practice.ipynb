{
 "cells": [
  {
   "cell_type": "code",
   "execution_count": 2,
   "metadata": {},
   "outputs": [],
   "source": [
    "msas_url = \"https://en.wikipedia.org/wiki/List_of_metropolitan_statistical_areas\""
   ]
  },
  {
   "cell_type": "code",
   "execution_count": 3,
   "metadata": {},
   "outputs": [],
   "source": [
    "import pandas as pd"
   ]
  },
  {
   "cell_type": "code",
   "execution_count": 4,
   "metadata": {},
   "outputs": [],
   "source": [
    "msas = pd.read_html(msas_url)"
   ]
  },
  {
   "cell_type": "code",
   "execution_count": 5,
   "metadata": {},
   "outputs": [],
   "source": [
    "msa_data = msas[1]"
   ]
  },
  {
   "cell_type": "code",
   "execution_count": 6,
   "metadata": {},
   "outputs": [],
   "source": [
    "msa_data.columns = msa_data.iloc[0, :]"
   ]
  },
  {
   "cell_type": "code",
   "execution_count": 7,
   "metadata": {},
   "outputs": [],
   "source": [
    "msa_df = msa_data.iloc[1:, 1:]"
   ]
  },
  {
   "cell_type": "code",
   "execution_count": 8,
   "metadata": {},
   "outputs": [],
   "source": [
    "estimate_2017 = msa_df['2017 Estimate']"
   ]
  },
  {
   "cell_type": "code",
   "execution_count": 19,
   "metadata": {},
   "outputs": [],
   "source": [
    "import numpy as np"
   ]
  },
  {
   "cell_type": "code",
   "execution_count": 22,
   "metadata": {},
   "outputs": [],
   "source": [
    "import pandas as pd"
   ]
  },
  {
   "cell_type": "code",
   "execution_count": 18,
   "metadata": {
    "scrolled": true
   },
   "outputs": [
    {
     "data": {
      "text/plain": [
       "1      20320876\n",
       "2      13353907\n",
       "3       9533040\n",
       "4       7399662\n",
       "5       6892427\n",
       "6       6216589\n",
       "7       6158824\n",
       "8       6096120\n",
       "9       5884736\n",
       "10      4836531\n",
       "11      4737270\n",
       "12      4727357\n",
       "13      4580670\n",
       "14      4313002\n",
       "15      3867046\n",
       "16      3600618\n",
       "17      3337685\n",
       "18      3091399\n",
       "19      2888227\n",
       "20      2808175\n",
       "21      2807338\n",
       "22      2525305\n",
       "23      2509831\n",
       "24      2473974\n",
       "25      2453168\n",
       "26      2333367\n",
       "27      2324884\n",
       "28      2204079\n",
       "29      2179082\n",
       "30      2128912\n",
       "         ...   \n",
       "354       99703\n",
       "355       99646\n",
       "356       98837\n",
       "357       98658\n",
       "358       98327\n",
       "359       98080\n",
       "360       97613\n",
       "361       97502\n",
       "362       97041\n",
       "363       96782\n",
       "364       93553\n",
       "365       90963\n",
       "366       90951\n",
       "367       90898\n",
       "368       86352\n",
       "369       85557\n",
       "370       85269\n",
       "371       85045\n",
       "372       84204\n",
       "373       83411\n",
       "374       82363\n",
       "375       82040\n",
       "376       81654\n",
       "377       80400\n",
       "378       79547\n",
       "379       77909\n",
       "380       64614\n",
       "381       62920\n",
       "382       61581\n",
       "383       54745\n",
       "Name: 2017 Estimate, Length: 383, dtype: object"
      ]
     },
     "execution_count": 18,
     "metadata": {},
     "output_type": "execute_result"
    }
   ],
   "source": [
    "estimate_2017.groupby()"
   ]
  },
  {
   "cell_type": "code",
   "execution_count": 24,
   "metadata": {},
   "outputs": [],
   "source": [
    "import pandas as pd\n",
    "import numpy as np\n",
    "import matplotlib.pyplot as plt"
   ]
  },
  {
   "cell_type": "code",
   "execution_count": 25,
   "metadata": {},
   "outputs": [],
   "source": [
    "s = pd.Series([1,3,5,np.nan,6,8])"
   ]
  },
  {
   "cell_type": "code",
   "execution_count": 26,
   "metadata": {},
   "outputs": [
    {
     "data": {
      "text/plain": [
       "0    1.0\n",
       "1    3.0\n",
       "2    5.0\n",
       "3    NaN\n",
       "4    6.0\n",
       "5    8.0\n",
       "dtype: float64"
      ]
     },
     "execution_count": 26,
     "metadata": {},
     "output_type": "execute_result"
    }
   ],
   "source": [
    "s"
   ]
  },
  {
   "cell_type": "code",
   "execution_count": 27,
   "metadata": {},
   "outputs": [
    {
     "data": {
      "text/plain": [
       "count    5.000000\n",
       "mean     4.600000\n",
       "std      2.701851\n",
       "min      1.000000\n",
       "25%      3.000000\n",
       "50%      5.000000\n",
       "75%      6.000000\n",
       "max      8.000000\n",
       "dtype: float64"
      ]
     },
     "execution_count": 27,
     "metadata": {},
     "output_type": "execute_result"
    }
   ],
   "source": [
    "s.describe()"
   ]
  },
  {
   "cell_type": "code",
   "execution_count": 29,
   "metadata": {},
   "outputs": [
    {
     "data": {
      "text/plain": [
       "5.0"
      ]
     },
     "execution_count": 29,
     "metadata": {},
     "output_type": "execute_result"
    }
   ],
   "source": [
    "s.at[2]"
   ]
  },
  {
   "cell_type": "code",
   "execution_count": null,
   "metadata": {},
   "outputs": [],
   "source": []
  }
 ],
 "metadata": {
  "kernelspec": {
   "display_name": "Python 3",
   "language": "python",
   "name": "python3"
  },
  "language_info": {
   "codemirror_mode": {
    "name": "ipython",
    "version": 3
   },
   "file_extension": ".py",
   "mimetype": "text/x-python",
   "name": "python",
   "nbconvert_exporter": "python",
   "pygments_lexer": "ipython3",
   "version": "3.7.0"
  }
 },
 "nbformat": 4,
 "nbformat_minor": 2
}

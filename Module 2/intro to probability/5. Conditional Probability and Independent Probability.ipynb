{
 "cells": [
  {
   "cell_type": "markdown",
   "metadata": {},
   "source": [
    "### Review "
   ]
  },
  {
   "cell_type": "markdown",
   "metadata": {},
   "source": [
    "### Conditional probability\n",
    "\n",
    "> Eg. Ted and Alice have two children.  Given they have a boy.  What is the probability they have two boys?\n"
   ]
  },
  {
   "cell_type": "markdown",
   "metadata": {},
   "source": [
    "|              | Male           | Female  |\n",
    "| ------------- |:-------------:| :-----:|\n",
    "| Male         | M M             | F M   |\n",
    "| Female      | M F               |   F F |"
   ]
  },
  {
   "cell_type": "markdown",
   "metadata": {},
   "source": [
    "P(B|A) = 1/3 = P(B & A)/P(A)\n",
    "\n",
    "* Let A be the event that one child of two is male: \n",
    "* #A = 3\n",
    "* Let B be the event that both children are male\n",
    "* #B = 1\n",
    "\n",
    "P(B & A) = 1\n",
    "\n",
    "P(B|A) = P(B&A)/P(A) = 1/3"
   ]
  },
  {
   "cell_type": "markdown",
   "metadata": {},
   "source": [
    "|              |  over 65         |under 65  |\n",
    "| ------------- |:-------------:| :-----:|\n",
    "| respond         | 40         | 10|\n",
    "| non-respond     | 10               |   40 |"
   ]
  },
  {
   "cell_type": "markdown",
   "metadata": {},
   "source": [
    "* the # of outcomes in my event space / the # of outcomes in my sample space"
   ]
  },
  {
   "cell_type": "code",
   "execution_count": null,
   "metadata": {},
   "outputs": [],
   "source": [
    "E = responders\n",
    "S = everyone that walks by me"
   ]
  },
  {
   "cell_type": "markdown",
   "metadata": {},
   "source": [
    "50/100"
   ]
  },
  {
   "cell_type": "markdown",
   "metadata": {},
   "source": [
    "* P(B|A) = P(B &A)/ P(A) = 40 /50\n",
    "* A = over 65\n",
    "* B = respond"
   ]
  },
  {
   "cell_type": "markdown",
   "metadata": {},
   "source": [
    "$$ P(B|A) = \\frac{P(A \\cap B)}{P(A)} $$\n",
    "\n",
    "> 1. What is the probability of two dice summing to four, given the first die is 2.\n",
    "\n",
    "How sample size is reduced, now that we know that the first die is a two\n",
    "\n",
    "(2, 1), (2, 2), (2, 3), (2, 4), (2, 5), (2, 6)\n",
    "\n",
    "\n",
    "\n",
    "* 1 \n",
    "* 2 -> 2\n",
    "* 3\n",
    "* 4\n",
    "* 5\n",
    "* 6\n"
   ]
  },
  {
   "cell_type": "markdown",
   "metadata": {},
   "source": [
    "From here we can get to chain rule by multiplying equation by P(A), so then \n",
    "\n",
    "$$\n",
    "P(E \\cap F) = P(F)P(E|F)\n",
    "$$\n",
    "\n",
    "\n",
    "* The chain rule states that the probability of observing events E and F is the probability of observing F, times the probability of observing E given that we observed F. \n",
    "\n",
    "> DNA Paternity Testing\n",
    "\n",
    "> * Child is born with, $B_{Aa}$\n",
    "* Mother has (A, A)\n",
    "* The big A, 100% came from the mother.\n",
    "\n",
    "* $D_1 = A, a$\n",
    "* $D_2 = a, a$\n",
    "* Now question is, what is the $P(D1|B_{Aa})$\n",
    "A,a"
   ]
  },
  {
   "cell_type": "markdown",
   "metadata": {},
   "source": [
    "> General version of the chain rule \n",
    ">* $P(E1, E2, E3) = P(E1)*P(E2|E1)*P(E3|E1, E2)...$\n",
    "\n",
    "E, M, S, D\n",
    "\n",
    "(1/4)*(1/3)*(1/2)*1"
   ]
  },
  {
   "cell_type": "markdown",
   "metadata": {},
   "source": [
    "### Conditional Probability"
   ]
  },
  {
   "cell_type": "markdown",
   "metadata": {},
   "source": [
    "### A problem \n",
    "\n",
    "Let's continue on with our marketing campaign idea.  \n",
    "\n",
    "* Flatiron randomly chooses 40 of every 100 dormant users (those inactive between 10 and 30 days).  This is what happened in the last batch.\n",
    "* Of those called, 30 registered, and 10 left.\n",
    "* Of those we didn't call, 40 registered.\n",
    "\n",
    "Assuming that this campaign represents the true probability of how users respond to calls in the long run, answer the following questions:\n",
    "\n",
    "* What is probability a dormant user registers (assuming the same percentage of dormant users are called in the future).  \n",
    "* By what percentage does the call increase or decrease the probability of a registration. \n",
    "\n",
    "![](./resources/two-way.png)"
   ]
  },
  {
   "cell_type": "markdown",
   "metadata": {},
   "source": [
    "### Bayes formula\n",
    "\n",
    "1. NBA Players\n",
    "Our sample is the population of men's college basketball players.  \n",
    "P(B) = P(NBA) \n",
    "P(A|B) = P(good js| NBA)\n",
    "\n",
    "P(B| A) = P(A & B)/P(A)\n",
    "\n",
    "P(A & B) = P(B)*P(A|B) = .006*.8\n",
    "P(A) = P(Good shot) = P(Good shot& NBA) + P(Good shot & No NBA) = P(B)*P(A|B) + P(A|!B)*P(!B)\n",
    "\n",
    "* P(NBA) = .006\n",
    "* P(Good jump shot among college basketball) = .2\n",
    "* P(Good jump shot among nba) = .8\n",
    "\n",
    "$P(B|A) = P(A & B)/P(A)$\n",
    "\n",
    "$\\frac{P(B)*P(A|B)}{P(A)}$\n",
    "\n",
    "$\\frac{P(B)*P(A|B)}{P(B)*P(A|B) + P(A|!B)*P(!B)}$\n",
    "\n",
    "$\\frac{(.006*.8)}{(.006*.8) + (.2*.994)}$"
   ]
  },
  {
   "cell_type": "markdown",
   "metadata": {},
   "source": [
    "\n",
    "2. Flatiron school wants to provide extra help to those who apply to it's program.  It wants to target it's extra help to those who are likely to enroll.  Only 10 percent of students who apply to it's program enroll.  It looks at the enrolled students and finds that 85% are under the age of 40.  So it concludes that applicants are more likely to enroll if they are over the age of 40.  What is the flaw in Flatiron school's reasoning?\n",
    "\n",
    "\n",
    "\n",
    "\n",
    "\n",
    "\n",
    "\n",
    "Now we are told that the probability of an applicant being under 40 is 95 percent.  What is the probability an applicant over 40 percent enrolls.\n",
    "\n",
    "3. Diabetes testing example \n",
    "\n",
    "What is the probability that have Diabetes given that you test positive.  This is what you want to know, but very hard to know. What is the chance that you actually have diabetes given that the test comes back positive? \n",
    "\n",
    "* Test is 98 percent effective at coming up positive, if you have diabetes\n",
    "* Test will report diabetes even when someone does not have it 1 percent of the time\n",
    "* .05 percent  of everyone in the US population has diabetes\n",
    "\n"
   ]
  },
  {
   "cell_type": "markdown",
   "metadata": {},
   "source": [
    "### Independent Events"
   ]
  },
  {
   "cell_type": "markdown",
   "metadata": {},
   "source": [
    "Definition. Suppose (Ω, P) is a probability space and A and B are events. We say A and\n",
    "B are independent if \n",
    "\n",
    "$$\n",
    "P(A \\cap B) = P(A)P(B)\n",
    "$$"
   ]
  },
  {
   "cell_type": "markdown",
   "metadata": {},
   "source": [
    "Note also that independence means that P(A) = P(A|B) and P(B) = P(B|A)"
   ]
  }
 ],
 "metadata": {
  "kernelspec": {
   "display_name": "Python 3",
   "language": "python",
   "name": "python3"
  },
  "language_info": {
   "codemirror_mode": {
    "name": "ipython",
    "version": 3
   },
   "file_extension": ".py",
   "mimetype": "text/x-python",
   "name": "python",
   "nbconvert_exporter": "python",
   "pygments_lexer": "ipython3",
   "version": "3.6.5"
  }
 },
 "nbformat": 4,
 "nbformat_minor": 2
}

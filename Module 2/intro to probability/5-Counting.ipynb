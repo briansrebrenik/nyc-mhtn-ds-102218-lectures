{
 "cells": [
  {
   "cell_type": "markdown",
   "metadata": {},
   "source": [
    "### Sets"
   ]
  },
  {
   "cell_type": "markdown",
   "metadata": {},
   "source": [
    "* Read the wikipedia article on sets, come up with some examples of some use cases for both the inclusion exclusion principle, and cartesian products [sets wikipedia](https://en.wikipedia.org/wiki/Set_(mathematics)\n",
    "\n",
    "* Now consider the [rule of sum](https://en.wikipedia.org/wiki/Rule_of_sum) and the [rule of product](https://en.wikipedia.org/wiki/Rule_of_product).  How do these relate to the inclusion exclusion principle, and set multiplication above?"
   ]
  },
  {
   "cell_type": "markdown",
   "metadata": {},
   "source": [
    "* Count up the number of true, false values in an array"
   ]
  },
  {
   "cell_type": "markdown",
   "metadata": {},
   "source": [
    "### Why we need to talk about counting\n",
    "\n",
    "A key question of probability, is the probability assuming potential event has equal outcomes.  So to make this calculation, we need to at least be able to count up all of the different outcomes."
   ]
  },
  {
   "cell_type": "markdown",
   "metadata": {},
   "source": [
    "### Review \n",
    "\n",
    "* What is the inclusion exclusion principle?\n",
    "* What is the rule of Sum?\n",
    "* What is the rule of product? \n",
    "\n",
    "Give an example of when to use each - when do you use rule of sum vs rule of product?"
   ]
  },
  {
   "cell_type": "markdown",
   "metadata": {},
   "source": [
    "What is a permutation?  \n",
    "\n",
    "Five different potential modules, how many different ways can we order and choose 3 of them.  \n",
    "\n",
    "n!/(n - k)!\n",
    "* How is our approach for permutations an extension of the rule of product."
   ]
  },
  {
   "cell_type": "markdown",
   "metadata": {},
   "source": [
    "**Inclusion exclusion principle**\n",
    "\n",
    "In |A| + |B| each element of |A ∩ B| has been counted twice. To get the fair number\n",
    "of elements in |A ∪ B| we have to subtract |A ∩ B| from |A| + |B|.\n",
    "\n",
    "$A + B - A \\cap B $\n",
    "\n",
    "* Sum rule\n",
    "If an outcome is one of n options or m options, and only one of the two are possible.  And n and m do not overlap, then the total number of possible outcomes is n + m.\n",
    "\n",
    "If $A \\cap B = \\varnothing$ then $|A \\cup B| = |A| + |B|$"
   ]
  },
  {
   "cell_type": "markdown",
   "metadata": {},
   "source": [
    "### product rule \n",
    "\n",
    "* Experiment is an ordered pair of outcomes, and first part results in m outcomes and second part can result n outcomes **regardless of the outcome of the first part**.  Then total number of outcomes is m*n.\n",
    "* If each solution is an ordered pair (x, y) and there are n1 choices for x and n2 choices for y, then the total number of solutions is n1 · n2"
   ]
  },
  {
   "cell_type": "markdown",
   "metadata": {},
   "source": [
    "** Key takeaway.  We use the rule of sums when we have **or** questions.  We use the rule of products when we have **and** questions.  Another way is when we think of our decision as a list of tuples.**"
   ]
  },
  {
   "cell_type": "markdown",
   "metadata": {},
   "source": [
    "### Permutations\n",
    "\n",
    "A k-permutation is an **ordered** k-tuple of distinct objects."
   ]
  },
  {
   "cell_type": "markdown",
   "metadata": {},
   "source": [
    "\n",
    "\n",
    "> Flatiron school has six teachers and four separate courses: data science, web, pt-ds, and pt-web.  How many ways can the six teachers be assigned to the four courses?\n",
    "\n",
    "**$n P k = \\frac{n!}{(n - k)!} $**"
   ]
  },
  {
   "cell_type": "markdown",
   "metadata": {},
   "source": [
    "How many different ways can we select three of the five courses where order does not matter.\n",
    "\n",
    "E, S, ML, DL, P \n",
    "\n",
    "E, S, ML\n",
    "S, ML, DL\n",
    "ML, DL, P "
   ]
  },
  {
   "cell_type": "markdown",
   "metadata": {},
   "source": [
    "Consider that there are five courses, and we have three teachers.  How many different ways can we assign teachers to courses, where we care about which teacher is assigned which course.\n",
    "\n",
    "Now, we do not care which teacher is assigned which course.  "
   ]
  },
  {
   "cell_type": "markdown",
   "metadata": {},
   "source": [
    "### Combinations"
   ]
  },
  {
   "cell_type": "markdown",
   "metadata": {},
   "source": [
    "* So now let's do three choose two courses.  So we do not care about who is assigned what.  \n",
    "\n",
    "* And finally let's do 4 choose two courses.  \n",
    "\n",
    "$n!/r!(n-r)!$"
   ]
  },
  {
   "cell_type": "markdown",
   "metadata": {},
   "source": [
    "* What are all of ways I can select 3 of my 7 stats books to take on thanksgiving vacation."
   ]
  },
  {
   "cell_type": "markdown",
   "metadata": {},
   "source": [
    "\"bookeeper\" rule.  Think of the ten different ways to spell bookkeeper.  \n",
    "\n",
    "Think of this problem of we have ten different slots to place bookkeeper, and out of these 10 slots, choose 3 to place the e, and the order (of our choice) doesn't matter."
   ]
  }
 ],
 "metadata": {
  "kernelspec": {
   "display_name": "Python 3",
   "language": "python",
   "name": "python3"
  },
  "language_info": {
   "codemirror_mode": {
    "name": "ipython",
    "version": 3
   },
   "file_extension": ".py",
   "mimetype": "text/x-python",
   "name": "python",
   "nbconvert_exporter": "python",
   "pygments_lexer": "ipython3",
   "version": "3.7.0"
  }
 },
 "nbformat": 4,
 "nbformat_minor": 2
}

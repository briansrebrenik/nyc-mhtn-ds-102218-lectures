{
 "cells": [
  {
   "cell_type": "markdown",
   "metadata": {},
   "source": [
    "### Intro to probability"
   ]
  },
  {
   "cell_type": "markdown",
   "metadata": {},
   "source": [
    "* Being able to get a number from a vague statistic \n",
    "* How the formulas generalize to every situation ever \n",
    "\n",
    "* Number Outcomes that we consider an event /Sample Space"
   ]
  },
  {
   "cell_type": "markdown",
   "metadata": {},
   "source": [
    "Flatiron School decided to poll it's students about voting in the recent election.  \n",
    "\n",
    "There are 100 data science students and 300 web students at it's school.  A student can either be for or against tax cuts. \n",
    "\n",
    "* There are 70 data science students that are for tax cuts.\n",
    "* There are 60 web students that are for tax cuts."
   ]
  },
  {
   "cell_type": "markdown",
   "metadata": {},
   "source": [
    "A. We randomly select a student and see if he is for tax cuts. \n",
    "\n",
    "1. What is the sample space?\n",
    "\n",
    "In probability theory, the sample space of an experiment or random trial is the set of all possible outcomes or results of that experiment.\n",
    "\n",
    "F = {'for', 'against'}\n",
    "\n",
    "2. What is the event set?\n",
    "\n",
    "E = {'for'}\n",
    "3. What is the probability that we select someone who is for tax cuts?"
   ]
  },
  {
   "cell_type": "markdown",
   "metadata": {},
   "source": [
    "B. We randomly select a student and see if he is a data science student.\n",
    "\n",
    "1. What is the sample space?\n",
    "2. What is the event set?\n",
    "3. What is the probability that we select someone who is a data science students?"
   ]
  },
  {
   "cell_type": "code",
   "execution_count": null,
   "metadata": {},
   "outputs": [],
   "source": [
    "Roll a single dice: \n",
    "    \n",
    "{1, 2, 3, 4, 5, 6}\n",
    "{1, 2, 3, 4, 5, 6}\n",
    "\n",
    "Roll two dice\n",
    "\n",
    "{2, 3, 4}"
   ]
  },
  {
   "cell_type": "markdown",
   "metadata": {},
   "source": [
    "C. Come up with your own\n",
    "\n",
    "1. Definitions of a sample space\n",
    "2. Definitions of an event set\n",
    "3. Explain this definition of probability:\n",
    "\n",
    "\n",
    "* The **definition of probability**, where e is an event, and n is the number of times we run an experiment.\n",
    "\n",
    "$P(E) =  lim_{n\\to\\infty} \\frac{n(e)}{n} $\n"
   ]
  },
  {
   "cell_type": "markdown",
   "metadata": {},
   "source": [
    "** IF selecting each student Equally likely, Size E/Sample space"
   ]
  },
  {
   "cell_type": "markdown",
   "metadata": {},
   "source": [
    "There are 100 data science students and 300 web students at it's school. A student can either be for or against tax cuts.\n",
    "\n",
    "There are 70 data science students that are for tax cuts.\n",
    "There are 60 web students that are for tax cuts.\n",
    "     FTC   ~FTC\n",
    "DS   70      30   100 \n",
    "\n",
    "WEB  60      240   300\n",
    "\n",
    "     130     270   400"
   ]
  },
  {
   "cell_type": "code",
   "execution_count": null,
   "metadata": {},
   "outputs": [],
   "source": [
    "sample space = {'for tax cuts', 'against tax cuts'}\n",
    "event_set = {'for tax cuts'}\n",
    "probablity_space = {'for tax cuts': .325, 'against tax cuts': .675}\n"
   ]
  },
  {
   "cell_type": "markdown",
   "metadata": {},
   "source": [
    "### Essential Definitions \n",
    "\n",
    "* **Sample space**: All possible outcomes of an experiment "
   ]
  },
  {
   "cell_type": "markdown",
   "metadata": {},
   "source": [
    "* **Event set**: A subset of the sample that we consider an event  \n",
    "    * It is an outcome that we care about "
   ]
  },
  {
   "cell_type": "markdown",
   "metadata": {},
   "source": [
    "* The **definition of probability**\n",
    "\n",
    "$P(E) =  lim_{n\\to\\infty} \\frac{n(e)}{n} $"
   ]
  },
  {
   "cell_type": "code",
   "execution_count": null,
   "metadata": {},
   "outputs": [],
   "source": [
    "event = \n",
    "\n",
    "exp no.  TC\n",
    "1.        1\n",
    "2.        0\n",
    "\n",
    "\n",
    "(1 + 0)/2"
   ]
  },
  {
   "cell_type": "markdown",
   "metadata": {},
   "source": [
    "### Axioms about this  \n",
    "\n",
    "* P(E) must be btwn 0 and 1 \n",
    "* A percentage is just a probability times by 100 \n",
    "* P(S) = 1 \n",
    "\n",
    "$P(E) = 1 – P(E^c)$"
   ]
  },
  {
   "cell_type": "markdown",
   "metadata": {},
   "source": [
    "### Equally likely outcomes "
   ]
  },
  {
   "cell_type": "markdown",
   "metadata": {},
   "source": [
    "* If all outcomes in the sample set (s) are equally likely, then the probability of an event is E/S \n",
    "\n",
    "1, 2, 3, 4, 5, 6\n",
    "\n",
    "* And probability of each outcome is 1/sample space "
   ]
  },
  {
   "cell_type": "markdown",
   "metadata": {},
   "source": [
    "### Intro to Conditional Probability"
   ]
  },
  {
   "cell_type": "markdown",
   "metadata": {},
   "source": [
    "Flatiron School decided to poll it's students about voting in the recent election.\n",
    "\n",
    "There are 100 data science students and 300 web students at it's school.  A student can either be for or against higher taxes. \n",
    "\n",
    "* There are 70 data science students that are for tax cuts.\n",
    "* There are 60 web students that are for tax cuts."
   ]
  },
  {
   "cell_type": "markdown",
   "metadata": {},
   "source": [
    "Now if we randomly choose a student who is against tax cuts, what is the probability that they are a data science student?"
   ]
  },
  {
   "cell_type": "markdown",
   "metadata": {},
   "source": [
    "       FTC   ~FTC\n",
    "     \n",
    "* DS   70      30   100 \n",
    "\n",
    "* WEB  60      240   300\n",
    "\n",
    "       130     270   400"
   ]
  },
  {
   "cell_type": "markdown",
   "metadata": {},
   "source": [
    "P(DS | ~FTC) = 30/270\n",
    "\n",
    "(DS & ~FTC)/~FTC\n",
    "\n",
    "amount in event space/amount in sample space\n",
    "\n",
    "* P(E | F) = P(E&F)/P(F)"
   ]
  },
  {
   "cell_type": "markdown",
   "metadata": {},
   "source": [
    "### Something nice"
   ]
  },
  {
   "cell_type": "markdown",
   "metadata": {},
   "source": [
    "![](./two-way-table.png)"
   ]
  },
  {
   "cell_type": "code",
   "execution_count": null,
   "metadata": {},
   "outputs": [],
   "source": [
    "       FTC   ~FTC\n",
    "     \n",
    "* DS   70      30   100 \n",
    "\n",
    "* ~DS  60      240   300\n",
    "\n",
    "       130     270   400"
   ]
  },
  {
   "cell_type": "markdown",
   "metadata": {},
   "source": [
    "General rule of conditional probability: \n",
    "\n",
    "* P(E | F) = P(E&F)/P(F)\n",
    "\n",
    "\n",
    "P(F) P(E | F) = P(E&F)\n",
    "\n",
    "\n",
    "Chain rule: \n",
    "\n",
    "* P(E&F) = P(F) * P(E | F)\n",
    "\n",
    "\n",
    "Probability of drawing two aces, given that the first card is an ace.\n",
    "\n",
    "* P(E | F) = P(E&F)/P(F)\n",
    "P(F) = 4/52 = p(drawing first ace)\n",
    "P(E|F) = 3/51 = p(drawing second ace | drawn first ace)\n",
    "\n"
   ]
  },
  {
   "cell_type": "markdown",
   "metadata": {},
   "source": [
    "\n",
    "Probability of drawing two aces, given that the first card is an ace.\n",
    "P(E) = probability of drawing the first ace\n",
    "P(F) = prob of drawing second ace\n",
    "\n",
    "P(E & F) = P(E) * P(F|E)"
   ]
  },
  {
   "cell_type": "code",
   "execution_count": null,
   "metadata": {},
   "outputs": [],
   "source": [
    "Probability rolling (2, 7) = P(2) * P(7|2)"
   ]
  },
  {
   "cell_type": "code",
   "execution_count": null,
   "metadata": {},
   "outputs": [],
   "source": [
    "P(2, 7) = P(2)P(7 | 2)"
   ]
  },
  {
   "cell_type": "markdown",
   "metadata": {},
   "source": [
    "### Practice \n",
    "\n",
    "* Ted and Alice have two children. Given they have a boy. What is the probability they have two boys?"
   ]
  },
  {
   "cell_type": "markdown",
   "metadata": {},
   "source": [
    "![](./two-way-table.png)"
   ]
  },
  {
   "cell_type": "code",
   "execution_count": null,
   "metadata": {},
   "outputs": [],
   "source": [
    "P(A | B) = P(A & B)/P(B)"
   ]
  },
  {
   "cell_type": "markdown",
   "metadata": {},
   "source": [
    "### Independence\n",
    "\n",
    "Two definitions for independence:\n",
    "\n",
    "1. P(A) = P(A|B)\n",
    "2. P(A & B) = P(A) * P(B) "
   ]
  },
  {
   "cell_type": "markdown",
   "metadata": {},
   "source": [
    "* Why this works\n",
    "\n",
    "* A = first roll is a number 1  \n",
    "* B = sum of dies equalling 7"
   ]
  },
  {
   "cell_type": "code",
   "execution_count": null,
   "metadata": {},
   "outputs": [],
   "source": [
    "P(B) = 1\n",
    "P(A | B) = 1/6"
   ]
  },
  {
   "cell_type": "code",
   "execution_count": null,
   "metadata": {},
   "outputs": [],
   "source": [
    "We're about to roll two dice\n",
    "\n",
    "P(A) = 6/36 = 1/6\n",
    "P(B) = "
   ]
  },
  {
   "cell_type": "markdown",
   "metadata": {},
   "source": [
    "### Independence Example \n",
    "\n",
    "Population 10,000 people:\n",
    "\n",
    "Of those, 300 have malaria (M) and 200 have bacterial infection. 6 people have both.\n",
    "\n",
    "Are the probabilities of having malaria and bacteria independent.\n",
    "\n",
    "* Are M and B independent?"
   ]
  },
  {
   "cell_type": "markdown",
   "metadata": {},
   "source": [
    "P(A & B) = P(A) * P(B)\n",
    "\n",
    "A = malaria\n",
    "B = bacteria\n",
    "A & B = both\n",
    "P(A & B) = 6/10,000\n",
    "\n",
    "P(A) = 300/10,000 = 3/100\n",
    "P(B) 2/100\n",
    "\n",
    "\n",
    "\n",
    "2/100 * 3/100 = 6/10,000\n",
    "\n",
    "P(A) = P(A|B)\n",
    "100 = 6/ 200\n",
    "\n",
    "\n",
    "\n",
    "\n",
    "\n",
    "\n",
    "\n",
    "P(B) = P(B|A)\n",
    "\n"
   ]
  },
  {
   "cell_type": "markdown",
   "metadata": {},
   "source": [
    "Two definitions for independence:\n",
    "\n",
    "1. P(A) = P(A|B)\n",
    "2. P(A & B) = P(A) * P(B) "
   ]
  },
  {
   "cell_type": "markdown",
   "metadata": {},
   "source": [
    "### Bayes formula\n",
    "\n",
    "Flatiron School is trying to determine the likelihood that a visitor to it's website enrolls in Flatiron School.  \n",
    "\n",
    "* There are 50 non-millenials that enroll.\n",
    "* There are 80 millenials that enroll."
   ]
  },
  {
   "cell_type": "code",
   "execution_count": null,
   "metadata": {},
   "outputs": [],
   "source": []
  },
  {
   "cell_type": "code",
   "execution_count": null,
   "metadata": {},
   "outputs": [],
   "source": [
    "P(Enroll | Millenial )\n",
    "\n",
    "P(Millenial |Enroll) = 80/130"
   ]
  },
  {
   "cell_type": "code",
   "execution_count": null,
   "metadata": {},
   "outputs": [],
   "source": [
    "How many total millenials visit the website"
   ]
  },
  {
   "cell_type": "code",
   "execution_count": null,
   "metadata": {},
   "outputs": [],
   "source": [
    "P(Enroll | Millenial ) = P(E & M)/P(M)\n",
    "\n",
    "P(E | M ) = P(E & M)/P(M) = P(E) *P(M|E)/P(M)"
   ]
  },
  {
   "cell_type": "markdown",
   "metadata": {},
   "source": [
    "### The formula\n",
    "\n",
    "$ P(A|B) = \\frac{P(B|A) * P(A)}{P(B|A) * P(A) + P(B|A^c) * P(A^c)}$"
   ]
  },
  {
   "cell_type": "markdown",
   "metadata": {},
   "source": [
    "### Example 1"
   ]
  },
  {
   "cell_type": "markdown",
   "metadata": {},
   "source": [
    "NBA Players Our sample is the population of men's college basketball players.\n",
    "\n",
    "* P(going to NBA) = .006\n",
    "* P(Good jump shot among college basketball not going to nba) = .2\n",
    "* P(Good jump shot among those going to nba) = .8"
   ]
  },
  {
   "cell_type": "markdown",
   "metadata": {},
   "source": [
    "P(NBA| Good shot)"
   ]
  },
  {
   "cell_type": "markdown",
   "metadata": {},
   "source": [
    "Example 2\n",
    "\n",
    "* You feel sick during Flatiron School.  You have a sore throat and muscle pain, and 90 percent of those with the flu have these symptoms.  \n",
    "\n",
    "1. Does this mean you have the flu?\n",
    "\n",
    "2. Now you discover only 5% of the population gets the flu in a year.  And 20% of people have these symptoms in a year.\n",
    "\n",
    "What is the probability you have the flu?"
   ]
  },
  {
   "cell_type": "markdown",
   "metadata": {},
   "source": [
    "### Example 2\n",
    "\n",
    "What is the probability that have Diabetes given that you test positive. \n",
    "\n",
    "Test is 98 percent effective at coming up positive, if you have diabetes\n",
    "Test will report diabetes even when someone does not have it 1 percent of the time\n",
    ".05 percent (1/2 of one percent) of everyone in the US population has diabetes"
   ]
  }
 ],
 "metadata": {
  "kernelspec": {
   "display_name": "Python 3",
   "language": "python",
   "name": "python3"
  },
  "language_info": {
   "codemirror_mode": {
    "name": "ipython",
    "version": 3
   },
   "file_extension": ".py",
   "mimetype": "text/x-python",
   "name": "python",
   "nbconvert_exporter": "python",
   "pygments_lexer": "ipython3",
   "version": "3.7.0"
  }
 },
 "nbformat": 4,
 "nbformat_minor": 2
}

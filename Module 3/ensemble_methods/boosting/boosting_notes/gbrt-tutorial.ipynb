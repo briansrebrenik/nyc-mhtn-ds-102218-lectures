








<!DOCTYPE html>
<html lang="en">

<head>
  <meta charset="utf-8">
  <title>Jupyter Notebook Viewer</title>
  <meta name="viewport" content="width=device-width, initial-scale=1.0">
  <meta name="description" content="">
  <meta name="author" content="">
  
  <meta name="robots" content="noindex,nofollow">
  

  <!--NEW RELIC Start Perf Measurement-->
  
  <!--NREND-->

  <!-- Le styles -->
  <link href="/static/build/styles.css?v=f2b0b1b8f36a035146061040aa080202" rel="stylesheet">

  <!-- Le HTML5 shim, for IE6-8 support of HTML5 elements -->
  <!--[if lt IE 9]>
    <script src="http://html5shim.googlecode.com/svn/trunk/html5.js"></script>
  <![endif]-->

  <!-- Le fav and touch icons -->
  <link rel="shortcut icon" href="/static/ico/ipynb_icon_16x16.png">
  <link rel="apple-touch-icon-precomposed" sizes="144x144"
        href="/static/ico/apple-touch-icon-144-precomposed.png?v=5a3c9ede93e2a8b8ea9e3f8f3da1a905">
  <link rel="apple-touch-icon-precomposed" sizes="114x114"
        href="/static/ico/apple-touch-icon-114-precomposed.png?v=45d86fc8f24dc00638035e1dd7a6d898">
  <link rel="apple-touch-icon-precomposed" sizes="72x72"
        href="/static/ico/apple-touch-icon-72-precomposed.png?v=540b5eb0f3cfd25f1439d1c9bd30e15f">
  <link rel="apple-touch-icon-precomposed"
        href="/static/ico/apple-touch-icon-57-precomposed.png?v=225f0590e187e1458625654f10a28f56">
  
  

  

  
  <meta name="twitter:card" content="summary">
  <meta name="twitter:title" content="Notebook on nbviewer">
  <meta name="twitter:description" content="Check out this Jupyter notebook!">

  
  <meta name="twitter:domain" content="nbviewer.jupyter.org">
  <meta name="twitter:image:src" content="http://ipython.org/ipython-doc/dev/_images/ipynb_icon_128x128.png">

  
    <link href="/static/build/notebook.css?v=81e0139371f853f9af20339dc0bcfaa6" rel="stylesheet">
  

  

  
    <script src="https://cdnjs.cloudflare.com/ajax/libs/mathjax/2.7.1/MathJax.js?config=TeX-AMS_HTML" type="text/javascript">
    </script>
    <script type="text/javascript">
      init_mathjax = function() {
        if (window.MathJax) {
          // MathJax loaded
          MathJax.Hub.Config({
            TeX: {
              equationNumbers: {
                autoNumber: "AMS",
                useLabelIds: true
              }
            },
            tex2jax: {
              inlineMath: [ ['$','$'], ["\\(","\\)"] ],
              displayMath: [ ['$$','$$'], ["\\[","\\]"] ],
              processEscapes: true,
              processEnvironments: true
            },
            displayAlign: 'center',
            "HTML-CSS": {
              styles: {'.MathJax_Display': {"margin": 0}},
              linebreaks: { automatic: true }
            }
          });
          MathJax.Hub.Queue(["Typeset", MathJax.Hub]);
        }
      }
      init_mathjax();
    </script>
  

  
    <script>
      (function() {
        function addWidgetsRenderer() {
          var mimeElement = document.querySelector('script[type="application/vnd.jupyter.widget-view+json"]');
          var scriptElement = document.createElement('script');
          var widgetRendererSrc = 'https://unpkg.com/@jupyter-widgets/html-manager@*/dist/embed-amd.js';
          var widgetState;

          try {
            widgetState = mimeElement && JSON.parse(mimeElement.innerHTML);

            if (widgetState && (widgetState.version_major < 2 || !widgetState.version_major)) {
              widgetRendererSrc = 'https://unpkg.com/jupyter-js-widgets@*/dist/embed.js';
            }
          } catch(e) {}

          scriptElement.src = widgetRendererSrc;
          document.body.appendChild(scriptElement);
        }

        document.addEventListener('DOMContentLoaded', addWidgetsRenderer);
      }());
    </script>
  

</head>

<body class="nbviewer">

  <!-- These are loaded at the top of the body so they are available to
       notebook cells when they are loaded below. -->
  <script src="/static/components/jquery/dist/jquery.min.js?v=a09e13ee94d51c524b7e2a728c7d4039"></script>
  <script src="/static/components/requirejs/require.js?v=6da8be361b9ee26c5e721e76c6d4afce"></script>
  <script src="/static/components/moment/min/moment.min.js?v=89f87298ad94aa1e6b92f42eb66da043"></script>
<!-- Navbar
================================================== -->
  <nav id="menubar" class="navbar navbar-default navbar-fixed-top" data-spy="affix">
    <div class="container">
      <div class="navbar-header">
        <button type="button" class="navbar-toggle collapsed" data-toggle="collapse" data-target=".navbar-collapse">
          <span class="sr-only">Toggle navigation</span>
          <i class="fa fa-bars"></i>
        </button>
        <a class="navbar-brand" href="/">
          <img src="/static/img/nav_logo.svg?v=479cefe8d932fb14a67b93911b97d70f" width="159"/>
        </a>
      </div>

      <div class="collapse navbar-collapse">
        <ul class="nav navbar-nav navbar-right">
          <li>
            <a class="active" href="http://jupyter.org">JUPYTER</a>
          </li>
          <li>
    <a href="/faq" title="FAQ" >
      
        <span>FAQ</span>
      
    </a>
  </li>

          
  
    
  
    
      
        <li>
    <a href="/format/script/github/pprett/pydata-gbrt-tutorial/blob/master/gbrt-tutorial.ipynb" title="View as Code" >
      <span class="fa fa-code fa-2x menu-icon"></span>
      <span class="menu-text">View as Code</span>
    </a>
  </li>
      
    
  

  

  
    <li>
    <a href="https://github.com/pprett/pydata-gbrt-tutorial/blob/master/gbrt-tutorial.ipynb" title="View on GitHub" >
      <span class="fa fa-github fa-2x menu-icon"></span>
      <span class="menu-text">View on GitHub</span>
    </a>
  </li>
  

  
    <li>
    <a href="https://mybinder.org/v2/gh/pprett/pydata-gbrt-tutorial/master?filepath=gbrt-tutorial.ipynb" title="Execute on Binder" >
      <span class="fa fa-icon-binder fa-2x menu-icon"></span>
      <span class="menu-text">Execute on Binder</span>
    </a>
  </li>
  

  <li>
    <a href="https://raw.githubusercontent.com/pprett/pydata-gbrt-tutorial/master/gbrt-tutorial.ipynb" title="Download Notebook" download>
      <span class="fa fa-download fa-2x menu-icon"></span>
      <span class="menu-text">Download Notebook</span>
    </a>
  </li>

        </ul>
      </div><!-- /.navbar-collapse -->
      
      
    </div>
  </nav>

  <div class="container container-main">
    
  
  <ol class="breadcrumb">
    
      <li>
        <a href="/github/pprett/pydata-gbrt-tutorial/tree/master">pydata-gbrt-tutorial</a>
      </li>
    
      <li>
        <a href="/github/pprett/pydata-gbrt-tutorial/tree/master/gbrt-tutorial.ipynb">gbrt-tutorial.ipynb</a>
      </li>
    
  </ol>
  
  <div id="notebook">
    <div id="notebook-container">
      
<div class="cell border-box-sizing text_cell rendered"><div class="prompt input_prompt">
</div>
<div class="inner_cell">
<div class="text_cell_render border-box-sizing rendered_html">
<style>
@font-face {
  font-family: CharisSILW;
  src: url(files/CharisSIL-R.woff);
}
@font-face {
  font-family: CharisSILW;
  font-style: italic;
  src: url(files/CharisSIL-I.woff);
}
@font-face {
    font-family: CharisSILW;
    font-weight: bold;
    src: url(files/CharisSIL-B.woff);
}
@font-face {
    font-family: CharisSILW;
    font-weight: bold;
    font-style: italic;
    src: url(files/CharisSIL-BI.woff);
}

div.cell, div.text_cell_render{
    max-width:1000px;
}

h1 {
    text-align:center;
    font-family: Charis SIL, CharisSILW, serif;
}

.rendered_html {
    font-size: 130%;
    line-height: 1.3;
}

.rendered_html li {
    line-height: 2;
}

.rendered_html h1{
    line-height: 1.3;
}

.rendered_html h2{
    line-height: 1.2;
}

.rendered_html h3{
    line-height: 1.0;
}

.text_cell_render {
    font-family: Charis SIL, CharisSILW, serif;
    line-height: 145%;
}

li li {
    font-size: 85%;
}
</style>
</div>
</div>
</div>
<div class="cell border-box-sizing text_cell rendered"><div class="prompt input_prompt">
</div>
<div class="inner_cell">
<div class="text_cell_render border-box-sizing rendered_html">
<h1 id="Gradient-Boosted-Regression-Trees">Gradient Boosted Regression Trees<a class="anchor-link" href="#Gradient-Boosted-Regression-Trees">&#182;</a></h1><p><img src="sklearn-logo.png" /></p>

</div>
</div>
</div>
<div class="cell border-box-sizing text_cell rendered"><div class="prompt input_prompt">
</div>
<div class="inner_cell">
<div class="text_cell_render border-box-sizing rendered_html">
<h2 id="Scikit-learn">Scikit-learn<a class="anchor-link" href="#Scikit-learn">&#182;</a></h2><ul>
<li>Easy-to-use Machine Learning toolkit</li>
<li>Classical, well-established machine learning algorithms</li>
<li>BSD 3 license</li>
</ul>
<h3 id="Estimator">Estimator<a class="anchor-link" href="#Estimator">&#182;</a></h3><p>"<em>An estimator is any object that learns from data; it may be a classification, regression or clustering algorithm or a transformer that extracts/filters useful features from raw data.</em>"</p>

</div>
</div>
</div>
<div class="cell border-box-sizing code_cell rendered">
<div class="input">
<div class="prompt input_prompt">In&nbsp;[1]:</div>
<div class="inner_cell">
    <div class="input_area">
<div class=" highlight hl-ipython3"><pre><span></span><span class="k">class</span> <span class="nc">Estimator</span><span class="p">(</span><span class="nb">object</span><span class="p">):</span>
  
    <span class="k">def</span> <span class="nf">fit</span><span class="p">(</span><span class="bp">self</span><span class="p">,</span> <span class="n">X</span><span class="p">,</span> <span class="n">y</span><span class="o">=</span><span class="kc">None</span><span class="p">):</span>
        <span class="sd">&quot;&quot;&quot;Fits estimator to data. &quot;&quot;&quot;</span>
        <span class="c1"># set state of ``self``</span>
        <span class="k">return</span> <span class="bp">self</span>
            
    <span class="k">def</span> <span class="nf">predict</span><span class="p">(</span><span class="bp">self</span><span class="p">,</span> <span class="n">X</span><span class="p">):</span>
        <span class="sd">&quot;&quot;&quot;Predict response of ``X``. &quot;&quot;&quot;</span>
        <span class="c1"># compute predictions ``pred``</span>
        <span class="k">return</span> <span class="n">pred</span>
</pre></div>

</div>
</div>
</div>

</div>
<div class="cell border-box-sizing text_cell rendered"><div class="prompt input_prompt">
</div>
<div class="inner_cell">
<div class="text_cell_render border-box-sizing rendered_html">
<p>Scikit-learn provides two estimators for gradient boosting: <code>GradientBoostingClassifier</code> and <code>GradientBoostingRegressor</code>, both are located in the <code>sklearn.ensemble</code> package:</p>

</div>
</div>
</div>
<div class="cell border-box-sizing code_cell rendered">
<div class="input">
<div class="prompt input_prompt">In&nbsp;[2]:</div>
<div class="inner_cell">
    <div class="input_area">
<div class=" highlight hl-ipython3"><pre><span></span><span class="kn">from</span> <span class="nn">sklearn.ensemble</span> <span class="k">import</span> <span class="n">GradientBoostingClassifier</span>
<span class="kn">from</span> <span class="nn">sklearn.ensemble</span> <span class="k">import</span> <span class="n">GradientBoostingRegressor</span>
</pre></div>

</div>
</div>
</div>

</div>
<div class="cell border-box-sizing text_cell rendered"><div class="prompt input_prompt">
</div>
<div class="inner_cell">
<div class="text_cell_render border-box-sizing rendered_html">
<p>Estimators support arguments to control the fitting behaviour -- these arguments are often called <em>hyperparameters</em>. Among the most important ones for GBRT are:</p>
<ul>
<li>number of regression trees (<code>n_estimators</code>)</li>
<li>depth of each individual tree (<code>max_depth</code>)</li>
<li>loss function (<code>loss</code>)</li>
</ul>
<p>For example if you want to fit a regression model with 100 trees of depth 3 using least-squares:</p>

</div>
</div>
</div>
<div class="cell border-box-sizing code_cell rendered">
<div class="input">
<div class="prompt input_prompt">In&nbsp;[3]:</div>
<div class="inner_cell">
    <div class="input_area">
<div class=" highlight hl-ipython3"><pre><span></span><span class="n">est</span> <span class="o">=</span> <span class="n">GradientBoostingRegressor</span><span class="p">(</span><span class="n">n_estimators</span><span class="o">=</span><span class="mi">100</span><span class="p">,</span> <span class="n">max_depth</span><span class="o">=</span><span class="mi">3</span><span class="p">,</span> <span class="n">loss</span><span class="o">=</span><span class="s1">&#39;ls&#39;</span><span class="p">)</span>
</pre></div>

</div>
</div>
</div>

</div>
<div class="cell border-box-sizing code_cell rendered">
<div class="input">
<div class="prompt input_prompt">In&nbsp;[4]:</div>
<div class="inner_cell">
    <div class="input_area">
<div class=" highlight hl-ipython3"><pre><span></span>est<span class="o">?</span>
</pre></div>

</div>
</div>
</div>

</div>
<div class="cell border-box-sizing text_cell rendered"><div class="prompt input_prompt">
</div>
<div class="inner_cell">
<div class="text_cell_render border-box-sizing rendered_html">
<p>Here is an self-contained example that shows how to fit a <code>GradientBoostingClassifier</code> to a synthetic dataset:</p>

</div>
</div>
</div>
<div class="cell border-box-sizing code_cell rendered">
<div class="input">
<div class="prompt input_prompt">In&nbsp;[5]:</div>
<div class="inner_cell">
    <div class="input_area">
<div class=" highlight hl-ipython3"><pre><span></span><span class="kn">from</span> <span class="nn">sklearn.datasets</span> <span class="k">import</span> <span class="n">make_hastie_10_2</span>
<span class="kn">from</span> <span class="nn">sklearn.cross_validation</span> <span class="k">import</span> <span class="n">train_test_split</span>

<span class="c1"># generate synthetic data from ESLII - Example 10.2</span>
<span class="n">X</span><span class="p">,</span> <span class="n">y</span> <span class="o">=</span> <span class="n">make_hastie_10_2</span><span class="p">(</span><span class="n">n_samples</span><span class="o">=</span><span class="mi">5000</span><span class="p">)</span>
<span class="n">X_train</span><span class="p">,</span> <span class="n">X_test</span><span class="p">,</span> <span class="n">y_train</span><span class="p">,</span> <span class="n">y_test</span> <span class="o">=</span> <span class="n">train_test_split</span><span class="p">(</span><span class="n">X</span><span class="p">,</span> <span class="n">y</span><span class="p">)</span>

<span class="c1"># fit estimator</span>
<span class="n">est</span> <span class="o">=</span> <span class="n">GradientBoostingClassifier</span><span class="p">(</span><span class="n">n_estimators</span><span class="o">=</span><span class="mi">200</span><span class="p">,</span> <span class="n">max_depth</span><span class="o">=</span><span class="mi">3</span><span class="p">)</span>
<span class="n">est</span><span class="o">.</span><span class="n">fit</span><span class="p">(</span><span class="n">X_train</span><span class="p">,</span> <span class="n">y_train</span><span class="p">)</span>

<span class="c1"># predict class labels</span>
<span class="n">pred</span> <span class="o">=</span> <span class="n">est</span><span class="o">.</span><span class="n">predict</span><span class="p">(</span><span class="n">X_test</span><span class="p">)</span>

<span class="c1"># score on test data (accuracy)</span>
<span class="n">acc</span> <span class="o">=</span> <span class="n">est</span><span class="o">.</span><span class="n">score</span><span class="p">(</span><span class="n">X_test</span><span class="p">,</span> <span class="n">y_test</span><span class="p">)</span>
<span class="nb">print</span><span class="p">(</span><span class="s1">&#39;ACC: </span><span class="si">%.4f</span><span class="s1">&#39;</span> <span class="o">%</span> <span class="n">acc</span><span class="p">)</span>

<span class="c1"># predict class probabilities</span>
<span class="n">est</span><span class="o">.</span><span class="n">predict_proba</span><span class="p">(</span><span class="n">X_test</span><span class="p">)[</span><span class="mi">0</span><span class="p">]</span>
</pre></div>

</div>
</div>
</div>

<div class="output_wrapper">
<div class="output">


<div class="output_area">

<div class="prompt"></div>


<div class="output_subarea output_stream output_stdout output_text">
<pre>ACC: 0.9224
</pre>
</div>
</div>

<div class="output_area">

<div class="prompt output_prompt">Out[5]:</div>




<div class="output_text output_subarea output_execute_result">
<pre>array([ 0.74435614,  0.25564386])</pre>
</div>

</div>

</div>
</div>

</div>
<div class="cell border-box-sizing text_cell rendered"><div class="prompt input_prompt">
</div>
<div class="inner_cell">
<div class="text_cell_render border-box-sizing rendered_html">
<p>The state of the estimator is stored in instance attributes that have a trailing underscore ('_'). For example, the sequence of regression trees (<code>DecisionTreeRegressor</code> objects) is stored in <code>est.estimators_</code>:</p>

</div>
</div>
</div>
<div class="cell border-box-sizing code_cell rendered">
<div class="input">
<div class="prompt input_prompt">In&nbsp;[6]:</div>
<div class="inner_cell">
    <div class="input_area">
<div class=" highlight hl-ipython3"><pre><span></span><span class="n">est</span><span class="o">.</span><span class="n">estimators_</span><span class="p">[</span><span class="mi">0</span><span class="p">,</span> <span class="mi">0</span><span class="p">]</span>
</pre></div>

</div>
</div>
</div>

<div class="output_wrapper">
<div class="output">


<div class="output_area">

<div class="prompt output_prompt">Out[6]:</div>




<div class="output_text output_subarea output_execute_result">
<pre>DecisionTreeRegressor(compute_importances=None,
           criterion=&lt;sklearn.tree._tree.FriedmanMSE object at 0x3e4eb28&gt;,
           max_depth=3, max_features=None, max_leaf_nodes=None,
           min_density=None, min_samples_leaf=1, min_samples_split=2,
           random_state=&lt;mtrand.RandomState object at 0x7feca45d6660&gt;,
           splitter=&lt;sklearn.tree._tree.PresortBestSplitter object at 0x3da15b0&gt;)</pre>
</div>

</div>

</div>
</div>

</div>
<div class="cell border-box-sizing text_cell rendered"><div class="prompt input_prompt">
</div>
<div class="inner_cell">
<div class="text_cell_render border-box-sizing rendered_html">
<h2 id="Gradient-Boosted-Regression-Trees-in-Practise">Gradient Boosted Regression Trees in Practise<a class="anchor-link" href="#Gradient-Boosted-Regression-Trees-in-Practise">&#182;</a></h2><h3 id="Function-approximation">Function approximation<a class="anchor-link" href="#Function-approximation">&#182;</a></h3><ul>
<li>Sinoide function + random gaussian noise </li>
<li>80 training (blue), 20 test (red) points</li>
</ul>

</div>
</div>
</div>
<div class="cell border-box-sizing code_cell rendered">
<div class="input">
<div class="prompt input_prompt">In&nbsp;[7]:</div>
<div class="inner_cell">
    <div class="input_area">
<div class=" highlight hl-ipython3"><pre><span></span><span class="o">%</span><span class="k">pylab</span> inline
<span class="kn">import</span> <span class="nn">numpy</span> <span class="k">as</span> <span class="nn">np</span>
<span class="kn">from</span> <span class="nn">sklearn.cross_validation</span> <span class="k">import</span> <span class="n">train_test_split</span>

<span class="n">FIGSIZE</span> <span class="o">=</span> <span class="p">(</span><span class="mi">11</span><span class="p">,</span> <span class="mi">7</span><span class="p">)</span>

<span class="k">def</span> <span class="nf">ground_truth</span><span class="p">(</span><span class="n">x</span><span class="p">):</span>
    <span class="sd">&quot;&quot;&quot;Ground truth -- function to approximate&quot;&quot;&quot;</span>
    <span class="k">return</span> <span class="n">x</span> <span class="o">*</span> <span class="n">np</span><span class="o">.</span><span class="n">sin</span><span class="p">(</span><span class="n">x</span><span class="p">)</span> <span class="o">+</span> <span class="n">np</span><span class="o">.</span><span class="n">sin</span><span class="p">(</span><span class="mi">2</span> <span class="o">*</span> <span class="n">x</span><span class="p">)</span>

<span class="k">def</span> <span class="nf">gen_data</span><span class="p">(</span><span class="n">n_samples</span><span class="o">=</span><span class="mi">200</span><span class="p">):</span>
    <span class="sd">&quot;&quot;&quot;generate training and testing data&quot;&quot;&quot;</span>
    <span class="n">np</span><span class="o">.</span><span class="n">random</span><span class="o">.</span><span class="n">seed</span><span class="p">(</span><span class="mi">15</span><span class="p">)</span>
    <span class="n">X</span> <span class="o">=</span> <span class="n">np</span><span class="o">.</span><span class="n">random</span><span class="o">.</span><span class="n">uniform</span><span class="p">(</span><span class="mi">0</span><span class="p">,</span> <span class="mi">10</span><span class="p">,</span> <span class="n">size</span><span class="o">=</span><span class="n">n_samples</span><span class="p">)[:,</span> <span class="n">np</span><span class="o">.</span><span class="n">newaxis</span><span class="p">]</span>
    <span class="n">y</span> <span class="o">=</span> <span class="n">ground_truth</span><span class="p">(</span><span class="n">X</span><span class="o">.</span><span class="n">ravel</span><span class="p">())</span> <span class="o">+</span> <span class="n">np</span><span class="o">.</span><span class="n">random</span><span class="o">.</span><span class="n">normal</span><span class="p">(</span><span class="n">scale</span><span class="o">=</span><span class="mi">2</span><span class="p">,</span> <span class="n">size</span><span class="o">=</span><span class="n">n_samples</span><span class="p">)</span>
    <span class="n">train_mask</span> <span class="o">=</span> <span class="n">np</span><span class="o">.</span><span class="n">random</span><span class="o">.</span><span class="n">randint</span><span class="p">(</span><span class="mi">0</span><span class="p">,</span> <span class="mi">2</span><span class="p">,</span> <span class="n">size</span><span class="o">=</span><span class="n">n_samples</span><span class="p">)</span><span class="o">.</span><span class="n">astype</span><span class="p">(</span><span class="n">np</span><span class="o">.</span><span class="n">bool</span><span class="p">)</span>
    <span class="n">X_train</span><span class="p">,</span> <span class="n">X_test</span><span class="p">,</span> <span class="n">y_train</span><span class="p">,</span> <span class="n">y_test</span> <span class="o">=</span> <span class="n">train_test_split</span><span class="p">(</span><span class="n">X</span><span class="p">,</span> <span class="n">y</span><span class="p">,</span> <span class="n">test_size</span><span class="o">=</span><span class="mf">0.2</span><span class="p">,</span> <span class="n">random_state</span><span class="o">=</span><span class="mi">3</span><span class="p">)</span>
    <span class="k">return</span> <span class="n">X_train</span><span class="p">,</span> <span class="n">X_test</span><span class="p">,</span> <span class="n">y_train</span><span class="p">,</span> <span class="n">y_test</span>

<span class="n">X_train</span><span class="p">,</span> <span class="n">X_test</span><span class="p">,</span> <span class="n">y_train</span><span class="p">,</span> <span class="n">y_test</span> <span class="o">=</span> <span class="n">gen_data</span><span class="p">(</span><span class="mi">100</span><span class="p">)</span>

<span class="c1"># plot ground truth</span>
<span class="n">x_plot</span> <span class="o">=</span> <span class="n">np</span><span class="o">.</span><span class="n">linspace</span><span class="p">(</span><span class="mi">0</span><span class="p">,</span> <span class="mi">10</span><span class="p">,</span> <span class="mi">500</span><span class="p">)</span>

<span class="k">def</span> <span class="nf">plot_data</span><span class="p">(</span><span class="n">alpha</span><span class="o">=</span><span class="mf">0.4</span><span class="p">,</span> <span class="n">s</span><span class="o">=</span><span class="mi">20</span><span class="p">):</span>
    <span class="n">fig</span> <span class="o">=</span> <span class="n">plt</span><span class="o">.</span><span class="n">figure</span><span class="p">(</span><span class="n">figsize</span><span class="o">=</span><span class="n">FIGSIZE</span><span class="p">)</span>
    <span class="n">gt</span> <span class="o">=</span> <span class="n">plt</span><span class="o">.</span><span class="n">plot</span><span class="p">(</span><span class="n">x_plot</span><span class="p">,</span> <span class="n">ground_truth</span><span class="p">(</span><span class="n">x_plot</span><span class="p">),</span> <span class="n">alpha</span><span class="o">=</span><span class="n">alpha</span><span class="p">,</span> <span class="n">label</span><span class="o">=</span><span class="s1">&#39;ground truth&#39;</span><span class="p">)</span>

    <span class="c1"># plot training and testing data</span>
    <span class="n">plt</span><span class="o">.</span><span class="n">scatter</span><span class="p">(</span><span class="n">X_train</span><span class="p">,</span> <span class="n">y_train</span><span class="p">,</span> <span class="n">s</span><span class="o">=</span><span class="n">s</span><span class="p">,</span> <span class="n">alpha</span><span class="o">=</span><span class="n">alpha</span><span class="p">)</span>
    <span class="n">plt</span><span class="o">.</span><span class="n">scatter</span><span class="p">(</span><span class="n">X_test</span><span class="p">,</span> <span class="n">y_test</span><span class="p">,</span> <span class="n">s</span><span class="o">=</span><span class="n">s</span><span class="p">,</span> <span class="n">alpha</span><span class="o">=</span><span class="n">alpha</span><span class="p">,</span> <span class="n">color</span><span class="o">=</span><span class="s1">&#39;red&#39;</span><span class="p">)</span>
    <span class="n">plt</span><span class="o">.</span><span class="n">xlim</span><span class="p">((</span><span class="mi">0</span><span class="p">,</span> <span class="mi">10</span><span class="p">))</span>
    <span class="n">plt</span><span class="o">.</span><span class="n">ylabel</span><span class="p">(</span><span class="s1">&#39;y&#39;</span><span class="p">)</span>
    <span class="n">plt</span><span class="o">.</span><span class="n">xlabel</span><span class="p">(</span><span class="s1">&#39;x&#39;</span><span class="p">)</span>
    
<span class="n">annotation_kw</span> <span class="o">=</span> <span class="p">{</span><span class="s1">&#39;xycoords&#39;</span><span class="p">:</span> <span class="s1">&#39;data&#39;</span><span class="p">,</span> <span class="s1">&#39;textcoords&#39;</span><span class="p">:</span> <span class="s1">&#39;data&#39;</span><span class="p">,</span>
                 <span class="s1">&#39;arrowprops&#39;</span><span class="p">:</span> <span class="p">{</span><span class="s1">&#39;arrowstyle&#39;</span><span class="p">:</span> <span class="s1">&#39;-&gt;&#39;</span><span class="p">,</span> <span class="s1">&#39;connectionstyle&#39;</span><span class="p">:</span> <span class="s1">&#39;arc&#39;</span><span class="p">}}</span>
    
<span class="n">plot_data</span><span class="p">()</span>
</pre></div>

</div>
</div>
</div>

<div class="output_wrapper">
<div class="output">


<div class="output_area">

<div class="prompt"></div>


<div class="output_subarea output_stream output_stdout output_text">
<pre>Populating the interactive namespace from numpy and matplotlib
</pre>
</div>
</div>

<div class="output_area">

<div class="prompt"></div>




<div class="output_png output_subarea ">
<img src="data:image/png;base64,iVBORw0KGgoAAAANSUhEUgAAAp8AAAG2CAYAAAA5o+1rAAAABHNCSVQICAgIfAhkiAAAAAlwSFlz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"
>
</div>

</div>

</div>
</div>

</div>
<div class="cell border-box-sizing text_cell rendered"><div class="prompt input_prompt">
</div>
<div class="inner_cell">
<div class="text_cell_render border-box-sizing rendered_html">
<h3 id="Regression-Trees">Regression Trees<a class="anchor-link" href="#Regression-Trees">&#182;</a></h3><ul>
<li><code>max_depth</code> argument controlls the depth of the tree</li>
<li>The deeper the tree the more variance can be explained</li>
</ul>

</div>
</div>
</div>
<div class="cell border-box-sizing code_cell rendered">
<div class="input">
<div class="prompt input_prompt">In&nbsp;[8]:</div>
<div class="inner_cell">
    <div class="input_area">
<div class=" highlight hl-ipython3"><pre><span></span><span class="kn">from</span> <span class="nn">sklearn.tree</span> <span class="k">import</span> <span class="n">DecisionTreeRegressor</span>
<span class="n">plot_data</span><span class="p">()</span>
<span class="n">est</span> <span class="o">=</span> <span class="n">DecisionTreeRegressor</span><span class="p">(</span><span class="n">max_depth</span><span class="o">=</span><span class="mi">1</span><span class="p">)</span><span class="o">.</span><span class="n">fit</span><span class="p">(</span><span class="n">X_train</span><span class="p">,</span> <span class="n">y_train</span><span class="p">)</span>
<span class="n">plt</span><span class="o">.</span><span class="n">plot</span><span class="p">(</span><span class="n">x_plot</span><span class="p">,</span> <span class="n">est</span><span class="o">.</span><span class="n">predict</span><span class="p">(</span><span class="n">x_plot</span><span class="p">[:,</span> <span class="n">np</span><span class="o">.</span><span class="n">newaxis</span><span class="p">]),</span>
         <span class="n">label</span><span class="o">=</span><span class="s1">&#39;RT max_depth=1&#39;</span><span class="p">,</span> <span class="n">color</span><span class="o">=</span><span class="s1">&#39;g&#39;</span><span class="p">,</span> <span class="n">alpha</span><span class="o">=</span><span class="mf">0.9</span><span class="p">,</span> <span class="n">linewidth</span><span class="o">=</span><span class="mi">2</span><span class="p">)</span>

<span class="n">est</span> <span class="o">=</span> <span class="n">DecisionTreeRegressor</span><span class="p">(</span><span class="n">max_depth</span><span class="o">=</span><span class="mi">3</span><span class="p">)</span><span class="o">.</span><span class="n">fit</span><span class="p">(</span><span class="n">X_train</span><span class="p">,</span> <span class="n">y_train</span><span class="p">)</span>
<span class="n">plt</span><span class="o">.</span><span class="n">plot</span><span class="p">(</span><span class="n">x_plot</span><span class="p">,</span> <span class="n">est</span><span class="o">.</span><span class="n">predict</span><span class="p">(</span><span class="n">x_plot</span><span class="p">[:,</span> <span class="n">np</span><span class="o">.</span><span class="n">newaxis</span><span class="p">]),</span>
         <span class="n">label</span><span class="o">=</span><span class="s1">&#39;RT max_depth=3&#39;</span><span class="p">,</span> <span class="n">color</span><span class="o">=</span><span class="s1">&#39;g&#39;</span><span class="p">,</span> <span class="n">alpha</span><span class="o">=</span><span class="mf">0.7</span><span class="p">,</span> <span class="n">linewidth</span><span class="o">=</span><span class="mi">1</span><span class="p">)</span>

<span class="n">plt</span><span class="o">.</span><span class="n">legend</span><span class="p">(</span><span class="n">loc</span><span class="o">=</span><span class="s1">&#39;upper left&#39;</span><span class="p">)</span>
</pre></div>

</div>
</div>
</div>

<div class="output_wrapper">
<div class="output">


<div class="output_area">

<div class="prompt output_prompt">Out[8]:</div>




<div class="output_text output_subarea output_execute_result">
<pre>&lt;matplotlib.legend.Legend at 0x4ab22d0&gt;</pre>
</div>

</div>

<div class="output_area">

<div class="prompt"></div>




<div class="output_png output_subarea ">
<img src="data:image/png;base64,iVBORw0KGgoAAAANSUhEUgAAAp8AAAG2CAYAAAA5o+1rAAAABHNCSVQICAgIfAhkiAAAAAlwSFlz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"
>
</div>

</div>

</div>
</div>

</div>
<div class="cell border-box-sizing text_cell rendered"><div class="prompt input_prompt">
</div>
<div class="inner_cell">
<div class="text_cell_render border-box-sizing rendered_html">
<h3 id="Function-approximation-with-Gradient-Boosting">Function approximation with Gradient Boosting<a class="anchor-link" href="#Function-approximation-with-Gradient-Boosting">&#182;</a></h3><ul>
<li><code>n_estimators</code> argument controls the number of trees</li>
<li><code>staged_predict</code> method allows us to step through predictions as we add more trees</li>
</ul>

</div>
</div>
</div>
<div class="cell border-box-sizing code_cell rendered">
<div class="input">
<div class="prompt input_prompt">In&nbsp;[9]:</div>
<div class="inner_cell">
    <div class="input_area">
<div class=" highlight hl-ipython3"><pre><span></span><span class="kn">from</span> <span class="nn">itertools</span> <span class="k">import</span> <span class="n">islice</span>

<span class="n">plot_data</span><span class="p">()</span>
<span class="n">est</span> <span class="o">=</span> <span class="n">GradientBoostingRegressor</span><span class="p">(</span><span class="n">n_estimators</span><span class="o">=</span><span class="mi">1000</span><span class="p">,</span> <span class="n">max_depth</span><span class="o">=</span><span class="mi">1</span><span class="p">,</span> <span class="n">learning_rate</span><span class="o">=</span><span class="mf">1.0</span><span class="p">)</span>
<span class="n">est</span><span class="o">.</span><span class="n">fit</span><span class="p">(</span><span class="n">X_train</span><span class="p">,</span> <span class="n">y_train</span><span class="p">)</span>

<span class="n">ax</span> <span class="o">=</span> <span class="n">plt</span><span class="o">.</span><span class="n">gca</span><span class="p">()</span>
<span class="n">first</span> <span class="o">=</span> <span class="kc">True</span>

<span class="c1"># step through prediction as we add 10 more trees.</span>
<span class="k">for</span> <span class="n">pred</span> <span class="ow">in</span> <span class="n">islice</span><span class="p">(</span><span class="n">est</span><span class="o">.</span><span class="n">staged_predict</span><span class="p">(</span><span class="n">x_plot</span><span class="p">[:,</span> <span class="n">np</span><span class="o">.</span><span class="n">newaxis</span><span class="p">]),</span> <span class="mi">0</span><span class="p">,</span> <span class="n">est</span><span class="o">.</span><span class="n">n_estimators</span><span class="p">,</span> <span class="mi">10</span><span class="p">):</span>
    <span class="n">plt</span><span class="o">.</span><span class="n">plot</span><span class="p">(</span><span class="n">x_plot</span><span class="p">,</span> <span class="n">pred</span><span class="p">,</span> <span class="n">color</span><span class="o">=</span><span class="s1">&#39;r&#39;</span><span class="p">,</span> <span class="n">alpha</span><span class="o">=</span><span class="mf">0.2</span><span class="p">)</span>
    <span class="k">if</span> <span class="n">first</span><span class="p">:</span>
        <span class="n">ax</span><span class="o">.</span><span class="n">annotate</span><span class="p">(</span><span class="s1">&#39;High bias - low variance&#39;</span><span class="p">,</span> <span class="n">xy</span><span class="o">=</span><span class="p">(</span><span class="n">x_plot</span><span class="p">[</span><span class="n">x_plot</span><span class="o">.</span><span class="n">shape</span><span class="p">[</span><span class="mi">0</span><span class="p">]</span> <span class="o">//</span> <span class="mi">2</span><span class="p">],</span>
                                                    <span class="n">pred</span><span class="p">[</span><span class="n">x_plot</span><span class="o">.</span><span class="n">shape</span><span class="p">[</span><span class="mi">0</span><span class="p">]</span> <span class="o">//</span> <span class="mi">2</span><span class="p">]),</span>
                                                    <span class="n">xytext</span><span class="o">=</span><span class="p">(</span><span class="mi">4</span><span class="p">,</span> <span class="mi">4</span><span class="p">),</span> <span class="o">**</span><span class="n">annotation_kw</span><span class="p">)</span>
        <span class="n">first</span> <span class="o">=</span> <span class="kc">False</span>

<span class="n">pred</span> <span class="o">=</span> <span class="n">est</span><span class="o">.</span><span class="n">predict</span><span class="p">(</span><span class="n">x_plot</span><span class="p">[:,</span> <span class="n">np</span><span class="o">.</span><span class="n">newaxis</span><span class="p">])</span>
<span class="n">plt</span><span class="o">.</span><span class="n">plot</span><span class="p">(</span><span class="n">x_plot</span><span class="p">,</span> <span class="n">pred</span><span class="p">,</span> <span class="n">color</span><span class="o">=</span><span class="s1">&#39;r&#39;</span><span class="p">,</span> <span class="n">label</span><span class="o">=</span><span class="s1">&#39;GBRT max_depth=1&#39;</span><span class="p">)</span>
<span class="n">ax</span><span class="o">.</span><span class="n">annotate</span><span class="p">(</span><span class="s1">&#39;Low bias - high variance&#39;</span><span class="p">,</span> <span class="n">xy</span><span class="o">=</span><span class="p">(</span><span class="n">x_plot</span><span class="p">[</span><span class="n">x_plot</span><span class="o">.</span><span class="n">shape</span><span class="p">[</span><span class="mi">0</span><span class="p">]</span> <span class="o">//</span> <span class="mi">2</span><span class="p">],</span>
                                            <span class="n">pred</span><span class="p">[</span><span class="n">x_plot</span><span class="o">.</span><span class="n">shape</span><span class="p">[</span><span class="mi">0</span><span class="p">]</span> <span class="o">//</span> <span class="mi">2</span><span class="p">]),</span>
                                            <span class="n">xytext</span><span class="o">=</span><span class="p">(</span><span class="mf">6.25</span><span class="p">,</span> <span class="o">-</span><span class="mi">6</span><span class="p">),</span> <span class="o">**</span><span class="n">annotation_kw</span><span class="p">)</span>
<span class="n">plt</span><span class="o">.</span><span class="n">legend</span><span class="p">(</span><span class="n">loc</span><span class="o">=</span><span class="s1">&#39;upper left&#39;</span><span class="p">)</span>
</pre></div>

</div>
</div>
</div>

<div class="output_wrapper">
<div class="output">


<div class="output_area">

<div class="prompt output_prompt">Out[9]:</div>




<div class="output_text output_subarea output_execute_result">
<pre>&lt;matplotlib.legend.Legend at 0x5265390&gt;</pre>
</div>

</div>

<div class="output_area">

<div class="prompt"></div>




<div class="output_png output_subarea ">
<img src="data:image/png;base64,iVBORw0KGgoAAAANSUhEUgAAAp8AAAG2CAYAAAA5o+1rAAAABHNCSVQICAgIfAhkiAAAAAlwSFlz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"
>
</div>

</div>

</div>
</div>

</div>
<div class="cell border-box-sizing text_cell rendered"><div class="prompt input_prompt">
</div>
<div class="inner_cell">
<div class="text_cell_render border-box-sizing rendered_html">
<h3 id="Model-complexity">Model complexity<a class="anchor-link" href="#Model-complexity">&#182;</a></h3><ul>
<li>The number of trees and the depth of the individual trees control model complexity</li>
<li>Model complexity comes at a price: <strong>overfitting</strong></li>
</ul>
<h3 id="Deviance-plot">Deviance plot<a class="anchor-link" href="#Deviance-plot">&#182;</a></h3><ul>
<li>Diagnostic to determine if model is overfitting</li>
<li>Plots the training/testing error (deviance) as a function of the number of trees (=model complexity)</li>
<li>Training error (deviance) is stored in <code>est.train_score_</code></li>
<li>Test error is computed using <code>est.staged_predict</code></li>
</ul>

</div>
</div>
</div>
<div class="cell border-box-sizing code_cell rendered">
<div class="input">
<div class="prompt input_prompt">In&nbsp;[10]:</div>
<div class="inner_cell">
    <div class="input_area">
<div class=" highlight hl-ipython3"><pre><span></span><span class="k">def</span> <span class="nf">deviance_plot</span><span class="p">(</span><span class="n">est</span><span class="p">,</span> <span class="n">X_test</span><span class="p">,</span> <span class="n">y_test</span><span class="p">,</span> <span class="n">ax</span><span class="o">=</span><span class="kc">None</span><span class="p">,</span> <span class="n">label</span><span class="o">=</span><span class="s1">&#39;&#39;</span><span class="p">,</span> <span class="n">train_color</span><span class="o">=</span><span class="s1">&#39;#2c7bb6&#39;</span><span class="p">,</span> 
                  <span class="n">test_color</span><span class="o">=</span><span class="s1">&#39;#d7191c&#39;</span><span class="p">,</span> <span class="n">alpha</span><span class="o">=</span><span class="mf">1.0</span><span class="p">,</span> <span class="n">ylim</span><span class="o">=</span><span class="p">(</span><span class="mi">0</span><span class="p">,</span> <span class="mi">10</span><span class="p">)):</span>
    <span class="sd">&quot;&quot;&quot;Deviance plot for ``est``, use ``X_test`` and ``y_test`` for test error. &quot;&quot;&quot;</span>
    <span class="n">n_estimators</span> <span class="o">=</span> <span class="nb">len</span><span class="p">(</span><span class="n">est</span><span class="o">.</span><span class="n">estimators_</span><span class="p">)</span>
    <span class="n">test_dev</span> <span class="o">=</span> <span class="n">np</span><span class="o">.</span><span class="n">empty</span><span class="p">(</span><span class="n">n_estimators</span><span class="p">)</span>

    <span class="k">for</span> <span class="n">i</span><span class="p">,</span> <span class="n">pred</span> <span class="ow">in</span> <span class="nb">enumerate</span><span class="p">(</span><span class="n">est</span><span class="o">.</span><span class="n">staged_predict</span><span class="p">(</span><span class="n">X_test</span><span class="p">)):</span>
       <span class="n">test_dev</span><span class="p">[</span><span class="n">i</span><span class="p">]</span> <span class="o">=</span> <span class="n">est</span><span class="o">.</span><span class="n">loss_</span><span class="p">(</span><span class="n">y_test</span><span class="p">,</span> <span class="n">pred</span><span class="p">)</span>

    <span class="k">if</span> <span class="n">ax</span> <span class="ow">is</span> <span class="kc">None</span><span class="p">:</span>
        <span class="n">fig</span> <span class="o">=</span> <span class="n">plt</span><span class="o">.</span><span class="n">figure</span><span class="p">(</span><span class="n">figsize</span><span class="o">=</span><span class="n">FIGSIZE</span><span class="p">)</span>
        <span class="n">ax</span> <span class="o">=</span> <span class="n">plt</span><span class="o">.</span><span class="n">gca</span><span class="p">()</span>
        
    <span class="n">ax</span><span class="o">.</span><span class="n">plot</span><span class="p">(</span><span class="n">np</span><span class="o">.</span><span class="n">arange</span><span class="p">(</span><span class="n">n_estimators</span><span class="p">)</span> <span class="o">+</span> <span class="mi">1</span><span class="p">,</span> <span class="n">test_dev</span><span class="p">,</span> <span class="n">color</span><span class="o">=</span><span class="n">test_color</span><span class="p">,</span> <span class="n">label</span><span class="o">=</span><span class="s1">&#39;Test </span><span class="si">%s</span><span class="s1">&#39;</span> <span class="o">%</span> <span class="n">label</span><span class="p">,</span> 
             <span class="n">linewidth</span><span class="o">=</span><span class="mi">2</span><span class="p">,</span> <span class="n">alpha</span><span class="o">=</span><span class="n">alpha</span><span class="p">)</span>
    <span class="n">ax</span><span class="o">.</span><span class="n">plot</span><span class="p">(</span><span class="n">np</span><span class="o">.</span><span class="n">arange</span><span class="p">(</span><span class="n">n_estimators</span><span class="p">)</span> <span class="o">+</span> <span class="mi">1</span><span class="p">,</span> <span class="n">est</span><span class="o">.</span><span class="n">train_score_</span><span class="p">,</span> <span class="n">color</span><span class="o">=</span><span class="n">train_color</span><span class="p">,</span> 
             <span class="n">label</span><span class="o">=</span><span class="s1">&#39;Train </span><span class="si">%s</span><span class="s1">&#39;</span> <span class="o">%</span> <span class="n">label</span><span class="p">,</span> <span class="n">linewidth</span><span class="o">=</span><span class="mi">2</span><span class="p">,</span> <span class="n">alpha</span><span class="o">=</span><span class="n">alpha</span><span class="p">)</span>
    <span class="n">ax</span><span class="o">.</span><span class="n">set_ylabel</span><span class="p">(</span><span class="s1">&#39;Error&#39;</span><span class="p">)</span>
    <span class="n">ax</span><span class="o">.</span><span class="n">set_xlabel</span><span class="p">(</span><span class="s1">&#39;n_estimators&#39;</span><span class="p">)</span>
    <span class="n">ax</span><span class="o">.</span><span class="n">set_ylim</span><span class="p">(</span><span class="n">ylim</span><span class="p">)</span>
    <span class="k">return</span> <span class="n">test_dev</span><span class="p">,</span> <span class="n">ax</span>

<span class="n">test_dev</span><span class="p">,</span> <span class="n">ax</span> <span class="o">=</span> <span class="n">deviance_plot</span><span class="p">(</span><span class="n">est</span><span class="p">,</span> <span class="n">X_test</span><span class="p">,</span> <span class="n">y_test</span><span class="p">)</span>
<span class="n">ax</span><span class="o">.</span><span class="n">legend</span><span class="p">(</span><span class="n">loc</span><span class="o">=</span><span class="s1">&#39;upper right&#39;</span><span class="p">)</span>

<span class="c1"># add some annotations</span>
<span class="n">ax</span><span class="o">.</span><span class="n">annotate</span><span class="p">(</span><span class="s1">&#39;Lowest test error&#39;</span><span class="p">,</span> <span class="n">xy</span><span class="o">=</span><span class="p">(</span><span class="n">test_dev</span><span class="o">.</span><span class="n">argmin</span><span class="p">()</span> <span class="o">+</span> <span class="mi">1</span><span class="p">,</span> <span class="n">test_dev</span><span class="o">.</span><span class="n">min</span><span class="p">()</span> <span class="o">+</span> <span class="mf">0.02</span><span class="p">),</span>
            <span class="n">xytext</span><span class="o">=</span><span class="p">(</span><span class="mi">150</span><span class="p">,</span> <span class="mf">3.5</span><span class="p">),</span> <span class="o">**</span><span class="n">annotation_kw</span><span class="p">)</span>

<span class="n">ann</span> <span class="o">=</span> <span class="n">ax</span><span class="o">.</span><span class="n">annotate</span><span class="p">(</span><span class="s1">&#39;&#39;</span><span class="p">,</span> <span class="n">xy</span><span class="o">=</span><span class="p">(</span><span class="mi">800</span><span class="p">,</span> <span class="n">test_dev</span><span class="p">[</span><span class="mi">799</span><span class="p">]),</span>  <span class="n">xycoords</span><span class="o">=</span><span class="s1">&#39;data&#39;</span><span class="p">,</span>
                  <span class="n">xytext</span><span class="o">=</span><span class="p">(</span><span class="mi">800</span><span class="p">,</span> <span class="n">est</span><span class="o">.</span><span class="n">train_score_</span><span class="p">[</span><span class="mi">799</span><span class="p">]),</span> <span class="n">textcoords</span><span class="o">=</span><span class="s1">&#39;data&#39;</span><span class="p">,</span>
                  <span class="n">arrowprops</span><span class="o">=</span><span class="p">{</span><span class="s1">&#39;arrowstyle&#39;</span><span class="p">:</span> <span class="s1">&#39;&lt;-&gt;&#39;</span><span class="p">})</span>
<span class="n">ax</span><span class="o">.</span><span class="n">text</span><span class="p">(</span><span class="mi">810</span><span class="p">,</span> <span class="mf">3.5</span><span class="p">,</span> <span class="s1">&#39;train-test gap&#39;</span><span class="p">)</span>
</pre></div>

</div>
</div>
</div>

<div class="output_wrapper">
<div class="output">


<div class="output_area">

<div class="prompt output_prompt">Out[10]:</div>




<div class="output_text output_subarea output_execute_result">
<pre>&lt;matplotlib.text.Text at 0x55f4150&gt;</pre>
</div>

</div>

<div class="output_area">

<div class="prompt"></div>




<div class="output_png output_subarea ">
<img src="data:image/png;base64,iVBORw0KGgoAAAANSUhEUgAAAp0AAAG3CAYAAAD2Cu7zAAAABHNCSVQICAgIfAhkiAAAAAlwSFlz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"
>
</div>

</div>

</div>
</div>

</div>
<div class="cell border-box-sizing text_cell rendered"><div class="prompt input_prompt">
</div>
<div class="inner_cell">
<div class="text_cell_render border-box-sizing rendered_html">
<h3 id="Overfitting">Overfitting<a class="anchor-link" href="#Overfitting">&#182;</a></h3><ul>
<li>Model has too much capacity and starts fitting the idiosyncracies of the training data</li>
<li>Indicated by a large gap between train and test error</li>
<li>GBRT provides a number of knobs to control overfitting</li>
</ul>

</div>
</div>
</div>
<div class="cell border-box-sizing text_cell rendered"><div class="prompt input_prompt">
</div>
<div class="inner_cell">
<div class="text_cell_render border-box-sizing rendered_html">
<h2 id="Regularization">Regularization<a class="anchor-link" href="#Regularization">&#182;</a></h2><ul>
<li>Tree structure</li>
<li>Shrinkage</li>
<li>Stochastic Gradient Boosting</li>
</ul>
<h2 id="Tree-Structure">Tree Structure<a class="anchor-link" href="#Tree-Structure">&#182;</a></h2><ul>
<li>The <code>max_depth</code> of the trees controls the degree of features interactions (variance++)</li>
<li>Use <code>min_samples_leaf</code> to have a sufficient number of samples per leaf (bias++)</li>
</ul>

</div>
</div>
</div>
<div class="cell border-box-sizing code_cell rendered">
<div class="input">
<div class="prompt input_prompt">In&nbsp;[11]:</div>
<div class="inner_cell">
    <div class="input_area">
<div class=" highlight hl-ipython3"><pre><span></span><span class="k">def</span> <span class="nf">fmt_params</span><span class="p">(</span><span class="n">params</span><span class="p">):</span>
    <span class="k">return</span> <span class="s2">&quot;, &quot;</span><span class="o">.</span><span class="n">join</span><span class="p">(</span><span class="s2">&quot;</span><span class="si">{0}</span><span class="s2">=</span><span class="si">{1}</span><span class="s2">&quot;</span><span class="o">.</span><span class="n">format</span><span class="p">(</span><span class="n">key</span><span class="p">,</span> <span class="n">val</span><span class="p">)</span> <span class="k">for</span> <span class="n">key</span><span class="p">,</span> <span class="n">val</span> <span class="ow">in</span> <span class="n">params</span><span class="o">.</span><span class="n">iteritems</span><span class="p">())</span>

<span class="n">fig</span> <span class="o">=</span> <span class="n">plt</span><span class="o">.</span><span class="n">figure</span><span class="p">(</span><span class="n">figsize</span><span class="o">=</span><span class="n">FIGSIZE</span><span class="p">)</span>
<span class="n">ax</span> <span class="o">=</span> <span class="n">plt</span><span class="o">.</span><span class="n">gca</span><span class="p">()</span>
<span class="k">for</span> <span class="n">params</span><span class="p">,</span> <span class="p">(</span><span class="n">test_color</span><span class="p">,</span> <span class="n">train_color</span><span class="p">)</span> <span class="ow">in</span> <span class="p">[({},</span> <span class="p">(</span><span class="s1">&#39;#d7191c&#39;</span><span class="p">,</span> <span class="s1">&#39;#2c7bb6&#39;</span><span class="p">)),</span>
                                          <span class="p">({</span><span class="s1">&#39;min_samples_leaf&#39;</span><span class="p">:</span> <span class="mi">3</span><span class="p">},</span> <span class="p">(</span><span class="s1">&#39;#fdae61&#39;</span><span class="p">,</span> <span class="s1">&#39;#abd9e9&#39;</span><span class="p">))]:</span>
    <span class="n">est</span> <span class="o">=</span> <span class="n">GradientBoostingRegressor</span><span class="p">(</span><span class="n">n_estimators</span><span class="o">=</span><span class="mi">1000</span><span class="p">,</span> <span class="n">max_depth</span><span class="o">=</span><span class="mi">1</span><span class="p">,</span> 
                                    <span class="n">learning_rate</span><span class="o">=</span><span class="mf">1.0</span><span class="p">)</span>
    <span class="n">est</span><span class="o">.</span><span class="n">set_params</span><span class="p">(</span><span class="o">**</span><span class="n">params</span><span class="p">)</span>
    <span class="n">est</span><span class="o">.</span><span class="n">fit</span><span class="p">(</span><span class="n">X_train</span><span class="p">,</span> <span class="n">y_train</span><span class="p">)</span>
    <span class="n">test_dev</span><span class="p">,</span> <span class="n">ax</span> <span class="o">=</span> <span class="n">deviance_plot</span><span class="p">(</span><span class="n">est</span><span class="p">,</span> <span class="n">X_test</span><span class="p">,</span> <span class="n">y_test</span><span class="p">,</span> <span class="n">ax</span><span class="o">=</span><span class="n">ax</span><span class="p">,</span> <span class="n">label</span><span class="o">=</span><span class="n">fmt_params</span><span class="p">(</span><span class="n">params</span><span class="p">),</span>
                                 <span class="n">train_color</span><span class="o">=</span><span class="n">train_color</span><span class="p">,</span> <span class="n">test_color</span><span class="o">=</span><span class="n">test_color</span><span class="p">)</span>
    
<span class="n">ax</span><span class="o">.</span><span class="n">annotate</span><span class="p">(</span><span class="s1">&#39;Higher bias&#39;</span><span class="p">,</span> <span class="n">xy</span><span class="o">=</span><span class="p">(</span><span class="mi">900</span><span class="p">,</span> <span class="n">est</span><span class="o">.</span><span class="n">train_score_</span><span class="p">[</span><span class="mi">899</span><span class="p">]),</span> <span class="n">xytext</span><span class="o">=</span><span class="p">(</span><span class="mi">600</span><span class="p">,</span> <span class="mi">3</span><span class="p">),</span> <span class="o">**</span><span class="n">annotation_kw</span><span class="p">)</span>
<span class="n">ax</span><span class="o">.</span><span class="n">annotate</span><span class="p">(</span><span class="s1">&#39;Lower variance&#39;</span><span class="p">,</span> <span class="n">xy</span><span class="o">=</span><span class="p">(</span><span class="mi">900</span><span class="p">,</span> <span class="n">test_dev</span><span class="p">[</span><span class="mi">899</span><span class="p">]),</span> <span class="n">xytext</span><span class="o">=</span><span class="p">(</span><span class="mi">600</span><span class="p">,</span> <span class="mf">3.5</span><span class="p">),</span> <span class="o">**</span><span class="n">annotation_kw</span><span class="p">)</span>
<span class="n">plt</span><span class="o">.</span><span class="n">legend</span><span class="p">(</span><span class="n">loc</span><span class="o">=</span><span class="s1">&#39;upper right&#39;</span><span class="p">)</span>
</pre></div>

</div>
</div>
</div>

<div class="output_wrapper">
<div class="output">


<div class="output_area">

<div class="prompt output_prompt">Out[11]:</div>




<div class="output_text output_subarea output_execute_result">
<pre>&lt;matplotlib.legend.Legend at 0x4f42dd0&gt;</pre>
</div>

</div>

<div class="output_area">

<div class="prompt"></div>




<div class="output_png output_subarea ">
<img src="data:image/png;base64,iVBORw0KGgoAAAANSUhEUgAAAp0AAAG3CAYAAAD2Cu7zAAAABHNCSVQICAgIfAhkiAAAAAlwSFlz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=
"
>
</div>

</div>

</div>
</div>

</div>
<div class="cell border-box-sizing text_cell rendered"><div class="prompt input_prompt">
</div>
<div class="inner_cell">
<div class="text_cell_render border-box-sizing rendered_html">
<h2 id="Shrinkage">Shrinkage<a class="anchor-link" href="#Shrinkage">&#182;</a></h2><ul>
<li>Slow learning by shrinking the predictions of each tree by some small scalar (<code>learning_rate</code>)</li>
<li>A lower <code>learning_rate</code> requires a higher number of <code>n_estimators</code></li>
<li>Its a trade-off between runtime against accuracy.</li>
</ul>

</div>
</div>
</div>
<div class="cell border-box-sizing code_cell rendered">
<div class="input">
<div class="prompt input_prompt">In&nbsp;[12]:</div>
<div class="inner_cell">
    <div class="input_area">
<div class=" highlight hl-ipython3"><pre><span></span><span class="n">fig</span> <span class="o">=</span> <span class="n">plt</span><span class="o">.</span><span class="n">figure</span><span class="p">(</span><span class="n">figsize</span><span class="o">=</span><span class="n">FIGSIZE</span><span class="p">)</span>
<span class="n">ax</span> <span class="o">=</span> <span class="n">plt</span><span class="o">.</span><span class="n">gca</span><span class="p">()</span>
<span class="k">for</span> <span class="n">params</span><span class="p">,</span> <span class="p">(</span><span class="n">test_color</span><span class="p">,</span> <span class="n">train_color</span><span class="p">)</span> <span class="ow">in</span> <span class="p">[({},</span> <span class="p">(</span><span class="s1">&#39;#d7191c&#39;</span><span class="p">,</span> <span class="s1">&#39;#2c7bb6&#39;</span><span class="p">)),</span>
                                          <span class="p">({</span><span class="s1">&#39;learning_rate&#39;</span><span class="p">:</span> <span class="mf">0.1</span><span class="p">},</span>
                                           <span class="p">(</span><span class="s1">&#39;#fdae61&#39;</span><span class="p">,</span> <span class="s1">&#39;#abd9e9&#39;</span><span class="p">))]:</span>
    <span class="n">est</span> <span class="o">=</span> <span class="n">GradientBoostingRegressor</span><span class="p">(</span><span class="n">n_estimators</span><span class="o">=</span><span class="mi">1000</span><span class="p">,</span> <span class="n">max_depth</span><span class="o">=</span><span class="mi">1</span><span class="p">,</span> <span class="n">learning_rate</span><span class="o">=</span><span class="mf">1.0</span><span class="p">)</span>
    <span class="n">est</span><span class="o">.</span><span class="n">set_params</span><span class="p">(</span><span class="o">**</span><span class="n">params</span><span class="p">)</span>
    <span class="n">est</span><span class="o">.</span><span class="n">fit</span><span class="p">(</span><span class="n">X_train</span><span class="p">,</span> <span class="n">y_train</span><span class="p">)</span>
    
    <span class="n">test_dev</span><span class="p">,</span> <span class="n">ax</span> <span class="o">=</span> <span class="n">deviance_plot</span><span class="p">(</span><span class="n">est</span><span class="p">,</span> <span class="n">X_test</span><span class="p">,</span> <span class="n">y_test</span><span class="p">,</span> <span class="n">ax</span><span class="o">=</span><span class="n">ax</span><span class="p">,</span> <span class="n">label</span><span class="o">=</span><span class="n">fmt_params</span><span class="p">(</span><span class="n">params</span><span class="p">),</span>
                                 <span class="n">train_color</span><span class="o">=</span><span class="n">train_color</span><span class="p">,</span> <span class="n">test_color</span><span class="o">=</span><span class="n">test_color</span><span class="p">)</span>
    
<span class="n">ax</span><span class="o">.</span><span class="n">annotate</span><span class="p">(</span><span class="s1">&#39;Requires more trees&#39;</span><span class="p">,</span> <span class="n">xy</span><span class="o">=</span><span class="p">(</span><span class="mi">200</span><span class="p">,</span> <span class="n">est</span><span class="o">.</span><span class="n">train_score_</span><span class="p">[</span><span class="mi">199</span><span class="p">]),</span> 
            <span class="n">xytext</span><span class="o">=</span><span class="p">(</span><span class="mi">300</span><span class="p">,</span> <span class="mf">1.75</span><span class="p">),</span> <span class="o">**</span><span class="n">annotation_kw</span><span class="p">)</span>
<span class="n">ax</span><span class="o">.</span><span class="n">annotate</span><span class="p">(</span><span class="s1">&#39;Lower test error&#39;</span><span class="p">,</span> <span class="n">xy</span><span class="o">=</span><span class="p">(</span><span class="mi">900</span><span class="p">,</span> <span class="n">test_dev</span><span class="p">[</span><span class="mi">899</span><span class="p">]),</span>
            <span class="n">xytext</span><span class="o">=</span><span class="p">(</span><span class="mi">600</span><span class="p">,</span> <span class="mf">1.75</span><span class="p">),</span> <span class="o">**</span><span class="n">annotation_kw</span><span class="p">)</span>
<span class="n">plt</span><span class="o">.</span><span class="n">legend</span><span class="p">(</span><span class="n">loc</span><span class="o">=</span><span class="s1">&#39;upper right&#39;</span><span class="p">)</span>
</pre></div>

</div>
</div>
</div>

<div class="output_wrapper">
<div class="output">


<div class="output_area">

<div class="prompt output_prompt">Out[12]:</div>




<div class="output_text output_subarea output_execute_result">
<pre>&lt;matplotlib.legend.Legend at 0x5c8bd50&gt;</pre>
</div>

</div>

<div class="output_area">

<div class="prompt"></div>




<div class="output_png output_subarea ">
<img src="data:image/png;base64,iVBORw0KGgoAAAANSUhEUgAAAp0AAAG3CAYAAAD2Cu7zAAAABHNCSVQICAgIfAhkiAAAAAlwSFlz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"
>
</div>

</div>

</div>
</div>

</div>
<div class="cell border-box-sizing text_cell rendered"><div class="prompt input_prompt">
</div>
<div class="inner_cell">
<div class="text_cell_render border-box-sizing rendered_html">
<h2 id="Stochastic-Gradient-Boosting">Stochastic Gradient Boosting<a class="anchor-link" href="#Stochastic-Gradient-Boosting">&#182;</a></h2><ul>
<li>Subsampling the training set before growing each tree (<code>subsample</code>)</li>
<li>Subsampling the features before finding the best split node (<code>max_features</code>)</li>
<li>Latter usually works better if there is a sufficient large number of features</li>
</ul>

</div>
</div>
</div>
<div class="cell border-box-sizing code_cell rendered">
<div class="input">
<div class="prompt input_prompt">In&nbsp;[13]:</div>
<div class="inner_cell">
    <div class="input_area">
<div class=" highlight hl-ipython3"><pre><span></span><span class="n">fig</span> <span class="o">=</span> <span class="n">plt</span><span class="o">.</span><span class="n">figure</span><span class="p">(</span><span class="n">figsize</span><span class="o">=</span><span class="n">FIGSIZE</span><span class="p">)</span>
<span class="n">ax</span> <span class="o">=</span> <span class="n">plt</span><span class="o">.</span><span class="n">gca</span><span class="p">()</span>
<span class="k">for</span> <span class="n">params</span><span class="p">,</span> <span class="p">(</span><span class="n">test_color</span><span class="p">,</span> <span class="n">train_color</span><span class="p">)</span> <span class="ow">in</span> <span class="p">[({},</span> <span class="p">(</span><span class="s1">&#39;#d7191c&#39;</span><span class="p">,</span> <span class="s1">&#39;#2c7bb6&#39;</span><span class="p">)),</span>
                                          <span class="p">({</span><span class="s1">&#39;learning_rate&#39;</span><span class="p">:</span> <span class="mf">0.1</span><span class="p">,</span> <span class="s1">&#39;subsample&#39;</span><span class="p">:</span> <span class="mf">0.5</span><span class="p">},</span>
                                           <span class="p">(</span><span class="s1">&#39;#fdae61&#39;</span><span class="p">,</span> <span class="s1">&#39;#abd9e9&#39;</span><span class="p">))]:</span>
    <span class="n">est</span> <span class="o">=</span> <span class="n">GradientBoostingRegressor</span><span class="p">(</span><span class="n">n_estimators</span><span class="o">=</span><span class="mi">1000</span><span class="p">,</span> <span class="n">max_depth</span><span class="o">=</span><span class="mi">1</span><span class="p">,</span> <span class="n">learning_rate</span><span class="o">=</span><span class="mf">1.0</span><span class="p">,</span>
                                    <span class="n">random_state</span><span class="o">=</span><span class="mi">1</span><span class="p">)</span>
    <span class="n">est</span><span class="o">.</span><span class="n">set_params</span><span class="p">(</span><span class="o">**</span><span class="n">params</span><span class="p">)</span>
    <span class="n">est</span><span class="o">.</span><span class="n">fit</span><span class="p">(</span><span class="n">X_train</span><span class="p">,</span> <span class="n">y_train</span><span class="p">)</span>
    <span class="n">test_dev</span><span class="p">,</span> <span class="n">ax</span> <span class="o">=</span> <span class="n">deviance_plot</span><span class="p">(</span><span class="n">est</span><span class="p">,</span> <span class="n">X_test</span><span class="p">,</span> <span class="n">y_test</span><span class="p">,</span> <span class="n">ax</span><span class="o">=</span><span class="n">ax</span><span class="p">,</span> <span class="n">label</span><span class="o">=</span><span class="n">fmt_params</span><span class="p">(</span><span class="n">params</span><span class="p">),</span>
                                 <span class="n">train_color</span><span class="o">=</span><span class="n">train_color</span><span class="p">,</span> <span class="n">test_color</span><span class="o">=</span><span class="n">test_color</span><span class="p">)</span>
    
<span class="n">ax</span><span class="o">.</span><span class="n">annotate</span><span class="p">(</span><span class="s1">&#39;Even lower test error&#39;</span><span class="p">,</span> <span class="n">xy</span><span class="o">=</span><span class="p">(</span><span class="mi">400</span><span class="p">,</span> <span class="n">test_dev</span><span class="p">[</span><span class="mi">399</span><span class="p">]),</span>
            <span class="n">xytext</span><span class="o">=</span><span class="p">(</span><span class="mi">500</span><span class="p">,</span> <span class="mf">3.0</span><span class="p">),</span> <span class="o">**</span><span class="n">annotation_kw</span><span class="p">)</span>

<span class="n">est</span> <span class="o">=</span> <span class="n">GradientBoostingRegressor</span><span class="p">(</span><span class="n">n_estimators</span><span class="o">=</span><span class="mi">1000</span><span class="p">,</span> <span class="n">max_depth</span><span class="o">=</span><span class="mi">1</span><span class="p">,</span> <span class="n">learning_rate</span><span class="o">=</span><span class="mf">1.0</span><span class="p">,</span>
                                <span class="n">subsample</span><span class="o">=</span><span class="mf">0.5</span><span class="p">)</span>
<span class="n">est</span><span class="o">.</span><span class="n">fit</span><span class="p">(</span><span class="n">X_train</span><span class="p">,</span> <span class="n">y_train</span><span class="p">)</span>
<span class="n">test_dev</span><span class="p">,</span> <span class="n">ax</span> <span class="o">=</span> <span class="n">deviance_plot</span><span class="p">(</span><span class="n">est</span><span class="p">,</span> <span class="n">X_test</span><span class="p">,</span> <span class="n">y_test</span><span class="p">,</span> <span class="n">ax</span><span class="o">=</span><span class="n">ax</span><span class="p">,</span> <span class="n">label</span><span class="o">=</span><span class="n">fmt_params</span><span class="p">({</span><span class="s1">&#39;subsample&#39;</span><span class="p">:</span> <span class="mf">0.5</span><span class="p">}),</span>
                             <span class="n">train_color</span><span class="o">=</span><span class="s1">&#39;#abd9e9&#39;</span><span class="p">,</span> <span class="n">test_color</span><span class="o">=</span><span class="s1">&#39;#fdae61&#39;</span><span class="p">,</span> <span class="n">alpha</span><span class="o">=</span><span class="mf">0.5</span><span class="p">)</span>
<span class="n">ax</span><span class="o">.</span><span class="n">annotate</span><span class="p">(</span><span class="s1">&#39;Subsample alone does poorly&#39;</span><span class="p">,</span> <span class="n">xy</span><span class="o">=</span><span class="p">(</span><span class="mi">300</span><span class="p">,</span> <span class="n">test_dev</span><span class="p">[</span><span class="mi">299</span><span class="p">]),</span> 
            <span class="n">xytext</span><span class="o">=</span><span class="p">(</span><span class="mi">500</span><span class="p">,</span> <span class="mf">5.5</span><span class="p">),</span> <span class="o">**</span><span class="n">annotation_kw</span><span class="p">)</span>
<span class="n">plt</span><span class="o">.</span><span class="n">legend</span><span class="p">(</span><span class="n">loc</span><span class="o">=</span><span class="s1">&#39;upper right&#39;</span><span class="p">,</span> <span class="n">fontsize</span><span class="o">=</span><span class="s1">&#39;small&#39;</span><span class="p">)</span>
</pre></div>

</div>
</div>
</div>

<div class="output_wrapper">
<div class="output">


<div class="output_area">

<div class="prompt output_prompt">Out[13]:</div>




<div class="output_text output_subarea output_execute_result">
<pre>&lt;matplotlib.legend.Legend at 0x5490d90&gt;</pre>
</div>

</div>

<div class="output_area">

<div class="prompt"></div>




<div class="output_png output_subarea ">
<img src="data:image/png;base64,iVBORw0KGgoAAAANSUhEUgAAAp0AAAG3CAYAAAD2Cu7zAAAABHNCSVQICAgIfAhkiAAAAAlwSFlz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"
>
</div>

</div>

</div>
</div>

</div>
<div class="cell border-box-sizing text_cell rendered"><div class="prompt input_prompt">
</div>
<div class="inner_cell">
<div class="text_cell_render border-box-sizing rendered_html">
<h2 id="Hyperparameter-tuning">Hyperparameter tuning<a class="anchor-link" href="#Hyperparameter-tuning">&#182;</a></h2><p>I usually follow this recipe to tune the hyperparameters:</p>
<ol>
<li>Pick <code>n_estimators</code> as large as (computationally) possible (e.g. 3000)</li>
<li>Tune <code>max_depth</code>, <code>learning_rate</code>, <code>min_samples_leaf</code>, and <code>max_features</code> via grid search</li>
<li>Increase <code>n_estimators</code> even more and tune <code>learning_rate</code> again holding the other parameters fixed</li>
</ol>

</div>
</div>
</div>
<div class="cell border-box-sizing code_cell rendered">
<div class="input">
<div class="prompt input_prompt">In&nbsp;[14]:</div>
<div class="inner_cell">
    <div class="input_area">
<div class=" highlight hl-ipython3"><pre><span></span><span class="kn">from</span> <span class="nn">sklearn.grid_search</span> <span class="k">import</span> <span class="n">GridSearchCV</span>

<span class="n">param_grid</span> <span class="o">=</span> <span class="p">{</span><span class="s1">&#39;learning_rate&#39;</span><span class="p">:</span> <span class="p">[</span><span class="mf">0.1</span><span class="p">,</span> <span class="mf">0.01</span><span class="p">,</span> <span class="mf">0.001</span><span class="p">],</span>
              <span class="s1">&#39;max_depth&#39;</span><span class="p">:</span> <span class="p">[</span><span class="mi">4</span><span class="p">,</span> <span class="mi">6</span><span class="p">],</span>
              <span class="s1">&#39;min_samples_leaf&#39;</span><span class="p">:</span> <span class="p">[</span><span class="mi">3</span><span class="p">,</span> <span class="mi">5</span><span class="p">]</span>  <span class="c1">## depends on the nr of training examples</span>
              <span class="c1"># &#39;max_features&#39;: [1.0, 0.3, 0.1] ## not possible in our example (only 1 fx)</span>
              <span class="p">}</span>

<span class="n">est</span> <span class="o">=</span> <span class="n">GradientBoostingRegressor</span><span class="p">(</span><span class="n">n_estimators</span><span class="o">=</span><span class="mi">3000</span><span class="p">)</span>
<span class="c1"># this may take some minutes</span>
<span class="n">gs_cv</span> <span class="o">=</span> <span class="n">GridSearchCV</span><span class="p">(</span><span class="n">est</span><span class="p">,</span> <span class="n">param_grid</span><span class="p">,</span> <span class="n">scoring</span><span class="o">=</span><span class="s1">&#39;mean_squared_error&#39;</span><span class="p">,</span> <span class="n">n_jobs</span><span class="o">=</span><span class="mi">4</span><span class="p">)</span><span class="o">.</span><span class="n">fit</span><span class="p">(</span><span class="n">X_train</span><span class="p">,</span> <span class="n">y_train</span><span class="p">)</span>

<span class="c1"># best hyperparameter setting</span>
<span class="nb">print</span><span class="p">(</span><span class="s1">&#39;Best hyperparameters: </span><span class="si">%r</span><span class="s1">&#39;</span> <span class="o">%</span> <span class="n">gs_cv</span><span class="o">.</span><span class="n">best_params_</span><span class="p">)</span>
</pre></div>

</div>
</div>
</div>

<div class="output_wrapper">
<div class="output">


<div class="output_area">

<div class="prompt"></div>


<div class="output_subarea output_stream output_stdout output_text">
<pre>Best hyperparameters: {&#39;learning_rate&#39;: 0.001, &#39;max_depth&#39;: 6, &#39;min_samples_leaf&#39;: 5}
</pre>
</div>
</div>

</div>
</div>

</div>
<div class="cell border-box-sizing code_cell rendered">
<div class="input">
<div class="prompt input_prompt">In&nbsp;[15]:</div>
<div class="inner_cell">
    <div class="input_area">
<div class=" highlight hl-ipython3"><pre><span></span><span class="c1"># refit model on best parameters</span>
<span class="n">est</span><span class="o">.</span><span class="n">set_params</span><span class="p">(</span><span class="o">**</span><span class="n">gs_cv</span><span class="o">.</span><span class="n">best_params_</span><span class="p">)</span>
<span class="n">est</span><span class="o">.</span><span class="n">fit</span><span class="p">(</span><span class="n">X_train</span><span class="p">,</span> <span class="n">y_train</span><span class="p">)</span>

<span class="c1"># plot the approximation</span>
<span class="n">plot_data</span><span class="p">()</span>
<span class="n">plt</span><span class="o">.</span><span class="n">plot</span><span class="p">(</span><span class="n">x_plot</span><span class="p">,</span> <span class="n">est</span><span class="o">.</span><span class="n">predict</span><span class="p">(</span><span class="n">x_plot</span><span class="p">[:,</span> <span class="n">np</span><span class="o">.</span><span class="n">newaxis</span><span class="p">]),</span> <span class="n">color</span><span class="o">=</span><span class="s1">&#39;r&#39;</span><span class="p">,</span> <span class="n">linewidth</span><span class="o">=</span><span class="mi">2</span><span class="p">)</span>
</pre></div>

</div>
</div>
</div>

<div class="output_wrapper">
<div class="output">


<div class="output_area">

<div class="prompt output_prompt">Out[15]:</div>




<div class="output_text output_subarea output_execute_result">
<pre>[&lt;matplotlib.lines.Line2D at 0x4c21810&gt;]</pre>
</div>

</div>

<div class="output_area">

<div class="prompt"></div>




<div class="output_png output_subarea ">
<img src="data:image/png;base64,iVBORw0KGgoAAAANSUhEUgAAAp8AAAG2CAYAAAA5o+1rAAAABHNCSVQICAgIfAhkiAAAAAlwSFlz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"
>
</div>

</div>

</div>
</div>

</div>
<div class="cell border-box-sizing text_cell rendered"><div class="prompt input_prompt">
</div>
<div class="inner_cell">
<div class="text_cell_render border-box-sizing rendered_html">
<p>Caution: Hyperparameters interact with each other (<code>learning_rate</code> and <code>n_estimators</code>, <code>learning_rate</code> and <code>subsample</code>, <code>max_depth</code> and <code>max_features</code>).</p>
<p>See <a href="http://citeseerx.ist.psu.edu/viewdoc/download;jsessionid=540A0A638283F64E251B1342248CDBCF?doi=10.1.1.151.4024&amp;rep=rep1&amp;type=pdf">G. Ridgeway, "Generalized boosted models: A guide to the gbm package", 2005</a></p>

</div>
</div>
</div>
<div class="cell border-box-sizing text_cell rendered"><div class="prompt input_prompt">
</div>
<div class="inner_cell">
<div class="text_cell_render border-box-sizing rendered_html">
<h1 id="Use-case:-California-Housing">Use-case: California Housing<a class="anchor-link" href="#Use-case:-California-Housing">&#182;</a></h1><p><img src="cal-housing.png" /><br /></p>
<ul>
<li>Predict the median house value for census block groups in California</li>
<li>20.000 groups, 8 features: <em>median income</em>, <em>average house age</em>, <em>latitude</em>, <em>longitude</em>, ...</li>
<li>Mean Absolute Error on 80-20 train-test split</li>
</ul>

</div>
</div>
</div>
<div class="cell border-box-sizing code_cell rendered">
<div class="input">
<div class="prompt input_prompt">In&nbsp;[16]:</div>
<div class="inner_cell">
    <div class="input_area">
<div class=" highlight hl-ipython3"><pre><span></span><span class="kn">from</span> <span class="nn">sklearn.datasets.california_housing</span> <span class="k">import</span> <span class="n">fetch_california_housing</span>

<span class="n">cal_housing</span> <span class="o">=</span> <span class="n">fetch_california_housing</span><span class="p">()</span>

<span class="c1"># split 80/20 train-test</span>
<span class="n">X_train</span><span class="p">,</span> <span class="n">X_test</span><span class="p">,</span> <span class="n">y_train</span><span class="p">,</span> <span class="n">y_test</span> <span class="o">=</span> <span class="n">train_test_split</span><span class="p">(</span><span class="n">cal_housing</span><span class="o">.</span><span class="n">data</span><span class="p">,</span>
                                                    <span class="n">cal_housing</span><span class="o">.</span><span class="n">target</span><span class="p">,</span>
                                                    <span class="n">test_size</span><span class="o">=</span><span class="mf">0.2</span><span class="p">,</span>
                                                    <span class="n">random_state</span><span class="o">=</span><span class="mi">1</span><span class="p">)</span>
<span class="n">names</span> <span class="o">=</span> <span class="n">cal_housing</span><span class="o">.</span><span class="n">feature_names</span>
</pre></div>

</div>
</div>
</div>

</div>
<div class="cell border-box-sizing text_cell rendered"><div class="prompt input_prompt">
</div>
<div class="inner_cell">
<div class="text_cell_render border-box-sizing rendered_html">
<h2 id="Challenges">Challenges<a class="anchor-link" href="#Challenges">&#182;</a></h2><ul>
<li>heterogenous features (different scales and distributions, see plot below)</li>
<li>non-linear feature interactions (interaction: latitude and longitude)</li>
<li>extreme responses (robust regression techniques)</li>
</ul>

</div>
</div>
</div>
<div class="cell border-box-sizing code_cell rendered">
<div class="input">
<div class="prompt input_prompt">In&nbsp;[17]:</div>
<div class="inner_cell">
    <div class="input_area">
<div class=" highlight hl-ipython3"><pre><span></span><span class="kn">import</span> <span class="nn">pandas</span> <span class="k">as</span> <span class="nn">pd</span>
<span class="n">X_df</span> <span class="o">=</span> <span class="n">pd</span><span class="o">.</span><span class="n">DataFrame</span><span class="p">(</span><span class="n">data</span><span class="o">=</span><span class="n">X_train</span><span class="p">,</span> <span class="n">columns</span><span class="o">=</span><span class="n">names</span><span class="p">)</span>
<span class="n">X_df</span><span class="p">[</span><span class="s1">&#39;MedHouseVal&#39;</span><span class="p">]</span> <span class="o">=</span> <span class="n">y_train</span>
<span class="n">_</span> <span class="o">=</span> <span class="n">X_df</span><span class="o">.</span><span class="n">hist</span><span class="p">(</span><span class="n">column</span><span class="o">=</span><span class="p">[</span><span class="s1">&#39;Latitude&#39;</span><span class="p">,</span> <span class="s1">&#39;Longitude&#39;</span><span class="p">,</span> <span class="s1">&#39;MedInc&#39;</span><span class="p">,</span> <span class="s1">&#39;MedHouseVal&#39;</span><span class="p">],</span> <span class="n">figsize</span><span class="o">=</span><span class="n">FIGSIZE</span><span class="p">)</span>
</pre></div>

</div>
</div>
</div>

<div class="output_wrapper">
<div class="output">


<div class="output_area">

<div class="prompt"></div>




<div class="output_png output_subarea ">
<img src="data:image/png;base64,iVBORw0KGgoAAAANSUhEUgAAAp0AAAGyCAYAAACmx39AAAAABHNCSVQICAgIfAhkiAAAAAlwSFlz
AAALEgAACxIB0t1+/AAAIABJREFUeJzs3XtcVGXiP/DPILRmiWjJkDPqqKCEIuAF3YsbhaDianZZ
XCqFzNpw27TdDLPLVrvJuH3b0ja3dhevban7a1dpV8koxq5KoaQrFpigzICkIYICEvD8/iBOIteB
c+Zc+LxfL156zsyc83mec+bh4ZxnnjEJIQSIiIiIiBTkpXYAIiIiIjI+djqJiIiISHHsdBIRERGR
4tjpJCIiIiLFsdNJRERERIpjp5OIiIiIFMdOJ2lG//79UVRUJNv2vLy8cPz4cdm2R0RkVGx/yRPY
6aQes9lsePfdd916TVRUFNLS0lqsq6qqgs1mAwAkJSXhiSeekCsiEZGudKdd7Qm2v+QJ7HRSj5lM
JphMJrdfQ0REbetOu0qkdex0kiIqKirws5/9DP7+/hg0aBDmzJkDl8sFAHjsscfwwQcf4IEHHkD/
/v3x4IMPAmi6HfPVV1/hr3/9K15//XX88Y9/RP/+/XHzzTdLj196u+byv8afe+45DBkyBFarFevX
r2+R5+LFi3j44YcxfPhwBAQEIDk5GbW1tUpXAxGRbC5evIhly5bBYrHAYrHgoYceQl1dHQDA4XDA
arXiT3/6E8xmM4YMGYKNGzdKr/3mm28wZ84cDBgwAJGRkXj88ccxbdo06XG2v+QJ7HSSIhobG3HP
Pffg5MmTOHnyJK688ko88MADAIBnn30W06ZNw8svv4yqqiqsXbtWep3JZMJ9992HO++8EykpKaiq
qsLOnTvb3MelVwIyMjLw/PPPIzMzE/n5+cjMzGzx3BUrVuDYsWP4/PPPcezYMbhcLjzzzDMKlZ6I
SH7PPvsssrOz8fnnn+Pzzz9HdnY2/vCHP0iPl5WVobKyEiUlJUhLS8OvfvUrnDt3DgDwq1/9Cv37
90dZWRk2bdqEzZs3t7qSyvaXlMZOJyli0KBBuOWWW9C3b19cffXVWLlyJfbu3dviOUKIDrfR2eOX
2r59OxYtWoSQkBD069cPTz/9dIvt/O1vf8Of/vQn+Pn54eqrr8ajjz6KrVu3ulcoIiIVvf7663jy
ySdx7bXX4tprr8Xvfvc7bNmyRXrcx8cHTz75JPr06YNZs2bh6quvxpdffomGhgb861//wtNPP42+
ffvi+uuvR2JiYodtLNtfUoK32gHImKqrq/HQQw/h7bffxtmzZwEA58+fhxBC+utYzvFKpaWlmDx5
srQ8bNgw6f+nT59GdXU1Jk6cKK0TQqCxsVG2/RMRKa2kpATDhw+XlocNG4aSkhJp+ZprroGX1/fX
kvr164fz58/j9OnTqK+vx9ChQ6XHrFarbLnY/lJX8UonKeL5559Hfn4+srOzce7cOezduxdCCOmv
5846nG093q9fP1RXV0vLpaWl0v+vu+46nDx5Ulq+9P/XXnstrrzySuTl5eHs2bM4e/YsKioqUFlZ
2e3yERF52pAhQ1pMa3Ty5EkMGTKk09cNHjwY3t7eKC4ultZd+v/Lsf0lpbDTSbKoq6tDbW2t9HP2
7FlceeWVGDBgAMrLy1vcbgEAs9mMr776qt3tmc3mVnO8hYeH4x//+AcaGhqQkZGB999/X3osPj4e
GzduxNGjR1FdXd1if15eXrj33nuxbNkynD59GgDgcrmwZ88eOYpORKSIy9vVhIQE/OEPf8CZM2dw
5swZPPPMM1iwYEGn2+nTpw9uvfVWPPXUU6ipqcEXX3yBLVu2tPvHP9tfUgo7nSSLuLg49OvXT/qp
rKxETU0Nrr32WvzoRz/CrFmzWjRwS5cuxf/7f/8PgwYNwrJly1pt75577kFeXh4GDhyIW2+9FQCw
Zs0avPXWWxg4cCBef/113HLLLdLzZ86ciWXLluGmm27C6NGjER0d3WJ/q1evRmBgIKZOnYoBAwYg
JiYG+fn5CtYIEVHPXN6uXrx4EZMmTcL48eMxfvx4TJo0CY8//rj0/I7uIP35z3/GuXPnEBAQgMTE
RCQkJOCKK65o87Vsf0kpJtHJaOHU1FS89tpr8PLyQmhoKDZs2IALFy5g/vz5OHHiBGw2G7Zv3w4/
Pz/p+evXr0efPn2wdu1axMbGAgBycnKQlJSE2tpaxMXFYc2aNcqXjohIR2w2G3x9fdGnTx/4+Pgg
Ozsb5eXlbG9JdikpKfj666+xYcMGtaNQL9Lhlc6ioiL87W9/w4EDB3D48GE0NDRg69atsNvt0l8q
0dHRsNvtAIC8vDxs27YNeXl5yMjIwJIlS6QxfMnJyUhLS0NBQQEKCgqQkZGhfOmIiHTEZDLB4XDg
4MGDyM7OBgC2tySLL7/8EocOHYIQAtnZ2Vi/fn2Lq5VEntBhp9PX1xc+Pj6orq5GfX09qqurMWTI
EKSnpyMxMREAkJiYiB07dgAAdu7ciYSEBPj4+MBmsyEwMBD79+9HaWkpqqqqEBkZCQBYuHCh9Boi
Ivre5Tef2N6SHKqqqnDbbbfh6quvxi9+8Qs8/PDDmDt3rtqxqJfpcMqkQYMG4be//S2GDRuGK6+8
EjNmzEBMTAzKyspgNpsBNA04LisrA9A0ncPUqVOl11utVrhcLvj4+LSYnsFisUjfTkNERE1MJhOm
T5+OPn364Je//CXuvfdetrcki0mTJqGgoEDtGNTLddjp/Oqrr/Diiy+iqKgIAwYMwM9//nO89tpr
LZ7D74clIpLHRx99hOuuuw6nT59GTEwMgoODWzzO9paI9KzDTudnn32GH/3oR7jmmmsAALfeeis+
+eQTBAQE4NSpUwgICEBpaSn8/f0BNP1FfencX06nE1arFRaLBU6ns8V6i8XS5j4tFkuLyW6JiC43
atQoHDt2TO0YsrvuuusANM2reMsttyA7Oxtms1n29pbtLBF1hdxtbYdjOoODg7Fv3z7U1NRACIHM
zEyEhIRgzpw52LRpEwBg06ZNmDdvHgBg7ty52Lp1K+rq6lBYWIiCggJERkYiICAAvr6+2L9/P4QQ
2LJli/Say5WUlEiTiBvlp/nrxoz0Y8QyGbVcRixTR3O86lV1dTWqqqoAABcuXMCePXsQGhqKuXPn
yt7e6rGd1dt5rLe8esyst7x6zCx3W9vhlc6wsDAsXLgQkyZNgpeXFyZMmID77rsPVVVViI+PR1pa
mjSFBwCEhIQgPj4eISEh8Pb2xrp166RbQevWrUNSUhJqamoQFxeHmTNnyloQIiI9Kysrkz5NXF9f
jzvvvBOxsbGYNGkS21siMoROv3v9kUcewSOPPNJi3aBBg5CZmdnm81euXImVK1e2Wj9x4kQcPny4
mzH1zWazqR1BdkYsE2DMchmxTEY0YsQI5ObmtlrP9raJ3s5jveUF9JdZb3kBfWaWE7+RyAOioqLU
jiA7I5YJMGa5jFgm6n30dh7rLS+gv8x6ywvoM7Oc2OkkIiIiIsWx00lEREREiuv0u9c9zWQyQWOR
iEhj2E70DOuP9MTXdxCqqs7Kvt3+/QeisrJc9u0aidxtBTudRKQ7bCd6hvVHetI0K4MS5yvfB52R
u63g7XUPcDgcakeQnRHLBBizXEYsE/U+ejuP9ZYX0GNmh9oB3Ka/OpYXO51EREREpDjeXici3WE7
0TOsP9IT3l5XD2+vExEREZHusNPpAUYcw2HEMgHGLJcRy0S9j97OY73lBfSY2aF2ALfpr47lxU4n
ERERESmOYzqJSHfYTvQM64/0hGM61ePxMZ1ffvklIiIipJ8BAwZg7dq1KC8vR0xMDEaPHo3Y2FhU
VFRIr0lNTUVQUBCCg4OxZ88eaX1OTg5CQ0MRFBSEpUuXylYIIiIiItK2TjudY8aMwcGDB3Hw4EHk
5OSgX79+uOWWW2C32xETE4P8/HxER0fDbrcDAPLy8rBt2zbk5eUhIyMDS5YskXrJycnJSEtLQ0FB
AQoKCpCRkaFs6TTCiGM4jFgmwJjlMmKZqPfR23mst7yAHjM71A7gNv3VsbzcGtOZmZmJwMBADB06
FOnp6UhMTAQAJCYmYseOHQCAnTt3IiEhAT4+PrDZbAgMDMT+/ftRWlqKqqoqREZGAgAWLlwovUYv
fH0HwWQyuf1z4403dvm5vr6D1C4mERERkey83Xny1q1bkZCQAAAoKyuD2WwGAJjNZpSVlQEASkpK
MHXqVOk1VqsVLpcLPj4+sFqt0nqLxQKXy9XjAnhS03e/Kjv+o6rKpOj25RIVFaV2BEUYsVxGLBP1
Pno7j/WWF9Bj5ii1A7hNf3Usry5f6ayrq8Nbb72Fn//8560ea75KR0RERETUli5f6dy9ezcmTpyI
wYMHA2i6unnq1CkEBASgtLQU/v7+AJquYBYXF0uvczqdsFqtsFgscDqdLdZbLJY295WUlASbzQYA
8PPzQ3h4uPTXQfN4CLWWvx9D4s5yLoBlXXx+0z61Ut72lpvXaSWPXMsvvviips43OZZzc3OxbNky
zeTpznLz/4uKikC906Xtoh7oLS+gx8wO6O1qp/7qWGaii+bPny82btwoLS9fvlzY7XYhhBCpqaki
JSVFCCHEkSNHRFhYmLh48aI4fvy4GDlypGhsbBRCCBEZGSn27dsnGhsbxaxZs8Tu3btb7ceNSB4H
QACiGz9ZbjxXu+W/VFZWltoRFGHEchmxTHp5n2iVHutPb+ex3vIKod3M7f/uded3qzZ+32q1jtsj
dx11aZ7OCxcuYPjw4SgsLET//v0BAOXl5YiPj8fJkydhs9mwfft2+Pn5AQBWrVqF9evXw9vbG2vW
rMGMGTMANE2ZlJSUhJqaGsTFxWHt2rWt9qXl+eOUmyusxV40W34irdByO6EHrD/SE87TqR652wpO
Du8GdjqJtEHL7YQesP5IT9jpVI/HJ4cnOTjUDiA7o841ZsRyGbFM1Pvo7TzWW15Aj5kdagdwm/7q
WF7sdBIRERGR4nh73Q28vU6kDVpuJ/SA9Ud6wtvr6uHtdSIiIiLSHXY6PcKhdgDZGXVcihHLZcQy
GVVDQwMiIiIwZ84cAE2zhMTExGD06NGIjY1FRUWF9NzU1FQEBQUhODgYe/bskdbn5OQgNDQUQUFB
WLp0qcfLoBS9ncd6ywvoMbND7QBu018dy4udTiIijVizZg1CQkKkb3iz2+2IiYlBfn4+oqOjYbfb
AQB5eXnYtm0b8vLykJGRgSVLlki3wJKTk5GWloaCggIUFBQgIyNDtfIQEV2KYzrdwDGdRNqg5Xai
u5xOJ5KSkvDYY4/hT3/6E9566y0EBwdj79690jfARUVF4YsvvkBqaiq8vLyQkpICAJg5cyaeeuop
DB8+HDfddBOOHj0KANi6dSscDgdeeeWVFvsyYv2RcXFMp3o4ppOIyIAeeughPPfcc/Dy+r5ZLisr
g9lsBtD01cNlZWUAgJKSElitVul5VqsVLper1XqLxQKXy+WhEhARdYydTo9wqB1AdkYdl2LEchmx
TEbzn//8B/7+/oiIiGj3qoLJZJJuu/dGejuP9ZYX0GNmh9oB3Ka/OpaXt9oBiIh6u48//hjp6enY
tWsXamtrUVlZiQULFki31QMCAlBaWgp/f38ATVcwi4uLpdc7nU5YrVZYLBY4nc4W6y0WS5v7TEpK
gs1mAwD4+fkhPDwcUVFRAL7/xail5dzcXE3lMVreS2klT/Pyd6kARF3yf1z2GNp4vLNleCS/npYd
Dgc2btwIAFL7ICeO6XQDx3QSaYOW24me2rt3L/7v//4Pb731Fh555BFcc801SElJgd1uR0VFBex2
O/Ly8nDHHXcgOzsbLpcL06dPx7Fjx2AymTBlyhSsXbsWkZGRmD17Nh588EHMnDmzxT6MXH9kPBzT
qR652wpe6SQi0pjm2+grVqxAfHw80tLSYLPZsH37dgBASEgI4uPjERISAm9vb6xbt056zbp165CU
lISamhrExcW16nASEamFVzrd0P2/thz4/rJ+p3vRbPkv5XA4Lrv1YQxGLJcRy6TldkIP9Fh/ejuP
9ZYX0G7m9n/3OtD1361tbtnj7wOt1nF7VPn0ekVFBW6//XZcf/31CAkJwf79+zlpMRERERF1WZeu
dCYmJuKGG27AokWLUF9fjwsXLuDZZ5/Ftddei0ceeQSrV6/G2bNnW4w1+vTTT6WxRgUFBTCZTIiM
jMSf//xnREZGIi4uTndjjTimk0gbtNxO6AHrj/SEYzrV4/ErnefOncMHH3yARYsWAQC8vb0xYMAA
pKenIzExEUBTp3THjh0AgJ07dyIhIQE+Pj6w2WwIDAzE/v37UVpaiqqqKkRGRgIAFi5cKL2GiIiI
iIyt005nYWEhBg8ejLvvvhsTJkzAvffeiwsXLnDSYrc41A4gu8un2DAKI5bLiGWi3kdv57He8gJ6
zOxQO4Db9FfH8uq001lfX48DBw5gyZIlOHDgAK666irp+3+b9fZJi4mIiIioY51OmWS1WmG1WjF5
8mQAwO23347U1FQEBAT0ykmLezoJbefPb/npNrXL29uWm9dpJY9cy5eWTQt5upPf4XCgqKgI1Dvp
6RO/gP7yAnrMHKV2ALfpr47l1aUPEv30pz/F3//+d4wePRpPPfUUqqurAaDXTVrMDxIRaYOW2wk9
YP2RnvCDROpRZcqkl156CXfeeSfCwsJw6NAhPPbYY1ixYgXeeecdjB49Gu+99x5WrFgBoOWkxbNm
zWo1afHixYsRFBSEwMDAXjRpsUPtALIz6rgUI5bLiGWi3kdv57He8gJ6zOxQO4Db9FfH8urSNxKF
hYXh008/bbU+MzOzzeevXLkSK1eubLV+4sSJOHz4sJsRiYiItMnXdxCqqs7Kvt3+/QeisrJc9u0S
qYnfSOQG3l4n0gYttxN6wPqTD2/9Ko91rB5Vbq8TEREREfUEO50e4VA7gOyMOi7FiOUyYpmo99Hf
eexQO4DbWMfK018dy4udTiIiIiJSHMd0uoFjOom0QcvthB6w/uTD8YbKYx2rh2M6iYiIiEh32On0
CIfaAWRn1HEpRiyXEctEvY/+zmOH2gHcxjpWnv7qWF7sdBIRERGR4jim0w0c00mkDVpuJ/SA9Scf
jjdUHutYPRzTSURERES6w06nRzjUDiA7o45LMWK5jFgm6n30dx471A7gNtax8vRXx/Jip5OIiIiI
FNelMZ02mw2+vr7o06cPfHx8kJ2djfLycsyfPx8nTpyAzWbD9u3b4efnBwBITU3F+vXr0adPH6xd
uxaxsbEAgJycHCQlJaG2thZxcXFYs2ZN60AaHmvEMZ1E2qDldkIPWH/y4XhD5bGO1aPKmE6TyQSH
w4GDBw8iOzsbAGC32xETE4P8/HxER0fDbrcDAPLy8rBt2zbk5eUhIyMDS5YskQInJycjLS0NBQUF
KCgoQEZGhmwFISIiIiLt6vLt9ct7uunp6UhMTAQAJCYmYseOHQCAnTt3IiEhAT4+PrDZbAgMDMT+
/ftRWlqKqqoqREZGAgAWLlwovcb4HGoHkJ1Rx6UYsVxGLBP1Pvo7jx1qB3Ab61h5+qtjeXX5Suf0
6dMxadIk/O1vfwMAlJWVwWw2AwDMZjPKysoAACUlJbBardJrrVYrXC5Xq/UWiwUul0u2ghARERGR
dnWp0/nRRx/h4MGD2L17N15++WV88MEHLR43mUzfjbmgtkWpHUB2UVFRakdQhBHLZcQyGU1tbS2m
TJmC8PBwhISE4NFHHwUAlJeXIyYmBqNHj0ZsbCwqKiqk16SmpiIoKAjBwcHYs2ePtD4nJwehoaEI
CgrC0qVLPV4WpejvPI5SO4DbWMfK018dy8u7K0+67rrrAACDBw/GLbfcguzsbJjNZpw6dQoBAQEo
LS2Fv78/gKYrmMXFxdJrnU4nrFYrLBYLnE5ni/UWi6XN/SUlJcFmswEA/Pz8EB4eLh2o5kvTai1/
fzlfqeWmfWqlvFzmshaWm/9fVFQEI+rbty+ysrLQr18/1NfX4yc/+Qk+/PBDpKenIyYmBo888ghW
r14Nu90Ou93eYuy8y+XC9OnTUVBQAJPJJI2dj4yMRFxcHDIyMjBz5ky1i0hEBIhOXLhwQVRWVgoh
hDh//rz40Y9+JN5++22xfPlyYbfbhRBCpKamipSUFCGEEEeOHBFhYWHi4sWL4vjx42LkyJGisbFR
CCFEZGSk2Ldvn2hsbBSzZs0Su3fvbrW/LkRSDQABiG78ZLnxXO2W/1JZWVlqR1CEEctlxDLp5X3S
HRcuXBCTJk0S//vf/8SYMWPEqVOnhBBClJaWijFjxgghhFi1apXU/gohxIwZM8Qnn3wiSkpKRHBw
sLT+jTfeEL/85S9b7UOP9afV87j93wvutPva+F3AOlaeVuu4PXLXUadXOsvKynDLLbcAAOrr63Hn
nXciNjYWkyZNQnx8PNLS0qQpkwAgJCQE8fHxCAkJgbe3N9atWyfdel+3bh2SkpJQU1ODuLg4/vVN
RPSdxsZGTJgwAV999RWSk5MxduzYDsfOT506VXpt89h5Hx8fjp0nIs3qtNM5YsQI5Obmtlo/aNAg
ZGZmtvmalStXYuXKla3WT5w4EYcPH+5GTL2LUjuA7Iw6LsWI5TJimYzIy8sLubm5OHfuHGbMmIGs
rKwWj/f2sfP6O4+j1A7gNtax8vRXx/Lq0phOIiLyjAEDBmD27NnIycnptWPn9bas3Fh/eCS/1peb
OMD6VX7Z4XBg48aNACC1D7KS9Wa9DDQYSQKO6ZTobVxKVxmxXEYsk17eJ111+vRpcfbsWSGEENXV
1WLatGkiMzOzV46db49Wz+P2fy9wvKFcWMfqkbuOeKWTiEhlpaWlSExMRGNjIxobG7FgwQJER0cj
IiKCY+eJyDC69N3rnqTl7wTmd68TaYOW2wk9YP3Jh98LrjzWsXpU+e51IiIiIqKeYKfTIxxqB5Dd
pZN2G4kRy2XEMlHvo7/z2KF2ALexjpWnvzqWFzudRERERKQ4jul0A8d0EmmDltsJPWD9yYfjDZXH
OlYPx3QSERERke6w0+kRDrUDyM6o41KMWC4jlol6H/2dxw61A7iNdaw8/dWxvNjpJCIiIiLFcUyn
Gzimk0gbtNxO6AHrTz4cb6g81rF6VBnT2dDQgIiICMyZMwcAUF5ejpiYGIwePRqxsbGoqKiQnpua
moqgoCAEBwdjz5490vqcnByEhoYiKCgIS5cula0ARERERKR9Xep0rlmzBiEhIdLXrNntdsTExCA/
Px/R0dGw2+0AgLy8PGzbtg15eXnIyMjAkiVLpB5ycnIy0tLSUFBQgIKCAmRkZChUJC1yqB1AdkYd
l2LEchmxTNT76O88dqgdwG2sY+Xpr47l1Wmn0+l0YteuXVi8eLHUgUxPT0diYiIAIDExETt27AAA
7Ny5EwkJCfDx8YHNZkNgYCD279+P0tJSVFVVITIyEgCwcOFC6TVEREREZHyddjofeughPPfcc/Dy
+v6pZWVlMJvNAACz2YyysjIAQElJCaxWq/Q8q9UKl8vVar3FYoHL5ZKtENoXpXYA2UVFRakdQRFG
LJcRy0S9j/7O4yi1A7iNdaw8/dWxvDrsdP7nP/+Bv78/IiIi2h1IajKZpNvuRERERERt8e7owY8/
/hjp6enYtWsXamtrUVlZiQULFsBsNuPUqVMICAhAaWkp/P39ATRdwSwuLpZe73Q6YbVaYbFY4HQ6
W6y3WCzt7jcpKQk2mw0A4Ofnh/DwcOmvg+bxEGotfz+GxJ3lXADLuvj8pn1qpbztLTev00oeuZZf
fPFFTZ1vcizn5uZi2bJlmsnTneXm/xcVFYF6p0vbRX1wQG9X4npSx76+g1BVdVbeQJ1yoDfVsSGI
LnI4HOJnP/uZEEKI5cuXC7vdLoQQIjU1VaSkpAghhDhy5IgICwsTFy9eFMePHxcjR44UjY2NQggh
IiMjxb59+0RjY6OYNWuW2L17d5v7cSOSxwEQgOjGT5Ybz9Vu+S+VlZWldgRFGLFcRiyTXt4nWqXH
+tPqedz+7wV32n1t/C7oSR13//dj1+qCdawOueuoy/N07t27F88//zzS09NRXl6O+Ph4nDx5Ejab
Ddu3b4efnx8AYNWqVVi/fj28vb2xZs0azJgxA0DTlElJSUmoqalBXFwc1q5d2+Z+tDx/HOfpJNIG
LbcTesD6kw/nkGyi7O9H1rFa5G4rODm8G9jpJNIGLbcTesD6kw87nU3Y6TQmVSaHp55yqB1AdlqY
a8zXd5D0QTYlf3x9B6ld1B7RwrEi6in9nccOtQO4jXWsPP3VsbzY6STdahq0LmT+yWq1zvOD44mI
iIyHt9fdwNvr2uKZ4wHwmGiPltsJPWD9yYe315vw9rox8fY6EREREekOO50e4VA7gOyMOy7FoXYA
2Rn3WFFvor/z2KF2ALexjpWnvzqWFzudRERERKQ4jul0A8d0agvHdPZeWm4n9ID1Jx+O6WzCMZ3G
xDGdRERERKQ77HR6hEPtALIz7rgUh9oBZGfcY2UcxcXFuPHGGzF27FiMGzdO+sa28vJyxMTEYPTo
0YiNjUVFRYX0mtTUVAQFBSE4OBh79uyR1ufk5CA0NBRBQUFYunSpx8uiFP2dxw61A7iNdaw8/dWx
vNjpJCJSmY+PD1544QUcOXIE+/btw8svv4yjR4/CbrcjJiYG+fn5iI6Oht1uBwDk5eVh27ZtyMvL
Q0ZGBpYsWSLdAktOTkZaWhoKCgpQUFCAjIwMNYtGRCThmE43cEyntnBMZ++l5XZCDvPmzcMDDzyA
Bx54AHv37oXZbMapU6cQFRWFL774AqmpqfDy8kJKSgoAYObMmXjqqacwfPhw3HTTTTh69CgAYOvW
rXA4HHjllVdabN/o9edJHNPZhGM6jYljOomIDKyoqAgHDx7ElClTUFZWBrPZDAAwm80oKysDAJSU
lMBqtUqvsVqtcLlcrdZbLBa4XC7PFoCIqB0ddjpra2sxZcoUhIeHIyQkBI8++igAjjNyn0PtALIz
7rgUh9oBZGfcY2U858+fx2233YY1a9agf//+LR4zmUzfXU3qnfR3HjvUDuA21rHy9FfH8vLu6MG+
ffsiKyuce3FUAAAgAElEQVQL/fr1Q319PX7yk5/gww8/RHp6OmJiYvDII49g9erVsNvtsNvtLcYZ
uVwuTJ8+HQUFBTCZTNI4o8jISMTFxSEjIwMzZ870VDmJiDTt22+/xW233YYFCxZg3rx5ACDdVg8I
CEBpaSn8/f0BNF3BLC4ull7rdDphtVphsVjgdDpbrLdYLG3uLykpCTabDQDg5+eH8PBwREVFAfj+
F6OWlnNzczWV59Ll7zs/ly7nXrZ8+eNdWYZHy9PT/V2yhXbK093l5nWXP97T/X23pLHzSc1lh8OB
jRs3AoDUPshKdNGFCxfEpEmTxP/+9z8xZswYcerUKSGEEKWlpWLMmDFCCCFWrVol7Ha79JoZM2aI
Tz75RJSUlIjg4GBp/RtvvCF++ctftrkfNyJ5HAABCIV/tFt+rfHM8eAx0SKjHZPGxkaxYMECsWzZ
shbrly9fLrWpqampIiUlRQghxJEjR0RYWJi4ePGiOH78uBg5cqRobGwUQggRGRkp9u3bJxobG8Ws
WbPE7t27W+3PaPWnJuXaIX0dI2XbY9axWuSuow6vdAJAY2MjJkyYgK+++grJyckYO3Zsh+OMpk6d
Kr22eZyRj48PxxkREbXjo48+wmuvvYbx48cjIiICQNNQpRUrViA+Ph5paWmw2WzYvn07ACAkJATx
8fEICQmBt7c31q1bJ916X7duHZKSklBTU4O4uDjeUSIizei00+nl5YXc3FycO3cOM2bMQFZWVovH
e/s4o65xoOVtAv1zOByX3FoyEgd4rMjTfvKTn6CxsbHNxzIzM9tcv3LlSqxcubLV+okTJ+Lw4cOy
5tMC/Z3HDuitLWEdK09/dSyvTjudzQYMGIDZs2cjJydH0XFGgLbHGnVv7Ig7Y3tanpRql1epsT/q
Ho+OlnPbeRyK5PfEspbHwrlzvjkcDhQVFYGIiPSpw3k6z5w5A29vb/j5+aGmpgYzZszA7373O7z9
9tu45pprkJKSArvdjoqKCumDRHfccQeys7OlDxIdO3YMJpMJU6ZMwdq1axEZGYnZs2fjwQcfbPO2
j5bnj+M8ndrCeTp7Ly23E3rA+pMP5+lswnk6jUnutqLDK52lpaVITExEY2MjGhsbsWDBAkRHRyMi
IoLjjIiIiIioy/iNRG7o/l9yDnR93Il2y38pLYxLUeYvawdaHyt9HJP2aOFYyU3L7YQe6LH+tHoe
t98OOdCz8YaeP0Y9qWN1rnQ60JvqWA38RiIiIiIi0h1e6XQDx3RqC8d09l5abif0gPUnH47pbMIx
ncbk0TGdRERERMbkrciUj/37D0RlZbns2zUC3l73CIfaAWR3+dRJxuFQO4DsjHusqDfR33nsUDuA
23pfHdej6QqqvD9VVWfbT6y7OpYXO51EREREpDiO6XQDx3RqC8d09l5abif0gPUnH47pbKLXMZ08
dh3jp9eJiIiISHfY6fQIh9oBZGfccSkOtQPIzrjHinoT/Z3HDrUDuI11rDz91bG82OkkIiIiIsVx
TKcbOKZTWzims/fScjuhB6w/+XBMZxOO6Wy5XT0du45wTCcRERER6Q47nR7hUDuA7Iw7LsWhdgDZ
GfdYUW+iv/PYoXYAt7GOlae/OpYXv5GIiIgMzdd3UIcTdhORZ3Q6prO4uBgLFy7E119/DZPJhPvu
uw8PPvggysvLMX/+fJw4cQI2mw3bt2+Hn58fACA1NRXr169Hnz59sHbtWsTGxgIAcnJykJSUhNra
WsTFxWHNmjWtA2l4rBHHdGoLx3T2XlpuJ/Sgt9WfXscb6ukY6bWOeew65vExnT4+PnjhhRdw5MgR
7Nu3Dy+//DKOHj0Ku92OmJgY5OfnIzo6Gna7HQCQl5eHbdu2IS8vDxkZGViyZIkUODk5GWlpaSgo
KEBBQQEyMjJkKwgRERERaVennc6AgACEh4cDAK6++mpcf/31cLlcSE9PR2JiIgAgMTERO3bsAADs
3LkTCQkJ8PHxgc1mQ2BgIPbv34/S0lJUVVUhMjISALBw4ULpNcbnUDuA7Iw7LsWhdgDZGfdYUW+i
v/PYoXYAt7GOlae/OpaXWx8kKioqwsGDBzFlyhSUlZXBbDYDAMxmM8rKygAAJSUlsFqt0musVitc
Ller9RaLBS6XS44yEBEREZHGdbnTef78edx2221Ys2YN+vfv3+Ixk8n03XgOaluU2gFkFxUVpXYE
hUSpHUB2xj1W1Jvo7zyOUjuA21jHytNfHcurS59e//bbb3HbbbdhwYIFmDdvHoCmq5unTp1CQEAA
SktL4e/vD6DpCmZxcbH0WqfTCavVCovFAqfT2WK9xWJpc39JSUmw2WwAAD8/P4SHh0sHqvnStFrL
31/OV2q5aZ9aKa/Wl5U/Hs3LUCQ/l7u23Pz/oqIiEBGRTolONDY2igULFohly5a1WL98+XJht9uF
EEKkpqaKlJQUIYQQR44cEWFhYeLixYvi+PHjYuTIkaKxsVEIIURkZKTYt2+faGxsFLNmzRK7d+9u
tb8uRFINAAGIbvxkufFc7Zb/UllZWWpH6MHxcPdY6eOYtEcLx0puej8matNj/fXkPFamrfi+feh5
u9/Wj/d325b3p3//gazjTrfb87xK1LEa5G4rOr3S+dFHH+G1117D+PHjERERAaBpSqQVK1YgPj4e
aWlp0pRJABASEoL4+HiEhITA29sb69atk269r1u3DklJSaipqUFcXBxmzpzZ3b4yERGRgdUDCkzn
U1XFoXCkHn73uhs4T6e2cJ7O3kvL7UR3LVq0CP/973/h7++Pw4cPA0CvnA9ZCZxDsuV2lTj2rOOW
2zXK+4vfvU5EZEB33313q7mLOR8yERkJO50e4VA7gOyMO9eYQ+0AsjPusTKWadOmYeDAgS3WcT7k
7+nvPHaoHcBtrGPl6a+O5cVOJxGRRnE+ZCIyEnY6PSJK7QCyM+5cY1FqB5CdcY9V79Lb50PW33kc
pXYAt7GOlae/OpZXl+bpJCIiz+ut8yHLP58v0HQrNuqS/0MHy+jk8e4tKzmfrhJ5v18n1/aal9HJ
491d1u982w6HAxs3bgQAqX2QlawTMMlAg5Ek6PacXu7MJabd8l9KC3ONdf94uHus9HFM2qOFYyU3
vR+T9hQWFopx48ZJy71xPuT2cA5J+fKyjvVZx2qQu60wxJXOTz75BLt27VY7BhFRtyUkJGDv3r04
c+YMhg4dimeeeYbzIRORoRhins577nkA69cXApiiTCgAwAcAMgHO06kZnKez9+pt80zKrbfVH+eQ
bLldJY4967jldo3y/pK7rTDElc4mswA8oOD2V6Op00lERKRX3r36A2mkLn563SMcageQnXHnGnO0
sc5b+uSwUj++voOUK5FhjxX1Jvo7jx1qB2hH89drtvWT1cFjnf2owaHSfrtPf+exvAx0pZNIKcp8
B/Kl+H3IRERkdAYa0xkM5W+vrwDHdGqHJ8d08rhrS28bkyi33lZ/HG+o5+0quW2O6eyMx797fdGi
RTCbzQgNDZXWlZeXIyYmBqNHj0ZsbCwqKiqkx1JTUxEUFITg4GDs2bNHWp+Tk4PQ0FAEBQVh6dKl
shWAiIiIiLSv007n3XffjYyMjBbr7HY7YmJikJ+fj+joaNjtdgBAXl4etm3bhry8PGRkZGDJkiVS
Dzk5ORlpaWkoKChAQUFBq20am0PtALIz7rgUh9oBZGfcY0W9if7OY4faAbrBoXYANznUDuA2/Z3H
8uq00zlt2jQMHDiwxbr09HQkJiYCABITE7Fjxw4AwM6dO5GQkAAfHx/YbDYEBgZi//79KC0tRVVV
FSIjIwEACxculF5DRERERMbXrU+vl5WVwWw2A2j6mraysjIAQElJCaxWq/Q8q9UKl8vVar3FYoHL
5epJbp2JUjuA7Iz7/bFRageQnXGPFfUm+juPo9QO0A1RagdwU5TaAdymv/NYXj3+9HrzlC9El/L1
HYSqqrNqxyAiIiKN6Fan02w249SpUwgICEBpaSn8/f0BNF3BLC4ulp7ndDphtVphsVjgdDpbrLdY
LO1uPykpSfqieT8/P4SHh3f4RfWlpS4Awd+92vHdv1EyL6OTxztazgWwrIvPbypTR+XVwnLzuvYe
b+pwii6UtyfLJgW2/yKA8DYex2XLcu2v5faVOF65ublYtmyZYtv3xHLz/4uKikC906Xtoj44oL8r
cQ7oK7MD+sqrx/NYZl35gvbCwkIxbtw4aXn58uXCbrcLIYRITU0VKSkpQgghjhw5IsLCwsTFixfF
8ePHxciRI0VjY6MQQojIyEixb98+0djYKGbNmiV2797d5r66GKmFRYt+JYCXBCAU/LF/NwNud16b
5cZz3S+/GrKysjp8vPt15c6PEvto61h5pixqHSs90sv7RKv0WH89OY+VfQ+3t2132n1PtW+dbbcn
mVnHl25XifNYDXK3FZ3O05mQkIC9e/fizJkzMJvNeOaZZ3DzzTcjPj4eJ0+ehM1mw/bt2+Hn5wcA
WLVqFdavXw9vb2+sWbMGM2bMANA0ZVJSUhJqamoQFxeHtWvXtrk/ztNpjPm9PDOHJufp7K162zyT
cutt9cd5OvW8XSW3zXk6OyN3W8HJ4buMnU53sNPp/j6McNw9pbd1muTW2+qPnU49b1fJbbPT2RmP
Tw5PcnCoHUB2xp1rzKF2ANkZ91hRb6K/89ihdoBucKgdwE0OtQO4TX/nsbzY6SQiIiIixfH2epfx
9ro7eHvd/X0Y4bh7Sm+7PSy33lZ/vL2u5+0quW3eXu8Mb68TERERke6w0+kRDrUDyM6441IcageQ
nXGPFfUm+juPHWoH6AaH2gHc5FA7gNv0dx7Lq8ffSERy81b8G5769x+IyspyRfdBREREdCmO6ewy
z43pNML4QY7pdH8fGnsralpvG5Mot95WfxzTqeftKrltjunsDMd0EhEREZHusNPpEQ61A8jOuONS
HGoHkJ1xjxX1Jvo7jx1qB+gGh9oB3ORQO4Db9Hcey4tjOnsl5ceNkrs4lpeIiIyNnU6PiFI7wGXq
4ZnxlnoUpdJ+lT8mVVV6PSZEQFRUlNoR3BSldoBuiFI7gJui1A7gNv2dx/Jip5Oo1+DVVNIup9OJ
++//LerqGtSOQkQK8XinMyMjA8uWLUNDQwMWL16MlJQUT0dQgQN6/IusYw4Yr0yAMcvlQFOZeDW1
t9BjO3vs2DFkZf0P1dVPt/OMIwDGdmPLFwG82f1g3eaA/toSB/SV2QFt5lXmD3wj/FHv0U5nQ0MD
HnjgAWRmZsJisWDy5MmYO3curr/+ek/GUEEutPnG6AkjlgkwZrmMWCZqj57bWR+fwQBub+dRZweP
daSm+4F6RI/vO71l1mrejv7AfxHAsm5t1Qh/1Hv00+vZ2dkIDAyEzWaDj48PfvGLX2Dnzp2ejKCS
CrUDKMCIZQKMWS4jlonaY9x2Vm/nsd7yAvrLrLe8gD4zy8ejnU6Xy4WhQ4dKy1arFS6Xy5MRiIgM
je0sEWmVR2+vK/shhj0AqhTc/t4evLZIrhAaUqR2AIUUqR1AAUUe3JdnPqxE7dPzdGgXL54AkNrO
o+kAftCNrX7b/UA9UqTSfnuiSO0AbipSO0A3FPXgtfofK+rRTqfFYkFxcbG0XFxcDKvV2uI5o0aN
6kGlvtWDdF3V3WybPLAPd8ixj87KpJdyXK6tcum1LM2ay6TfDkmzqqqzGDVqlNoxNEv5dlZpKzt4
7GAPtqtkedvbtjvtvjvb7amOttuTzKzjrm23p5nlVVV1tt32QO621qPfvV5fX48xY8bg3XffxZAh
QxAZGYk33nhDFwPciYj0gO0sEWmVR690ent7489//jNmzJiBhoYG3HPPPWwIiYhkxHaWiLTKo1c6
iYiIiKh38uin1y9VW1uLKVOmIDw8HCEhIXj00UcBAMuXL8f111+PsLAw3HrrrTh37pxaEd3WXpma
Pf/88/Dy8kJ5ub4md+2oXC+99BKuv/56jBs3ThcTUDdrr0zZ2dmIjIxEREQEJk+ejE8//VTlpO5r
aGhAREQE5syZAwAoLy9HTEwMRo8ejdjYWFRU6HPKjsvLpee2wpP++c9/YuzYsejTpw9ycnKk9e+8
8w4mTZqE8ePHY9KkScjKypIeq6urw3333YcxY8bg+uuvx7/+9S9N5202d+5chIaGeixrM3cz19TU
YPbs2VLbefnvCq3lBYCcnByEhoYiKCgIS5cu9WjeyzMfOHBAWl9eXo4bb7wR/fv3x69//esWr9mw
YQNCQ0MRFhaGWbNm4ZtvvtF0Xq2877qat5lb7zuhogsXLgghhPj222/FlClTxAcffCD27NkjGhoa
hBBCpKSkiJSUFDUjuq2tMgkhxMmTJ8WMGTOEzWYT33zzjZoRu6Wtcr333nti+vTpoq6uTgghxNdf
f61mRLe1VaaoqCiRkZEhhBBi165dIioqSs2I3fL888+LO+64Q8yZM0cIIcTy5cvF6tWrhRBC2O12
3b2nml1eLr23FZ5y9OhR8eWXX4qoqCiRk5MjrT948KAoLS0VQgjxv//9T1gsFumxJ598UjzxxBPS
8pkzZzSdVwgh3nzzTXHHHXeI0NBQj2Vt5m7m6upq4XA4hBBC1NXViWnTpondu3drNq8QQkyePFns
379fCCHErFmzPJq3o8wXLlwQH374oXjllVfEAw88IK2/ePGiGDRokPT79pFHHhFPPfWUZvMKoc33
XUd5hXD/fafalU4A6NevH4Cm3n1DQwMGDRqEmJgYeHk1xZoyZQqcTqeaEd3WVpkA4De/+Q3++Mc/
qhmtRy4v18CBA/HKK6/g0UcfhY+PDwBg8ODBakZ0W1tlCggIkK6YVVRUwGKxqBnRbU6nE7t27cLi
xYshvhs5k56ejsTERABAYmIiduzYoWbEbmmrXHpvKzwlODgYo0ePbrU+PDwcAQEBAICQkBDU1NTg
22+bphfasGFDi6tv11xzjWfCont5z58/jxdeeAGPP/64dH54kruZr7zyStxwww0AAB8fH0yYMMGj
c6m6m7e0tBRVVVWIjIwEACxcuNDj7Uh7mfv164cf//jH+MEPWk6n5e3tjYEDB+L8+fMQQqCystKj
7bm7eQFtvu86ytud952qnc7GxkaEh4fDbDbjxhtvREhISIvH169fj7i4OJXSdU9bZdq5cyesVivG
jx+vdrxuu7xcY8eORX5+Pt5//31MnToVUVFR+Oyzz9SO6Za2ymS32/Hb3/4Ww4YNw/Lly5Ga2t6c
gdr00EMP4bnnnpM6YwBQVlYGs9kMADCbzSgrK1MrXre1Va5L6bGt0JI333wTEydOhI+PjzT84vHH
H8fEiRMRHx+Pr7/+WuWELV2aFwCeeOIJPPzww9Ifklp0eeZmFRUVeOuttxAdHa1SsrZdmtflcrWY
dstisWjuCwcun/LHy8sLa9aswbhx42CxWHD06FEsWrRIpXStXZ5X6++7tqZU6s77TtVOp5eXF3Jz
c+F0OvH+++/D4XBIjz377LO44oorcMcdd6gXsBsuL9OuXbuQmpqKp59+WnqOGn+J91Rbx6q+vh5n
z57Fvn378NxzzyE+Pl7tmG5pq0z33HMP1q5di5MnT+KFF17QVCPVmf/85z/w9/dHREREu+eYyWTS
8PyMbeusXHptK+QUExOD0NDQVj9vvdX53MVHjhzBihUr8OqrrwJomnLJ6XTixz/+MXJycvDDH/4Q
Dz/8sGbz5ubm4vjx47j55psVbVvlzNysvr4eCQkJWLp0KWw2m+bzKq0nmS9XWVmJBx98EJ9//jlK
SkoQGhoq+0UEOfNq/X13ue6+7zw6ZVJ7BgwYgNmzZ+Ozzz5DVFQUNm7ciF27duHdd99VO1q3NZfp
wIEDKCwsRFhYGICm24QTJ05EdnY2/P39VU7pvkuPldVqxa233goAmDx5Mry8vPDNN9949JaAHC4t
U3Z2NjIzMwEAt99+OxYvXqxyuq77+OOPkZ6ejl27dqG2thaVlZVYsGABzGYzTp06hYCAAJSWluru
vGurXAsXLsTmzZsN0VbI4Z133unW65xOJ2699VZs2bIFI0aMANB0S69fv37Se/v2229HWlqabFkB
efPu27cPn332GUaMGIH6+np8/fXXuOmmm/Dee+/JGVnWzM2aPzTy4IMPyhGxBTnzWiyWFsNXnE6n
Irequ5u5LUePHsWIESOkMvz85z/H6tWrZds+IG9eLb/v2tLd951qVzrPnDkjXU6uqanBO++8g4iI
CGRkZOC5557Dzp070bdvX7XidUtbZfrhD3+IsrIyFBYWorCwEFarFQcOHNDVL/72jtW8efOkEyw/
Px91dXW66XC2Vabw8HAEBgZi796mrzx977332hzjolWrVq1CcXExCgsLsXXrVtx0003YsmUL5s6d
i02bmr4BY9OmTZg3b57KSd3TVrk2b96s67ZCLZdekaioqMDs2bOxevVq/PCHP5TWm0wmzJkzR/rk
8rvvvouxY8d6PCvQtbz3338/XC4XCgsL8eGHH2L06NGydzjd0ZXMQNNt1MrKSrzwwguejthCV/Je
d9118PX1xf79+yGEwJYtW1RtR9q6snb5upEjR+KLL77AmTNnADR1uC4fwucpXcmr1fdde+u6/b7r
zqec5HDo0CEREREhwsLCRGhoqPjjH/8ohBAiMDBQDBs2TISHh4vw8HCRnJysVkS3tVemS40YMUJ3
n15vr1x1dXXirrvuEuPGjRMTJkwQWVlZ6gZ1Q3tl+vTTT0VkZKQICwsTU6dOFQcOHFA5afc4HA7p
U97ffPONiI6OFkFBQSImJkacPXtW5XTdl5WVJZVLz22FJ/3rX/8SVqtV9O3bV5jNZjFz5kwhhBC/
//3vxVVXXSXVX3h4uDh9+rQQQogTJ06In/70p2L8+PFi+vTpori4WNN5mxUWFqry6XV3MxcXFwuT
ySRCQkKk9WlpaZrNK4QQn332mRg3bpwYNWqU+PWvf+2xrJ1lFkKI4cOHi0GDBomrr75aWK1WcfTo
USGEEJs2bRLjxo0T48ePF3PnzhXl5eWayzt06FAprxbfdx3lbebO+46TwxMRERGR4lT9IBERERER
9Q7sdBIRERGR4tjpJCIiIiLFsdNJRERERIpjp5OIiIiIFMdOJxEREREpjp1OIiIiIlIcO51ERERE
pDh2OomIiIhIcex0EhEREZHi2OkkIiIiIsWx00lEREREimOnk4iIiIgUx04nERERESmOnU4iIiIi
Uhw7nURERESkOHY6iYiIiEhx7HQSERERkeLY6SQiIiIixbHTSURERESKY6eTiIiIiBTHTicRERER
KY6dTiIiIiJSHDudpBgvLy8cP35c7RiKKCoqgpeXFxobG9WOQkQkCyO32aQN7HQSAMBms+EHP/gB
vvnmmxbrIyIi4OXlhZMnT/Zo+0lJSXjiiSdarFO74xYcHIwNGza0Wr9mzRpMnjxZhURERF2jRptN
1FPsdBIAwGQyYeTIkXjjjTekdYcPH0ZNTQ1MJpMs25djO3JKSkrC5s2bW63fsmULkpKSPB+IiKiL
emObTfrHTidJ7rrrrhadsE2bNmHhwoUQQgAALl68iIcffhjDhw9HQEAAkpOTUVtbKz3/ueeew5Ah
Q2C1WrF+/Xq393/u3DksXLgQ/v7+sNlsePbZZ6V9P/XUU1iwYIH03Muvkm7cuBGjRo2Cr68vRo4c
iddff1167vr16xESEoJBgwZh5syZ0hWAu+66Cx9++GGLKwJ5eXk4fPgwEhIS8N///hcREREYMGAA
hg0bhqefftrtMhERKUXpNrt5O83t7ebNmzF8+HAMHjwYq1atkp7X2NiIVatWITAwEL6+vpg0aRKc
TqdSxSYdY6eTJFOnTkVlZSW++OILNDQ0YNu2bbjrrrsANDU+K1aswLFjx/D555/j2LFjcLlceOaZ
ZwAAGRkZeP7555GZmYn8/HxkZma22n5zA9aeX//616iqqkJhYSH27t2LzZs3S7e/O/qL+8KFC1i6
dCkyMjJQWVmJTz75BOHh4QCAnTt3IjU1Ff/+979x5swZTJs2DQkJCQAAq9WKG2+8EVu2bJG2tWXL
FsyePRuDBg3C1Vdfjddeew3nzp3Df//7X/zlL3/Bzp073ahRIiLlKN1mX+6jjz5Cfn4+3n33XTzz
zDP48ssvAQDPP/88tm7dit27d6OyshIbNmxAv379lCs46ZcgEkLYbDaRmZkp/vCHP4hHH31U7N69
W8TGxor6+nphMplEYWGhuOqqq8RXX30lvebjjz8WI0aMEEIIcffdd4tHH31Ueiw/P1+YTCbp+YmJ
iaJv377Cz89P+vH19RVeXl6ioaFB1NfXiyuuuEIcPXpU2sarr74qoqKihBBC/O53vxN33XWX9Fhh
YaEwmUyioaFBnD9/Xvj5+Yk333xTVFdXtyjXzJkzRVpamrTc0NAg+vXrJ06ePCmEEOK1114TY8aM
kR4bNmyY2LFjR5t1tHTpUvHQQw+12j8Rkacp3WYnJSWJxx9/XAjxfXvncrmk50dGRopt27YJIYQY
PXq0SE9PV7zMpH+80kkSk8mEBQsW4B//+Eer2zSnT59GdXU1Jk6ciIEDB2LgwIGYNWsWzpw5AwAo
LS3F0KFDpW0NGzas1baXL1+Os2fPSj+HDh2Stn/mzBl8++23GD58eIttuFyuTnNfddVV2LZtG155
5RUMGTIEP/vZz6S/wE+cOIGlS5dKma+55hoAkLZ7yy23oLS0FPv374fD4UB1dTVmz54NANi/fz9u
vPFG+Pv7w8/PD6+++mqrQftERGpRss1uS0BAgPT/fv364fz58wAAp9OJUaNGyVk0Mih2OqmFYcOG
YeTIkdi9ezduvfVWaf21116LK6+8Enl5eVKnsaKiApWVlQCA6667rsXYyLY+OSkuu71+6fK1114L
Hx8fFBUVtdiG1WoF0NSxrK6ulh47depUi23FxsZiz549OHXqFIKDg3HvvfdK5fnrX//aorN74cIF
THTw6cMAACAASURBVJ06FUBTw3n77bdj8+bNeO2115CQkABvb28AwB133IF58+bB6XSioqIC999/
P6dIIiJNUbLN7qqhQ4fi2LFj3S8E9RrsdFIraWlpeO+993DllVdK67y8vHDvvfdi2bJlOH36NICm
q4V79uwBAMTHx2Pjxo04evQoqqurW33o5vIO5+X69OmD+Ph4PPbYYzh//jxOnDiBF154QRqfFBER
gffffx/FxcU4d+4cUlNTpdd+/fXX2LlzJy5cuAAfHx9cddVV6NOnDwDg/vvvx6pVq5CXlweg6cNK
//znP1vsOzExEVu3bsWbb76JxMREaf358+cxcOBAXHHFFcjOzsbrr7/OT3MSkeao0WZfavHixXji
iSdw7NgxCCFw6NAhlJeXy1AyMhp2OqmVkSNHYsKECdJy89QZq1evRmBgIKZOnYoBAwYgJiYG+fn5
AICZM2di2bJluOmmmzB69GhER0e36KC1N/3GpeteeuklXHXVVRg5ciSmTZuGO++8E3fffTcAYPr0
6Zg/fz7Gjx+PyZMnY86cOdJrGxsb8cILL8BiseCaa67BBx98gL/85S8AgHnz5iElJQW/+MUvMGDA
AISGhuLtt99ukeGnP/0p/Pz8MHToUEycOFFav27dOjz55JPw9fXF73//e8yfP7/d7EREavFEm91R
e/eb3/wG8fHxiI2NxYABA3Dvvfe2+JQ8UTOT6ODPmdraWtxwww24ePEi6urqcPPNNyM1NRVPPfUU
/v73v2Pw4MEAgFWrVmHWrFkAgNTUVKxfvx59+vTB2rVrERsbCwDIyclBUlISamtrERcXhzVr1nig
eERE+lBRUYHFixfjyJEjMJlM2LBhA4KCgjB//nycOHECNpsN27dvh5+fHwC2tUSkPx1e6ezbty+y
srKQm5uLQ4cOISsrCx9++CFMJhN+85vf4ODBgzh48KDU4czLy8O2bduQl5eHjIwMLFmyRLpEn5yc
jLS0NBQUFKCgoAAZGRnKl46ISCeWLl2KuLg4HD16FIcOHUJwcDDsdrt0dSo6Ohp2ux0A21oi0qdO
b683z7VVV1eHhoYGDBw4EEDb4z127tyJhIQE+Pj4wGazITAwEPv370dpaSmqqqoQGRkJAFi4cCF2
7NghZzmIiHTr3Llz+OCDD7Bo0SIAgLe3NwYMGID09HRpnHFiYqLUbrKtJSI96rTT2djYiPDwcJjN
Ztx4440YO3YsgKbxd2FhYbjnnntQUVEBACgpKZE+bQw0Tb7tcrlarbdYLF2aCoeIqDcoLCzE4MGD
cffdd2PChAm49957ceHCBZSVlcFsNgMAzGYzysrKALCtJSJ96rTT6eXlhdzcXDidTrz//vtwOBxI
Tk5GYWEhcnNzcd111+G3v/2tJ7ISERlSfX09Dhw4gCVLluDAgQO46qqrpFvpzfhd2ESkd95dfeKA
AQMwe/ZsfPbZZ4iKipLWL168GHPmzAHQ9Fd1cXGx9JjT6YTVaoXFYmnxPaxOpxMWi6XN/VgsFpSU
lLhbDiLqRUaNGmWoeQGtViusVismT54MALj99tuRmpqKgIAAnDp1CgEBASgtLYW/vz+Anre1bGeJ
qCvkbms7vNJ55swZ6dZ5TU0N3nnnHURERLSYmPvf//43QkNDAQBz587F1q1bUVdXh8LCQhQUFCAy
MhIBAQHw9fXF/v37IYTAli1bMG/evDb3WVJSAiGEbn4SExNVz2DkvHrMrLe8esz81VdfydUGakJA
QACGDh0qTWeTmZmJsWPHYs6cOdi0aRMAYNOmTVK72dO2VivtrBbOOy1k0EoOZtBWDi1kkLut7fBK
Z2lpKRITE9HY2IjGxkYsWLAA0dHRWLhwIXJzc2EymTBixAi8+uqrAICQkBDEx8cjJCQE3t7eWLdu
nXQ7aN26dUhKSkJNTQ3i4uIwc+ZMWQtCRKRnL730Eu68807U1dVh1KhR2LBhAxoaGhAfH4+0tDRp
yiTAGG2tr+8gVFWdlTrVcuvffyAqKzlBOZGWdNjpDA0NxYEDB1qt37x5c7uvWblyJVauXNlq/cSJ
E3H48OFuRNQ2m82mdgS36C0voL/MessL6DOz0YSFheHTTz9ttT4zM7PN5+u9ra2qOgvgdwCeUmj7
XRv/qpVzXws5mOF7WsihhQxy4zcS9dCl41v1QG95Af1l1lteQJ+ZyQii1A6gmXNfCzmY4XtayKGF
DHJjp5OIiIiIFMdOJxEREREprsPvXleDyWSCxiIRkcawnegZLdRf0weflMygfhmJ9E7utoJXOomI
iIhIcex09pDD4VA7glv0lhfQX2a95QX0mZmMwKF2AM2c+1rIwQzf00IOLWSQGzudRERERKQ4julU
QPOkx3LjZMdETYzQTqhJC/XHMZ1E2id3W8FOpwKUa0z1XzdEcjBCO6EmLdQfO51E2scPEmmM3sZc
6C0voL/MessL6DMzGYFD7QCaOfe1kIMZvqeFHFrIIDd2OomIiIhIcby9rgDeXidSlhHaCTVpof54
e51I+3h7nYiIiIh0h53OHtLbmAu95QX0l1lveQF9ZiYjcKgdQDPnvhZyMMP3tJBDCxnkxk4nERER
ESmuwzGdtbW1uOGGG3Dx4kXU1dXh5ptvRmpqKsrLyzF//nycOHECNpsN27dvh5+fHwAgNTUV69ev
R58+fbB27VrExsYCAHJycpCUlITa2lrExcVhzZo1bQfSwFijnuKYTiJlGaGdUJMW6o9jOom0z6Nj
Ovv27YusrCzk5ubi0KFDyMrKwocffgi73Y6YmBjk5+cjOjoadrsdAJCXl4dt27YhLy8PGRkZWLJk
iRQ2OTkZaWlpKCgoQEFBATIyMmQrBBERERFpW6e31/v16wcAqKurQ0NDAwYOHIj09HQkJiYCABIT
E7Hj/7d3t8FNXQfewP8Gu5NNeTFksEyltuLFvBgbyw0VPJ2hIxZsB2eTQsi4MQm2Q8hm4NkWNxnH
m35ps/MUi2TS1qSh09nFQzrbofChBW+KvZSNb0JeDBuwJlmcHdxiF1t+ScA4mPBuneeDsIyxwb7S
vTrniP9vxgP3Sjr3r6t7j4/vPTpn/34AwIEDB1BcXIyUlBS43W7MnTsXR48eRVdXF/r7++H1egEA
JSUlkdfoTrc+F7rlBfTLrFteQM/MlAgM2QGUOfZVyMEMQ1TIoUIGq43Z6AyFQvB4PHA4HFixYgUW
LVqEnp4eOBwOAIDD4UBPTw8AoLOzEy6XK/Jal8uFYDA4Yr3T6UQwGLT6vRARERGRosZsdE6YMAGB
QAAdHR1499130dDQMOzxpKSkm31z7k0+ny+OW0uO7O9of1asWDFsecqU6XHMH5347uPY6ZYX0DNz
InK73Vi8eDFyc3Mjd4Z6e3uRl5eHefPmIT8/H319fZHnV1VVISMjAwsWLMChQ4ci648fP47s7Gxk
ZGRg69atcX8f4+eTHUCZY1+FHMwwRIUcKmSwWvJ4nzh16lQ8/PDDOH78OBwOB7q7u5Geno6uri6k
paUBCF/BbG9vj7ymo6MDLpcLTqcTHR0dw9Y7nc47bqusrAxutxsAkJqaCo/HE9n5g5ebVV8eMrjs
s2D5BoAGE88fe7m/PwmGYUjfX1zm8t2WB//f1taGRJaUFD4fp08f+mNwsA/9iy++iO3bt8Pv98Pv
9w/rQx8MBrFq1Sq0tLQgKSkp0ofe6/WisLAQ9fX1eOihhyS+MyIiAOIuPv/8c3H+/HkhhBCXLl0S
y5cvF4cPHxYVFRXC7/cLIYSoqqoSlZWVQgghTp48KXJycsTVq1fF6dOnxezZs0UoFBJCCOH1ekVj
Y6MIhUJi9erVoq6ubtRtjhFJOQ0NDSPWARCAsOHHinIbRpSputH2scp0yyuEfpl1OG6j4Xa7xdmz
Z4etmz9/vuju7hZCCNHV1SXmz58vhBBi27ZtkXpYCCEKCgrEhx9+KDo7O8WCBQsi6/fs2SOee+65
YWWqsP/C9dnt9ZG19eV4qHLsq5CDGYaokEOFDFbXFXe90tnV1YXS0lKEQiGEQiFs2LABK1euRG5u
LoqKirBr167IkEkAkJmZiaKiImRmZiI5ORk7d+6M3HrfuXMnysrKcPnyZRQWFvKvbiKi2yQlJWHV
qlWYOHEinnvuOTz77LN37UO/bNmyyGsH+9CnpKSwDz0RKYlzr9vAznE6rS9X//1N955EqCdG09XV
hZkzZ+Lzzz9HXl4eXn/9dTz66KM4f/585DnTp09Hb28vfvCDH2DZsmV48sknAQCbNm3C6tWr4Xa7
8c///M/485//DAA4cuQIXnnlFfzHf/xHpAwV9h/H6SRSn9V1xbj7dBIRkb1mzpwJAJgxYwbWrl2L
Y8eO2daHXoW+80MGl30WL8PW/FzmcqItG4aB3bt3A0CkfrCUpTfrLaBgpLtin077qdCvxQzd8gqh
X2YdjluzvvzyS3HhwgUhhBAXL14U3/nOd8R//ud/2tKHXoX9B/bpHEaFHMwwRIUcKmSwuq7glU4i
IgX09PRg7dq1AIAbN27gySefRH5+PpYsWcI+9ESUEO75Pp1TpkxHf//5sZ9oGvt0EtlFhT6JOlNh
/9nfpzMF4WHm7DF58jRcuNBrW/lEKrC6rrjnG532VHz8IhGRnVRoNOlMhf0Xjy8S8YtKRLGxuq6Y
YFlJ9yxDdgCTDNkBTBv5pQO16ZYX0DMzJQJDdgCokUGNc5AZhqiQQ4UMVmOjk4iIiIhsx9vrvL3O
W0SkHRVuD+tMhf3H2+tE6uPtdSIiIiLSDhudMTNkBzDJkB3ANN36teiWF9AzMyUCQ3YAqJFBjXOQ
GYaokEOFDFZjo5OIiIiIbMc+nezTyX5JpB0V+iTqTIX9xz6dROpjn04iIiIi0g4bnTEzZAcwyZAd
wDTd+rXolhfQMzMlAkN2AKiRQY1zkBmGqJBDhQxWY6OTiIiIiGw3Zp/O9vZ2lJSU4LPPPkNSUhL+
8R//ET/84Q/x05/+FP/2b/+GGTNmAAC2bduG1atXAwCqqqpQU1ODiRMnYseOHcjPzwcAHD9+HGVl
Zbhy5QoKCwtRXV09MhD7dMa5XPZLIv2o0CdRZyrsP/bpJFJf3Ode7+7uRnd3NzweDy5evIgHH3wQ
+/fvx759+zB58mQ8//zzw57f3NyM9evX47//+78RDAaxatUqtLS0ICkpCV6vF7/61a/g9XpRWFiI
H/7wh3jooYdsfYNjYaOTFSfpR4VGk85U2H9sdBKpL+5fJEpPT4fH4wEATJo0CQsXLkQwGASAUYMc
OHAAxcXFSElJgdvtxty5c3H06FF0dXWhv78fXq8XAFBSUoL9+/db9kbkMWQHMMmQHcA03fq16JYX
0DMzJQJDdgCokUGNc5AZhqiQQ4UMVjPVp7OtrQ1NTU1YtmwZAOD1119HTk4OnnnmGfT19QEAOjs7
4XK5Iq9xuVwIBoMj1judzkjjlYiIiIgS27gbnRcvXsTjjz+O6upqTJo0CZs3b0ZraysCgQBmzpyJ
F154wc6cCvPJDmCST3YA03w+n+wIpuiWF9AzMyUCn+wAUCODGucgMwxRIYcKGayWPJ4nXb9+HevW
rcNTTz2FNWvWAADS0tIij2/atAmPPPIIgPAVzPb29shjHR0dcLlccDqd6OjoGLbe6XSOur2ysjK4
3W4AQGpqKjweT2TnD15utmo5zMBQxWPc/DfWZYzxuCrL4X1i1/7lMpetWB78f1tbG4iISFNiDKFQ
SGzYsEGUl5cPW9/Z2Rn5/89//nNRXFwshBDi5MmTIicnR1y9elWcPn1azJ49W4RCISGEEF6vVzQ2
NopQKCRWr14t6urqRmxvHJEsBUAAIoafhlHWxVrmnX6sKPf2vPHd39FoaGiQHcEU3fIKoV9mHY5b
lamw/8L12Wj1Z7zry2gzWLsPVTgHmWGICjlUyGD1cT7mlc73338f//7v/47FixcjNzcXQHh4pD17
9iAQCCApKQmzZs3Cb37zGwBAZmYmioqKkJmZieTkZOzcufPmtxSBnTt3oqysDJcvX0ZhYeGIb64T
ERERUWLi3OscMonDfpB2VBjyR2cq7D8OmUSkPs69TkSUoAYGBpCbmxvpI9/b24u8vDzMmzcP+fn5
kVFCgPAkHBkZGViwYAEOHToUWX/8+HFkZ2cjIyMDW7dujft7ICK6EzY6Y2bIDmCSITuAabqNVaZb
XkDPzImouroamZmZkS5Jfr8feXl5OHXqFFauXAm/3w8gPAnH3r170dzcjPr6emzZsiVyNWLz5s3Y
tWsXWlpa0NLSgvr6emnvZ2yG7ABQI4Ma5yAzDFEhhwoZrMZGJxGRAjo6OnDw4EFs2rQp0oCsra1F
aWkpAKC0tDQyoca9NwkHESUCNjpj5pMdwCSf7ACm6TZWmW55AT0zJ5of/ehHePXVVzFhwlC13NPT
A4fDAQBwOBzo6ekBkEiTcPhkB4AaGdQ4B5lhiAo5VMhgNTY6iYgke+utt5CWlobc3Nw7dtpPSkqK
3HYnItLRuAaHp7sxoMpfyuNjQK+8wwev14FueQE9MyeSDz74ALW1tTh48CCuXLmCCxcuYMOGDXA4
HOju7kZ6ejq6uroik3LoNgnHnQf9NxCujwaXfbest2IZYzx+67ajL9+K/REIBFBeXm5ZedEsD66T
OSnE7Vnivf3B5Xv18zAMA7t37waASP1gKUtH/bRAvCOBg8PHdX9HQ4UBcs3QLa8Q+mXW4biNlmEY
4h/+4R+EEEJUVFQIv98vhBCiqqpKVFZWCiH0m4RjNODg8MOocA4ywxAVcqiQwerjnON0cpxOjjVH
2lFhnEm7vPPOO3jttddQW1uL3t5eFBUV4cyZM3C73di3bx9SU1MBhCfpqKmpQXJyMqqrq1FQUAAg
PGTSrZNw7NixY8Q2VNh/HKeTSH1W1xVsdLLRyYqTtKNCo0lnKuw/NjqJ1MfB4ZVjyA5gknHbcnLk
CwpW/kyZMt26xJqNVaZbXkDPzJQIDNkBoEYGNc5BZhiiQg4VMliNXyS6592AHVcD+vv5LVsiIiIa
wtvrvL1uQ5nhchU7tCiBqHB7WGcq7D/eXidSH2+vExEREZF22OiMmSE7gEmG7ACm6davRbe8gJ6Z
KREYsgNAjQxqnIPMMESFHCpksBobnURERERkO/bpZJ9OG8oMl6vYoUUJRIU+iTpTYf+xTyeR+uLe
p7O9vR0rVqzAokWLkJWVFRlouLe3F3l5eZg3bx7y8/PR19cXeU1VVRUyMjKwYMECHDp0KLL++PHj
yM7ORkZGBrZu3WrZmyAiIiIitY3Z6ExJScEvfvELnDx5Eo2NjXjjjTfw6aefwu/3Iy8vD6dOncLK
lSvh9/sBAM3Nzdi7dy+am5tRX1+PLVu2RFrJmzdvxq5du9DS0oKWlhbU19fb++7iwpAdwCRDdgDT
dOvXolteQM/MlAgM2QGgRgY1zkFmGKJCDhUyWG3MRmd6ejo8Hg8AYNKkSVi4cCGCwSBqa2tRWloK
ACgtLcX+/fsBAAcOHEBxcTFSUlLgdrsxd+5cHD16FF1dXejv74fX6wUAlJSURF5DRERERInN1BeJ
2tra0NTUhKVLl6KnpwcOhwMA4HA40NPTAwDo7OyEy+WKvMblciEYDI5Y73Q6EQwGrXgPkvlkBzDJ
JzuAaT6fT3YEU3TLC+iZmRKBT3YAqJFBjXOQGYaokEOFDFYbd6Pz4sWLWLduHaqrqzF58uRhjw1O
fUhERERENJpxTYN5/fp1rFu3Dhs2bMCaNWsAhK9udnd3Iz09HV1dXUhLSwMQvoLZ3t4eeW1HRwdc
LhecTic6OjqGrXc6naNur6ysDG63GwCQmpoKj8cTafEP9nGwajnMwNBfu8bNf8e7/EsAnlEex23L
0ZZv9fLteQefY/X2bi5Z8HkFAgGUl5dbVp7dy7rlHeTz+ZTJM1o+wzDQ1tYGSiQG5F9pVCFD+PiW
fWWLGdTKoUIGy4kxhEIhsWHDBlFeXj5sfUVFhfD7/UIIIaqqqkRlZaUQQoiTJ0+KnJwccfXqVXH6
9Gkxe/ZsEQqFhBBCeL1e0djYKEKhkFi9erWoq6sbsb1xRLIUAAGIGH4aRlkXa5l3+rGi3Nvz2pfV
Kg0NDZaVFQ+65RVCv8zxricSjQr7L1z3jFZ/xru+jDaDtftQhXOQGYaokEOFDFYf52OO0/nee+/h
u9/9LhYvXhy5hV5VVQWv14uioiKcOXMGbrcb+/btQ2pqKgBg27ZtqKmpQXJyMqqrq1FQUAAgPGRS
WVkZLl++jMLCwsjwS7fiOJ3xLpfjdJJ+VBhnUmcq7D+O00mkPqvrCg4Oz0anDWWGy1Xs0KIEokKj
SWcq7D82OonUF/fB4WkshuwAJhmyA5im21hluuUF9MxMicCQHQBqZFDjHGSGISrkUCGD1djoJCIi
IiLb8fY6b6/bUGa4XMUOLUogKtwe1pkK+4+314nUx9vrREQJ5sqVK1i6dCk8Hg8yMzPx0ksvAQB6
e3uRl5eHefPmIT8/H319fZHXVFVVISMjAwsWLMChQ4ci648fP47s7GxkZGRg69atcX8vRER3wkZn
zAzZAUwyZAcwTbd+LbrlBfTMnEjuu+8+NDQ0IBAI4OOPP0ZDQwPee+89+P1+5OXl4dSpU1i5ciX8
fj8AoLm5GXv37kVzczPq6+uxZcuWyNWIzZs3Y9euXWhpaUFLSwvq6+tlvrUxGLIDQI0MapyDzDBE
hRwqZLAaG51ERAq4//77AQDXrl3DwMAApk2bhtraWpSWlgIASktLsX//fgDAgQMHUFxcjJSUFLjd
bsydOxdHjx5FV1cX+vv74fV6AQAlJSWR1xARycZGZ8x8sgOY5JMdwDTdZmTQLS+gZ+ZEEwqF4PF4
4HA4sGLFCixatAg9PT1wOBwAwrPA9fT0AAA6Ozvhcrkir3W5XAgGgyPWO51OBIPB+L4RU3yyA0CN
DGqcg8wwRIUcKmSw2rimwSQiIntNmDABgUAAX3zxBQoKCtDQ0DDs8aSkpMgEHUREOmKjM2YGVPlL
eXwM6JVXv/lndcsL6Jk5UU2dOhUPP/wwjh8/DofDge7ubqSnp6OrqwtpaWkAwlcw29vbI6/p6OiA
y+WC0+lER0fHsPVOp3PU7ZSVlcHtdgMAUlNT4fF4Rsx5b/fyUH00uOy7Zb0Vyxjj8Vu3HX35VuyP
QCCA8vJyy8qLZnlwnazt37ptWdsfXL5XPw/DMLB7924AiNQPlrJ0Uk0LxDsSYp57fLR5ezn3upWf
owrzz5qhW14h9MusYNUVk88//1ycP39eCCHEpUuXxPLly8Xhw4dFRUWF8Pv9QgghqqqqRGVlpRBC
iJMnT4qcnBxx9epVcfr0aTF79mwRCoWEEEJ4vV7R2NgoQqGQWL16tairqxuxPRX2X7juiXbecyvr
y2gzWLsPVTgHmWGICjlUyGD1cc5xOjlOpw1lhstV7NCiBKLCOJNW+uSTT1BaWopQKIRQKIQNGzag
oqICvb29KCoqwpkzZ+B2u7Fv3z6kpqYCALZt24aamhokJyejuroaBQUFAMJDJpWVleHy5csoLCzE
jh07RmxPhf3HcTqJ1Me5123Ynk4NOZ2yKnZoUQJRodGkMxX2HxudROrj4PDKMWQHMMmQHcA03cYq
0y0voGdmSgSG7ABQI4Ma5yAzDFEhhwoZrMZGJxERERHZjrfXeXvdhjLD5Sp2aFECUeH2sM5U2H+8
vU6kvrjfXt+4cSMcDgeys7Mj637605/C5XIhNzcXubm5qKurizzG+YCJiIiI6HZjNjqffvrpEXP3
JiUl4fnnn0dTUxOampqwevVqAIk0H7AZhuwAJhmyA5imW78W3fICemamRGDIDgA1MqhxDjLDEBVy
qJDBamM2OpcvX45p06aNWD/a5VbOB0xEREREo4n6i0Svv/46cnJy8Mwzz6Cvrw9AIs0HbIZPdgCT
fLIDmKbbTDm65QX0zEyJwCc7ANTIoMY5yAxDVMihQgarRdXo3Lx5M1pbWxEIBDBz5ky88MILVuci
IiIiogQS1dzrg/P/AsCmTZvwyCOPALBmPmAgvnMChxmIfo7fXwLwjPI4bluOtnyrl2/PO/gcq7d3
cylB5sBN5LyD4j3Hr9l8hmGgra0NlEgMyL/SqEKG8PEt+8oWM6iVQ4UMlhvPXJmtra0iKysrstzZ
2Rn5/89//nNRXFwshIh9PuCbwzeNJ5JlEPPc46PN28u51638HFWYf9YM3fIKoV/meNcTiUaF/Reu
e6Kd99zK+jLaDNbuQxXOQWYYokIOFTJYfZyPOU5ncXEx3nnnHZw9exYOhwMvv/xy5GpOUlISZs2a
hd/85jdwOBwAYpsPGOA4nfEvl+N0kn5UGGdSZyrsP47TSaQ+zr1uw/Z0asjplFWxQ4sSiAqNJp2p
sP/Y6CRSH+deV44hO4BJhuwApuk2VplueQE9M1MiMGQHgBoZ1DgHmWGICjlUyGC1qL5IRDS25JtX
Mqw1efI0XLjQa3m5RETm2FPH3Yr1HSUa3l7n7XUbyrS3XMUOWZJAhdvDOlNh/yXC7XV7yw9vQ/bn
RPc23l4nIiIiIu2w0RkzQ3YAkwzZAaJgyA5gio79cHTMTInAkB0AamQAVMihQj2gQgZAjRwqZLAa
G51EREREZDv26WSfThvKtLdcxQ5ZkkCFPok6U2H/sU/n+LYh+3Oiexv7dBIRJZj29nasWLECixYt
QlZWVmTyjN7eXuTl5WHevHnIz89HX19f5DVVVVXIyMjAggULcOjQocj648ePIzs7GxkZGdi6dWvc
3wsR0Z2w0RkzQ3YAkwzZAaJgyA5gio79cHTMnEhSUlLwi1/8AidPnkRjYyPeeOMNfPrpp/D7/cjL
y8OpU6ewcuVK+P1+AEBzczP27t2L5uZm1NfXY8uWLZGrEZs3b8auXbvQ0tKClpYW1NfXy3xrYzBk
B4AaGQAVcqhQD6iQAVAjhwoZrMZGJxGRZOnp6fB4PACASZMmYeHChQgGg6itrUVpaSkAoLS0RB9Y
PAAAF79JREFUFPv37wcAHDhwAMXFxUhJSYHb7cbcuXNx9OhRdHV1ob+/H16vFwBQUlISeQ0RkWxs
dMbMJzuAST7ZAaLgkx3AFJ/PJzuCaTpmTlRtbW1oamrC0qVL0dPTA4fDAQBwOBzo6ekBAHR2dsLl
ckVe43K5EAwGR6x3Op0IBoPxfQOm+GQHgBoZABVyqFAPqJABUCOHChmsxkYnEZEiLl68iHXr1qG6
uhqTJ08e9lhSUpLtM+AQEdmJ02DGzIAKf6GOnwG98gK6ZTYMQ7u/UHXMnGiuX7+OdevWYcOGDViz
Zg2A8NXN7u5upKeno6urC2lpaQDCVzDb29sjr+3o6IDL5YLT6URHR8ew9U6nc9TtlZWVwe12AwBS
U1Ph8Xgix8BgXzK7l4fO7cFl3y3rrVjGGI/fum27yh/vcgBA+ajlx+/zCK+L1/ZGW749S7y3P7gc
CARQXl4ubfu37oN47//du3cDQKR+sJRQTLwjARCAiOGnYZR1sZZ5px8ryr09r8pZR8us3CE7QkND
g+wIpumWWYfjwIxQKCQ2bNggysvLh62vqKgQfr9fCCFEVVWVqKysFEIIcfLkSZGTkyOuXr0qTp8+
LWbPni1CoZAQQgiv1ysaGxtFKBQSq1evFnV1dSO2p8L+C9cRo9Wf8a6Dos1gdd05Wo74fk4q1AMq
ZBBCjRwqZLD6GOQ4nRyn04Yy7S1XsUOWJFBhnEkrvffee/jud7+LxYsXR26hV1VVwev1oqioCGfO
nIHb7ca+ffuQmpoKANi2bRtqamqQnJyM6upqFBQUAAgPmVRWVobLly+jsLAwMvzSrVTYfxync3zb
kP050b3N6rpizEbnxo0b8ac//QlpaWn45JNPAITHjvv+97+Pv/3tbyMqwqqqKtTU1GDixInYsWMH
8vPzAQxVhFeuXEFhYSGqq6vj8gbHwkanTlnD5bISJhUaTTpTYf+x0Tm+bcj+nOjeFvfB4Z9++ukR
47wl/thxZhiyA5hkyA4QBUN2AFN0HFtNx8yUCAzZAaBGBkCFHCrUAypkANTIoUIGq435RaLly5ej
ra1t2Lra2lq88847AMJjx/l8Pvj9/juOHffNb35z1LHjHnroIevfERERxeS9995DIBCQHYOIEkxU
316/29hxy5YtizxvcOy4lJQUzcaOM8MnO4BJPtkBouCTHcAUHb8FrmNmss+LL/4/fPRRCiZM+KYt
5YdCH9z8n8+W8s3xyQ5wk092ACXqARUyAGrkUCGD1WIeMoljx1F8JVt+vE2ePA0XLvRaWiaRzkIh
4Pr1/wvAnrtREydWAmiypWwiUldUjU47x44D4jt+XJiB6MdX+yUAzyiP47blaMu3evn2vIPPsXp7
GONxM8u3jl93A0CDpXn7+1cMpVV8fLf775+My5cvwmp/93eTcOlSv9Tx+e62PPj/27v6kO4MyL/C
p0IGQIUchiF/vF4VMqiSQ4UMlhvPuEqtra0iKysrsmzX2HE3v0lvZsinmCHmsdZGH1tN7rhzZvKq
nHW0zHbktfaYs3NsNTs/L53ollc1Y+2/pUsLBFBn07EmxMSJL948lm+vj2TUQdFm4DidiZpBCDVy
qJDB6mNwzCGTiouL8c477+Ds2bNwOBz4l3/5F3zve9+zZew4gEMmxb9cnbLaVa4+w5LYN8yMPvsA
UGPIH52Ntf+WLXsIR4+Ww87b6wMDr8CeY3kQh0wiilXcx+mMNzY6412uTlntKlefip2NzjA2OmPD
RqcO5Ye3weOcZIr7OJ00FkN2AJMM2QGiYMgOYEoijq1GZA9DdgCokQFQIYcKdZcKGQA1cqiQwWps
dBIRERGR7Xh7nbfXbShTt3L1uYXF2+thvL0eG95e16H88DZ4nJNMvL1ORERERNphozNmhuwAJhmy
A0TBkB3AlETsh0NkD0N2AKiRAVAhhwp1lwoZADVyqJDBamx0EhEREZHt2KeTfTptKFO3cvXpN8U+
nWHs0xkb9unUofzwNnick0zs00lERERE2mGjM2aG7AAmGbIDRMGQHcCUROyHQ2QPQ3YAqJEBUCGH
CnWXChkANXKokMFqbHQSERERke206NMphEBbW5vlfVsmTpwIt9uNe7ufpE5Z7SpXn35T7NMZxj6d
sWGfTh3KD2+DxznJZHVdm2xZSTaqq6vD9773OO67L93Scq9c6bS0PCKiaG3cuBF/+tOfkJaWhk8+
+QQA0Nvbi+9///v429/+BrfbjX379iE1NRUAUFVVhZqaGkycOBE7duxAfn4+AOD48eMoKyvDlStX
UFhYiOrqamnviYjoVlrcXr969Sruv78AFy+etvTnq1/9PxakMywoI54M2QGiYMgOYEoi9sMh+z39
9NOor68fts7v9yMvLw+nTp3CypUr4ff7AQDNzc3Yu3cvmpubUV9fjy1btkSuRmzevBm7du1CS0sL
WlpaRpSpFkN2AKiRAVAhhwp1lwoZADVyqJDBalo0OomIEt3y5csxbdq0Yetqa2tRWloKACgtLcX+
/fsBAAcOHEBxcTFSUlLgdrsxd+5cHD16FF1dXejv74fX6wUAlJSURF5DRCQbG50x88kOYJJPdoAo
+GQHMMXn88mOQAmip6cHDocDAOBwONDT0wMA6OzshMvlijzP5XIhGAyOWO90OhEMBuMb2hSf7ABQ
IwOgQg4V6i4VMgBq5FAhg9W06NNJZK/km1/QsdbkydNw4UKv5eXSvSkpKcmW45SIKF5ianS63W5M
mTIFEydOREpKCo4dOxZVx3e9GVDhL9TxM6BXXsD+zDdg7bdQDQA+9PezgUCxcTgc6O7uRnp6Orq6
upCWlgYgfAWzvb098ryOjg64XC44nU50dHQMW+90Okctu6ys7OboHUBqaio8Hk/kykr4j6WPMfTt
dePmvz5LloU4c8t6n+Xlj+wfebfn3/pcO8of73IAQPmo5Q/27Rv8fOxaHlwXr+2Ntnx7lnhvf3A5
EAigvLxc2vZv3Qfx3v+7d+8GgEj9YCkRA7fbLc6dOzdsXUVFhdi+fbsQQgi/3y8qKyuFEEKcPHlS
5OTkiGvXronW1lYxZ84cMTAwMKLM0SL94Q9/EFOmrBGAsPRn6lSfABBjOQ2jrIu1zDv9WFHu7XlV
zjpaZjvyWl1mQ6Rcq9n5eelEt7zj1draKrKysiLLFRUVwu/3CyGEqKqqGlGfXr16VZw+fVrMnj1b
hEIhIYQQXq9XNDY2ilAoJFavXi3q6upGbGes/bd0aYEA6mw61oSYOPHFm8dyg23bGP+5Em0Gu+oN
eedlQ0NDXLenagYh1MihQgarj8GYSnO73eLs2bPD1s2fP190d3cLIYTo6uoS8+fPF0IIsW3btkjl
KYQQBQUF4sMPPxwZaJQ3qHajMx6VkZ3l6pRVv31gNZ2y2km3vOPxxBNPiJkzZ4qUlBThcrlETU2N
OHfunFi5cqXIyMgQeXl54vz585Hn/+xnPxNz5swR8+fPF/X19ZH1H330kcjKyhJz5swRP/jBD0bd
ljqNTnvKt/e8jlf5iXmck16sPgZjur2elJSEVatWYeLEiXjuuefw7LPP3rXj+7JlyyKvHez4TkRE
wJ49e0Zdf/jw4VHX//jHP8aPf/zjEesffPDByDifREQqienb6++//z6amppQV1eHN954A0eOHBn2
+Fgd3xOjU7whO4BJhuwAUTBkBzDJkB2ASBOG7ABQIwMweo7kyO9RO36mTJk+PIEC40KqkAFQI4cK
GawW05XOmTNnAgBmzJiBtWvX4tixY6Y6vo+3g3t/f/8tjxo3//VZtDy4LtrXB+7wOG5bjrZ8q5dv
zzv4HKu3hzEeN7McgK55re7wPbSNWPKNtgxb8lrZod4wDLS1tYHo3mH1lxyH45cdKd6innv90qVL
GBgYwOTJk/Hll18iPz8fP/nJT3D48GE88MADqKyshN/vR19fH/x+P5qbm7F+/XocO3YMwWAQq1at
wl/+8pcRVztHm+fzj3/8I8rKfosLF/4Y/TsdxdSpK/DFFwasP6n1mndcn6x2lavPfOacez2Mc6/H
hnOv61B+PLbB84juTpm513t6erB27VoAwI0bN/Dkk08iPz8fS5YsQVFREXbt2hUZMgkAMjMzUVRU
hMzMTCQnJ2Pnzp0JcnudiIiIiMYSdZ/OWbNmIRAIIBAI4H/+53/w0ksvAQCmT5+Ow4cP49SpUzh0
6FBkjE4g3PH9L3/5C/73f/8XBQUFsadXgiE7gEmG7ABRMGQHMMmQHYBIE4bsAFAjA6BCDhX6EKqQ
AVAjhwoZrBbTF4mIiIiIiMaDjc6Y+WQHMMknO0AUfLIDmOSTHYBIEz7ZAaBGBkCFHCrM9a1CBkCN
HCpksBrnXieyjT1zuhMREemIVzpjZsgOYJIhO0AUDNkBTDJu/js43ImVP0SJxJAdAGpkAFTIoUIf
QhUyAGrkUCGD1djoJCIiIiLbsdEZM5/sACb5ZAeIgk92AJN8sgMQacInOwDUyACokEOFPoQqZADU
yKFCBqux0UlEREREtmOjM2aG7AAmGbIDRMGQHcAkQ3YAIk0YsgNAjQyACjlU6EOoQgZAjRwqZLAa
G51EREREZDs2OmPmkx3AJJ/sAFHwyQ5gkk92ACJN+GQHgBoZABVyqNCHUIUMgBo5VMhgNY7TSURE
dE+ydyzhyZOn4cKFXtvKJ/3wSmfMDNkBTDJkB4iCITuASYbsAESaMGQHgBoZADk5bh9LuAFWjivc
33/edCJV+jGqkEOFDFZjo5OIiIiIbMdGZ8x8sgOY5JMdIAo+2QFM8skOQKQJn+wAUCMDoEYOn+wA
yvRjVCGHChmsxkYnEREREdku7o3O+vp6LFiwABkZGdi+fXu8N28DQ3YAkwzZAaJgyA5gkiE7AN3j
9KlnDdkBoEYGQI0chuwAyvRjVCGHChmsFtdG58DAAP7pn/4J9fX1aG5uxp49e/Dpp5/GM4INArID
mKRbXkC/zLrlpUSiVz2rwrmiQgZAjRxWZwh/O97Mz4oVK8b93ClTplucd0ggIP/zUCGD1eLa6Dx2
7Bjmzp0Lt9uNlJQUPPHEEzhw4EA8I9igT3YAk3TLC+iXWbe8lEj0qmdVOFdUyACokcPqDLd/O348
Pz8Z93Oj+Xb8ePX1yf88VMhgtbg2OoPBIL7+9a9Hll0uF4LBYDwjEBElNNazdO8wfyV1vD8vv/yy
rVdS71VxHRw+2kFoJ0yYgGvXPsSUKY9YmufKlY8tKKXNgjLiqU12gCi0yQ5gUpvsAHQPs2Kw75SU
Cbj//p8gOfkNCxKNdPVqMwYGADXOlTbZAW5qkx0A+mUYvJJqhzL09//O1sHzgRQA1+/6jJdffjmm
Lag2QH9cG51OpxPt7e2R5fb2drhcrmHPmTNnzh0/5CtX3rIpWawH1Zs2lHknVpR7e16Vsw66NbMd
ea0uczCvDllvlmpr5WqtOXPmyI6grFjr2fh6E6PXn1YZ73uMNoNd9Yad2xirfKs/j2jym8mgwnEc
rbs3OK3Q338+pnPd6ro2SQhh158JI9y4cQPz58/Hf/3Xf+FrX/savF4v9uzZg4ULF8YrAhFRQmM9
S0SqiuuVzuTkZPzqV79CQUEBBgYG8Mwzz7AiJCKyEOtZIlJVXK90EhEREdG9SZkZifQZzDhs48aN
cDgcyM7Olh1lXNrb27FixQosWrQIWVlZ2LFjh+xIY7py5QqWLl0Kj8eDzMxMvPTSS7IjjcvAwABy
c3PxyCPWfvHNLm63G4sXL0Zubi68Xq/sOGPq6+vD448/joULFyIzMxONjY2yI2lFdl2rWl0k+3xV
4XiuqqrCokWLkJ2djfXr1+Pq1atx2e5ov0d7e3uRl5eHefPmIT8/3/Zhg0bLUFFRgYULFyInJweP
PfYYvvjii7hnGPTaa69hwoQJ6O21/8tAd8rx+uuvY+HChcjKykJlZWVsGxEKuHHjhpgzZ45obW0V
165dEzk5OaK5uVl2rLt69913xYkTJ0RWVpbsKOPS1dUlmpqahBBC9Pf3i3nz5im/j4UQ4ssvvxRC
CHH9+nWxdOlSceTIEcmJxvbaa6+J9evXi0ceeUR2lHFxu93i3LlzsmOMW0lJidi1a5cQInxc9PX1
SU6kDxXqWtXqItnnq+zjubW1VcyaNUtcuXJFCCFEUVGR2L17d1y2Pdrv0YqKCrF9+3YhhBB+v19U
VlbGPcOhQ4fEwMCAEEKIyspKKRmEEOLMmTOioKAgbnX0aDnefvttsWrVKnHt2jUhhBCfffZZTNtQ
4kqnXoMZhy1fvhzTpk2THWPc0tPT4fF4AACTJk3CwoUL0dnZKTnV2O6//34AwLVr1zAwMIDp09Ue
N62jowMHDx7Epk2bIDTquaJL1i+++AJHjhzBxo0bAYT7L06dOlVyKn2oUNeqVBfJPl9VOJ6nTJmC
lJQUXLp0CTdu3MClS5fgdDrjsu3Rfo/W1taitLQUAFBaWor9+/fHPUNeXh4mTAg3j5YuXYqOjo64
ZwCA559/Hq+88oqt2x4rx69//Wu89NJLSElJAQDMmDEjpm0o0ejkYMbx1dbWhqamJixdulR2lDGF
QiF4PB44HA6sWLECmZmZsiPd1Y9+9CO8+uqrkQpLB0lJSVi1ahWWLFmCf/3Xf5Ud565aW1sxY8YM
PP300/jWt76FZ599FpcuXZIdSxuq1bWy6yLZ56sKx/P06dPxwgsv4Bvf+Aa+9rWvITU1FatWrYpr
hlv19PTA4XAAABwOB3p6eqRlAYCamhoUFhbGfbsHDhyAy+XC4sWL477tW7W0tODdd9/FsmXL4PP5
8NFHH8VUnhK/GdUYL+7ecPHiRTz++OOorq7GpEmTZMcZ04QJExAIBNDR0YF3330XhmHIjnRHb731
FtLS0pCbm6vNlUMAeP/999HU1IS6ujq88cYbOHLkiOxId3Tjxg2cOHECW7ZswYkTJ/DVr34Vfr9f
dixtqFTXyq6LVDhfVTie//rXv+KXv/wl2tra0NnZiYsXL+J3v/tdXDPcyeDsQLL87Gc/w1e+8hWs
X78+rtu9dOkStm3bNmxgeJnH6Pnz59HY2IhXX30VRUVFMZWnRKNzPIMZU+yuX7+OdevW4amnnsKa
NWtkxzFl6tSpePjhh2P+K8tOH3zwAWprazFr1iwUFxfj7bffRklJiexYY5o5cyaA8G2TtWvX4tix
Y5IT3ZnL5YLL5cK3v/1tAMDjjz+OEydOSE6lD1XqWhXqIhXOVxWO548++gjf+c538MADDyA5ORmP
PfYYPvjgg7hmuJXD4UB3dzcAoKurC2lpaVJy7N69GwcPHpTSAP/rX/+KtrY25OTkYNasWejo6MCD
Dz6Izz77LO5ZXC4XHnvsMQDAt7/9bUyYMAHnzp2LujwlGp1LlixBS0sL2tracO3aNezduxePPvqo
7FgJRQiBZ555BpmZmSgvL5cdZ1zOnj0b+ebi5cuX8ec//xm5ubmSU93Ztm3b0N7ejtbWVvz+97/H
3//93+O3v/2t7Fh3denSJfT39wMAvvzySxw6dEjpERnS09Px9a9/HadOnQIAHD58GIsWLZKcSh8q
1LWq1EUqnK8qHM8LFixAY2MjLl++DCEEDh8+LLUb06OPPoo33wzPSPTmm29K+aOkvr4er776Kg4c
OID77rsv7tvPzs5GT08PWltb0draCpfLhRMnTkhpgK9ZswZvv/02AODUqVO4du0aHnjggegLjOlr
SBY6ePCgmDdvnpgzZ47Ytm2b7DhjeuKJJ8TMmTPFV77yFeFyuURNTY3sSHd15MgRkZSUJHJycoTH
4xEej0fU1dXJjnVXH3/8scjNzRU5OTkiOztbvPLKK7IjjZthGFp8e/306dMiJydH5OTkiEWLFmlx
7gUCAbFkyRKxePFisXbtWn573STZda2KdZHM81WF43n79u0iMzNTZGVliZKSksg3le02+Hs0JSUl
8nv03LlzYuXKlSIjI0Pk5eWJ8+fPxzXDrl27xNy5c8U3vvGNyPG5efPmuGS4U3ti1qxZcfn2+mg5
rl27Jp566imRlZUlvvWtb4mGhoaYtsHB4YmIiIjIdkrcXiciIiKixMZGJxERERHZjo1OIiIiIrId
G51EREREZDs2OomIiIjIdmx0EhEREZHt2OgkIiIiItux0UlEREREtvv/3rd4z8K/UgIAAAAASUVO
RK5CYII=
"
>
</div>

</div>

</div>
</div>

</div>
<div class="cell border-box-sizing text_cell rendered"><div class="prompt input_prompt">
</div>
<div class="inner_cell">
<div class="text_cell_render border-box-sizing rendered_html">
<h2 id="Evaluation">Evaluation<a class="anchor-link" href="#Evaluation">&#182;</a></h2><ul>
<li>GBRT vs RandomForest vs SVM vs Ridge Regression</li>
</ul>

</div>
</div>
</div>
<div class="cell border-box-sizing code_cell rendered">
<div class="input">
<div class="prompt input_prompt">In&nbsp;[25]:</div>
<div class="inner_cell">
    <div class="input_area">
<div class=" highlight hl-ipython3"><pre><span></span><span class="kn">import</span> <span class="nn">time</span>
<span class="kn">from</span> <span class="nn">collections</span> <span class="k">import</span> <span class="n">defaultdict</span>
<span class="kn">from</span> <span class="nn">sklearn.metrics</span> <span class="k">import</span> <span class="n">mean_absolute_error</span>
<span class="kn">from</span> <span class="nn">sklearn.linear_model</span> <span class="k">import</span> <span class="n">Ridge</span>
<span class="kn">from</span> <span class="nn">sklearn.ensemble</span> <span class="k">import</span> <span class="n">RandomForestRegressor</span>
<span class="kn">from</span> <span class="nn">sklearn.pipeline</span> <span class="k">import</span> <span class="n">Pipeline</span>
<span class="kn">from</span> <span class="nn">sklearn.preprocessing</span> <span class="k">import</span> <span class="n">StandardScaler</span>
<span class="kn">from</span> <span class="nn">sklearn.dummy</span> <span class="k">import</span> <span class="n">DummyRegressor</span>
<span class="kn">from</span> <span class="nn">sklearn.svm</span> <span class="k">import</span> <span class="n">SVR</span>

<span class="n">res</span> <span class="o">=</span> <span class="n">defaultdict</span><span class="p">(</span><span class="nb">dict</span><span class="p">)</span>

<span class="k">def</span> <span class="nf">benchmark</span><span class="p">(</span><span class="n">est</span><span class="p">,</span> <span class="n">name</span><span class="o">=</span><span class="kc">None</span><span class="p">):</span>
    <span class="k">if</span> <span class="ow">not</span> <span class="n">name</span><span class="p">:</span>
        <span class="n">name</span> <span class="o">=</span> <span class="n">est</span><span class="o">.</span><span class="vm">__class__</span><span class="o">.</span><span class="vm">__name__</span>
    <span class="n">t0</span> <span class="o">=</span> <span class="n">time</span><span class="o">.</span><span class="n">clock</span><span class="p">()</span>
    <span class="n">est</span><span class="o">.</span><span class="n">fit</span><span class="p">(</span><span class="n">X_train</span><span class="p">,</span> <span class="n">y_train</span><span class="p">)</span>
    <span class="n">res</span><span class="p">[</span><span class="n">name</span><span class="p">][</span><span class="s1">&#39;train_time&#39;</span><span class="p">]</span> <span class="o">=</span> <span class="n">time</span><span class="o">.</span><span class="n">clock</span><span class="p">()</span> <span class="o">-</span> <span class="n">t0</span>
    <span class="n">t0</span> <span class="o">=</span> <span class="n">time</span><span class="o">.</span><span class="n">clock</span><span class="p">()</span>
    <span class="n">pred</span> <span class="o">=</span> <span class="n">est</span><span class="o">.</span><span class="n">predict</span><span class="p">(</span><span class="n">X_test</span><span class="p">)</span>
    <span class="n">res</span><span class="p">[</span><span class="n">name</span><span class="p">][</span><span class="s1">&#39;test_time&#39;</span><span class="p">]</span> <span class="o">=</span> <span class="n">time</span><span class="o">.</span><span class="n">clock</span><span class="p">()</span> <span class="o">-</span> <span class="n">t0</span>
    <span class="n">res</span><span class="p">[</span><span class="n">name</span><span class="p">][</span><span class="s1">&#39;MAE&#39;</span><span class="p">]</span> <span class="o">=</span> <span class="n">mean_absolute_error</span><span class="p">(</span><span class="n">y_test</span><span class="p">,</span> <span class="n">pred</span><span class="p">)</span>
    <span class="k">return</span> <span class="n">est</span>
    
<span class="n">benchmark</span><span class="p">(</span><span class="n">DummyRegressor</span><span class="p">())</span>
<span class="n">benchmark</span><span class="p">(</span><span class="n">Ridge</span><span class="p">(</span><span class="n">alpha</span><span class="o">=</span><span class="mf">0.0001</span><span class="p">,</span> <span class="n">normalize</span><span class="o">=</span><span class="kc">True</span><span class="p">))</span>
<span class="n">benchmark</span><span class="p">(</span><span class="n">Pipeline</span><span class="p">([(</span><span class="s1">&#39;std&#39;</span><span class="p">,</span> <span class="n">StandardScaler</span><span class="p">()),</span> 
                    <span class="p">(</span><span class="s1">&#39;svr&#39;</span><span class="p">,</span> <span class="n">SVR</span><span class="p">(</span><span class="n">kernel</span><span class="o">=</span><span class="s1">&#39;rbf&#39;</span><span class="p">,</span> <span class="n">C</span><span class="o">=</span><span class="mf">10.0</span><span class="p">,</span> <span class="n">gamma</span><span class="o">=</span><span class="mf">0.1</span><span class="p">,</span> <span class="n">tol</span><span class="o">=</span><span class="mf">0.001</span><span class="p">))]),</span> <span class="n">name</span><span class="o">=</span><span class="s1">&#39;SVR&#39;</span><span class="p">)</span>
<span class="n">benchmark</span><span class="p">(</span><span class="n">RandomForestRegressor</span><span class="p">(</span><span class="n">n_estimators</span><span class="o">=</span><span class="mi">100</span><span class="p">,</span> <span class="n">max_features</span><span class="o">=</span><span class="mi">5</span><span class="p">,</span> <span class="n">random_state</span><span class="o">=</span><span class="mi">0</span><span class="p">,</span> 
                                <span class="n">bootstrap</span><span class="o">=</span><span class="kc">False</span><span class="p">,</span> <span class="n">n_jobs</span><span class="o">=</span><span class="mi">4</span><span class="p">))</span>
<span class="n">est</span> <span class="o">=</span> <span class="n">benchmark</span><span class="p">(</span><span class="n">GradientBoostingRegressor</span><span class="p">(</span><span class="n">n_estimators</span><span class="o">=</span><span class="mi">500</span><span class="p">,</span> <span class="n">max_depth</span><span class="o">=</span><span class="mi">4</span><span class="p">,</span> <span class="n">learning_rate</span><span class="o">=</span><span class="mf">0.1</span><span class="p">,</span>
                                          <span class="n">loss</span><span class="o">=</span><span class="s1">&#39;huber&#39;</span><span class="p">,</span> <span class="n">min_samples_leaf</span><span class="o">=</span><span class="mi">3</span><span class="p">,</span> 
                                          <span class="n">random_state</span><span class="o">=</span><span class="mi">0</span><span class="p">))</span>

<span class="n">res_df</span> <span class="o">=</span> <span class="n">pd</span><span class="o">.</span><span class="n">DataFrame</span><span class="p">(</span><span class="n">data</span><span class="o">=</span><span class="n">res</span><span class="p">)</span><span class="o">.</span><span class="n">T</span>
<span class="n">res_df</span><span class="p">[[</span><span class="s1">&#39;train_time&#39;</span><span class="p">,</span> <span class="s1">&#39;test_time&#39;</span><span class="p">,</span> <span class="s1">&#39;MAE&#39;</span><span class="p">]]</span><span class="o">.</span><span class="n">sort</span><span class="p">(</span><span class="s1">&#39;MAE&#39;</span><span class="p">,</span> <span class="n">ascending</span><span class="o">=</span><span class="kc">False</span><span class="p">)</span>
</pre></div>

</div>
</div>
</div>

<div class="output_wrapper">
<div class="output">


<div class="output_area">

<div class="prompt output_prompt">Out[25]:</div>



<div class="output_html rendered_html output_subarea output_execute_result">
<div style="max-height:1000px;max-width:1500px;overflow:auto;">
<table border="1" class="dataframe">
  <thead>
    <tr style="text-align: right;">
      <th></th>
      <th>train_time</th>
      <th>test_time</th>
      <th>MAE</th>
    </tr>
  </thead>
  <tbody>
    <tr>
      <th>DummyRegressor</th>
      <td>  0.00</td>
      <td> 0.00</td>
      <td> 0.909090</td>
    </tr>
    <tr>
      <th>Ridge</th>
      <td>  0.02</td>
      <td> 0.00</td>
      <td> 0.532860</td>
    </tr>
    <tr>
      <th>SVR</th>
      <td> 89.90</td>
      <td> 6.63</td>
      <td> 0.379575</td>
    </tr>
    <tr>
      <th>RandomForestRegressor</th>
      <td> 74.73</td>
      <td> 0.50</td>
      <td> 0.318885</td>
    </tr>
    <tr>
      <th>GradientBoostingRegressor</th>
      <td> 45.76</td>
      <td> 0.15</td>
      <td> 0.300638</td>
    </tr>
  </tbody>
</table>
</div>
</div>

</div>

</div>
</div>

</div>
<div class="cell border-box-sizing text_cell rendered"><div class="prompt input_prompt">
</div>
<div class="inner_cell">
<div class="text_cell_render border-box-sizing rendered_html">
<h3 id="Exercise">Exercise<a class="anchor-link" href="#Exercise">&#182;</a></h3><p>The above <code>GradientBoostingRegressor</code> is not properly tuned for this dataset. Diagnose the current model and find more appropriate hyperparameter settings.</p>
<p>Hint: check whether you are in the high-bias or high-variance regime</p>

</div>
</div>
</div>
<div class="cell border-box-sizing code_cell rendered">
<div class="input">
<div class="prompt input_prompt">In&nbsp;[19]:</div>
<div class="inner_cell">
    <div class="input_area">
<div class=" highlight hl-ipython3"><pre><span></span><span class="c1"># diagnose the model</span>
<span class="n">test_dev</span><span class="p">,</span> <span class="n">ax</span> <span class="o">=</span> <span class="n">deviance_plot</span><span class="p">(</span><span class="n">est</span><span class="p">,</span> <span class="n">X_test</span><span class="p">,</span> <span class="n">y_test</span><span class="p">,</span> <span class="n">ylim</span><span class="o">=</span><span class="p">(</span><span class="mi">0</span><span class="p">,</span> <span class="mf">1.0</span><span class="p">))</span>
</pre></div>

</div>
</div>
</div>

<div class="output_wrapper">
<div class="output">


<div class="output_area">

<div class="prompt"></div>




<div class="output_png output_subarea ">
<img src="data:image/png;base64,iVBORw0KGgoAAAANSUhEUgAAAp4AAAG3CAYAAAAdPVXwAAAABHNCSVQICAgIfAhkiAAAAAlwSFlz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"
>
</div>

</div>

</div>
</div>

</div>
<div class="cell border-box-sizing code_cell rendered">
<div class="input">
<div class="prompt input_prompt">In&nbsp;[27]:</div>
<div class="inner_cell">
    <div class="input_area">
<div class=" highlight hl-ipython3"><pre><span></span><span class="c1">## modify the hyperparameters</span>
<span class="c1">#tuned_est = benchmark(GradientBoostingRegressor(n_estimators=500, max_depth=4, learning_rate=0.1,</span>
<span class="c1">#                                                loss=&#39;huber&#39;, random_state=0, verbose=1))</span>

<span class="c1">## print results</span>
<span class="c1">#res_df = pd.DataFrame(data=res).T</span>
<span class="c1">#res_df[[&#39;train_time&#39;, &#39;test_time&#39;, &#39;MAE&#39;]].sort(&#39;MAE&#39;, ascending=False)</span>
</pre></div>

</div>
</div>
</div>

</div>
<div class="cell border-box-sizing text_cell rendered"><div class="prompt input_prompt">
</div>
<div class="inner_cell">
<div class="text_cell_render border-box-sizing rendered_html">
<h2 id="Feature-importance">Feature importance<a class="anchor-link" href="#Feature-importance">&#182;</a></h2><ul>
<li>What are the important features and how do they contribute in predicting the target response?</li>
<li>Derived from the regression trees </li>
<li>Can be accessed via the attribute <code>est.feature_importances_</code></li>
</ul>

</div>
</div>
</div>
<div class="cell border-box-sizing code_cell rendered">
<div class="input">
<div class="prompt input_prompt">In&nbsp;[21]:</div>
<div class="inner_cell">
    <div class="input_area">
<div class=" highlight hl-ipython3"><pre><span></span><span class="n">fx_imp</span> <span class="o">=</span> <span class="n">pd</span><span class="o">.</span><span class="n">Series</span><span class="p">(</span><span class="n">est</span><span class="o">.</span><span class="n">feature_importances_</span><span class="p">,</span> <span class="n">index</span><span class="o">=</span><span class="n">names</span><span class="p">)</span>
<span class="n">fx_imp</span> <span class="o">/=</span> <span class="n">fx_imp</span><span class="o">.</span><span class="n">max</span><span class="p">()</span>  <span class="c1"># normalize</span>
<span class="n">fx_imp</span><span class="o">.</span><span class="n">sort</span><span class="p">()</span>
<span class="n">fx_imp</span><span class="o">.</span><span class="n">plot</span><span class="p">(</span><span class="n">kind</span><span class="o">=</span><span class="s1">&#39;barh&#39;</span><span class="p">,</span> <span class="n">figsize</span><span class="o">=</span><span class="n">FIGSIZE</span><span class="p">)</span>
</pre></div>

</div>
</div>
</div>

<div class="output_wrapper">
<div class="output">


<div class="output_area">

<div class="prompt output_prompt">Out[21]:</div>




<div class="output_text output_subarea output_execute_result">
<pre>&lt;matplotlib.axes.AxesSubplot at 0x85a2550&gt;</pre>
</div>

</div>

<div class="output_area">

<div class="prompt"></div>




<div class="output_png output_subarea ">
<img src="data:image/png;base64,iVBORw0KGgoAAAANSUhEUgAAArcAAAGiCAYAAAD9bu7CAAAABHNCSVQICAgIfAhkiAAAAAlwSFlz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"
>
</div>

</div>

</div>
</div>

</div>
<div class="cell border-box-sizing text_cell rendered"><div class="prompt input_prompt">
</div>
<div class="inner_cell">
<div class="text_cell_render border-box-sizing rendered_html">
<h2 id="Partial-dependence">Partial dependence<a class="anchor-link" href="#Partial-dependence">&#182;</a></h2><ul>
<li>Relationship between the response and a set of features, marginalizing over all other features</li>
<li>Intuitively: expected response as a function of the features we conditioned on</li>
</ul>

</div>
</div>
</div>
<div class="cell border-box-sizing code_cell rendered">
<div class="input">
<div class="prompt input_prompt">In&nbsp;[22]:</div>
<div class="inner_cell">
    <div class="input_area">
<div class=" highlight hl-ipython3"><pre><span></span><span class="kn">from</span> <span class="nn">sklearn.ensemble.partial_dependence</span> <span class="k">import</span> <span class="n">plot_partial_dependence</span>

<span class="n">features</span> <span class="o">=</span> <span class="p">[</span><span class="s1">&#39;MedInc&#39;</span><span class="p">,</span> <span class="s1">&#39;AveOccup&#39;</span><span class="p">,</span> <span class="s1">&#39;HouseAge&#39;</span><span class="p">,</span>
            <span class="p">(</span><span class="s1">&#39;AveOccup&#39;</span><span class="p">,</span> <span class="s1">&#39;HouseAge&#39;</span><span class="p">)]</span>
<span class="n">fig</span><span class="p">,</span> <span class="n">axs</span> <span class="o">=</span> <span class="n">plot_partial_dependence</span><span class="p">(</span><span class="n">est</span><span class="p">,</span> <span class="n">X_train</span><span class="p">,</span> <span class="n">features</span><span class="p">,</span> <span class="n">feature_names</span><span class="o">=</span><span class="n">names</span><span class="p">,</span> 
                                   <span class="n">n_cols</span><span class="o">=</span><span class="mi">2</span><span class="p">,</span> <span class="n">figsize</span><span class="o">=</span><span class="n">FIGSIZE</span><span class="p">)</span>
</pre></div>

</div>
</div>
</div>

<div class="output_wrapper">
<div class="output">


<div class="output_area">

<div class="prompt"></div>




<div class="output_png output_subarea ">
<img src="data:image/png;base64,iVBORw0KGgoAAAANSUhEUgAAAtgAAAFFCAYAAADWw5oFAAAABHNCSVQICAgIfAhkiAAAAAlwSFlz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"
>
</div>

</div>

</div>
</div>

</div>
<div class="cell border-box-sizing text_cell rendered"><div class="prompt input_prompt">
</div>
<div class="inner_cell">
<div class="text_cell_render border-box-sizing rendered_html">
<p>Scikit-learn provides a convenience function to create such plots and a low-level function that you can use to create custom partial dependence plots (e.g. map overlays or 3d plots). 
More detailed information can be found <a href="http://scikit-learn.org/dev/modules/ensemble.html#partial-dependence">here</a>.</p>
<p><img src="pdp_lat_lon_cal.png" style="width: 50%;float: left"/>
<img src="pdp_lat_lon_sf.png" style="width: 50%;"/></p>

</div>
</div>
</div>
<div class="cell border-box-sizing text_cell rendered"><div class="prompt input_prompt">
</div>
<div class="inner_cell">
<div class="text_cell_render border-box-sizing rendered_html">
<h2 id="Performance">Performance<a class="anchor-link" href="#Performance">&#182;</a></h2><p>Comparision of scikit-learn against R's <a href="http://cran.r-project.org/web/packages/gbm/index.html">gbm</a> package.</p>
<p><img src="benchmarks.png"/></p>

</div>
</div>
</div>
<div class="cell border-box-sizing text_cell rendered"><div class="prompt input_prompt">
</div>
<div class="inner_cell">
<div class="text_cell_render border-box-sizing rendered_html">
<h2 id="Tipps-&amp;-Tricks">Tipps &amp; Tricks<a class="anchor-link" href="#Tipps-&amp;-Tricks">&#182;</a></h2><h3 id="Categorical-features">Categorical features<a class="anchor-link" href="#Categorical-features">&#182;</a></h3><p>Scikit-learn requires that categorical variables are encoded as numerics. For tree-based methods ordinal encoding is as effective as one-hot encoding but more efficient (less memory &amp; faster runtime) given that you grow deep enough trees:</p>

</div>
</div>
</div>
<div class="cell border-box-sizing code_cell rendered">
<div class="input">
<div class="prompt input_prompt">In&nbsp;[23]:</div>
<div class="inner_cell">
    <div class="input_area">
<div class=" highlight hl-ipython3"><pre><span></span><span class="n">df</span> <span class="o">=</span> <span class="n">pd</span><span class="o">.</span><span class="n">DataFrame</span><span class="p">(</span><span class="n">data</span><span class="o">=</span><span class="p">{</span><span class="s1">&#39;icao&#39;</span><span class="p">:</span> <span class="p">[</span><span class="s1">&#39;CRJ2&#39;</span><span class="p">,</span> <span class="s1">&#39;A380&#39;</span><span class="p">,</span> <span class="s1">&#39;B737&#39;</span><span class="p">,</span> <span class="s1">&#39;B737&#39;</span><span class="p">]})</span>
<span class="c1"># ordinal encoding</span>
<span class="n">df_enc</span> <span class="o">=</span> <span class="n">pd</span><span class="o">.</span><span class="n">DataFrame</span><span class="p">(</span><span class="n">data</span><span class="o">=</span><span class="p">{</span><span class="s1">&#39;icao&#39;</span><span class="p">:</span> <span class="n">np</span><span class="o">.</span><span class="n">unique</span><span class="p">(</span><span class="n">df</span><span class="o">.</span><span class="n">icao</span><span class="p">,</span>
                      <span class="n">return_inverse</span><span class="o">=</span><span class="kc">True</span><span class="p">)[</span><span class="mi">1</span><span class="p">]})</span>
<span class="n">X</span> <span class="o">=</span> <span class="n">np</span><span class="o">.</span><span class="n">asfortranarray</span><span class="p">(</span><span class="n">df_enc</span><span class="o">.</span><span class="n">values</span><span class="p">,</span> <span class="n">dtype</span><span class="o">=</span><span class="n">np</span><span class="o">.</span><span class="n">float32</span><span class="p">)</span>
</pre></div>

</div>
</div>
</div>

</div>
<div class="cell border-box-sizing text_cell rendered"><div class="prompt input_prompt">
</div>
<div class="inner_cell">
<div class="text_cell_render border-box-sizing rendered_html">
<h2 id="Feature-interactions">Feature interactions<a class="anchor-link" href="#Feature-interactions">&#182;</a></h2><p>GBRT automatically detects feature interactions but often explicit interactions help.</p>
<p>Trees required to approximate $X_1 - X_2$: 10 (left), 1000 (right)</p>
<p><img src="func_approx_minus_2.png" style="width: 50%;float: left"/>
<img src="func_approx_minus_3.png" style="width: 50%;"/></p>

</div>
</div>
</div>
<div class="cell border-box-sizing text_cell rendered"><div class="prompt input_prompt">
</div>
<div class="inner_cell">
<div class="text_cell_render border-box-sizing rendered_html">
<h2 id="Summary">Summary<a class="anchor-link" href="#Summary">&#182;</a></h2><ul>
<li>Flexible non-parametric classification and regression technique</li>
<li>Applicable to a variety of problems</li>
<li>Solid, battle-worn implementation in scikit-learn</li>
</ul>
<p><img src="http://www.kaggle.com/content/v/d6801c936e94/kaggle/img/site-logo.png" style="margin-left:2em;width:8em;"/></p>

</div>
</div>
</div>
 


    </div>
  </div>

  </div>


  
    <footer class="footer hidden-print">
      <div class="container">
        <div class="col-md-4">
          <p>
            This website does not host notebooks, it only renders notebooks
            available on other websites.
          </p>
        </div>

        <div class="col-md-4">
          <p>
            Delivered by <a href="http://www.fastly.com/">Fastly</a>,
            Rendered by <a href="https://developer.rackspace.com/?nbviewer=awesome">Rackspace</a>
          </p>
          <p>
            nbviewer GitHub <a href="https://github.com/jupyter/nbviewer">repository</a>.
          </p>
        </div>

        <div class="col-md-4">
          
  
            
              <p>
                nbviewer version:
                <a href="https://github.com/jupyter/nbviewer/commit/aa567da928dd022ce6a75b6c131a5ef3ff5c211a">
                  aa567da
                </a>
              </p>
            
          
  
  <p>
    nbconvert version: <a href="https://github.com/jupyter/nbconvert/releases/tag/5.3.1">
      5.3.1
    </a>
  </p>
  

          
  
  
  <p>
    Rendered
    <span class='date' data-date='Wed, 19 Dec 2018 18:37:41 UTC' title='Wed, 19 Dec 2018 18:37:41 UTC'>(Wed, 19 Dec 2018 18:37:41 UTC)</span>
  </p>
  

        </div>
      </div>
    </footer>
  

  <script src="/static/components/bootstrap/js/bootstrap.min.js?v=5869c96cc8f19086aee625d670d741f9"></script>
  <script src="/static/components/headroom.js/dist/headroom.min.js?v=b0a311ea668f8e768ea375f4a7abb81c"></script>
  <script src="/static/components/headroom.js/dist/jQuery.headroom.min.js?v=f3a1bae118315d0c234afc74dc6aab71"></script>

  
  
  <script>
    $(function(){ $("#menubar").headroom({
      tolerance: 5,
      offset: 205,
      classes: {
        initial: "animated",
        pinned: "slideInDown",
        unpinned: "slideOutUp"
      }
    })});
  </script>


  
  <script>
    (function(i,s,o,g,r,a,m){i['GoogleAnalyticsObject']=r;i[r]=i[r]||function(){
      (i[r].q=i[r].q||[]).push(arguments)},i[r].l=1*new Date();a=s.createElement(o),
      m=s.getElementsByTagName(o)[0];a.async=1;a.src=g;m.parentNode.insertBefore(a,m)
    })(window,document,'script','https://www.google-analytics.com/analytics.js','ga');
    ga('create', 'UA-52617120-5', 'auto',
       {'storage': 'none'});
    ga('set', 'anonymizeIp', true);
    ga('send', 'pageview');
  </script>
  
  <script>
    require({
        paths: {
          moment: "/static/components/moment/min/moment.min.js?v=89f87298ad94aa1e6b92f42eb66da043"
        }
      }, ["moment"], function(moment){
      var date = $("footer .date"),
        m = moment(new Date(date.data('date'))),
        update = function(){ date.text(m.fromNow()); };
      setInterval(update, 61*1000);
      update();
      var w = $(window).scroll(function(event){
        $("body").toggleClass("scrolled", w.scrollTop() > 0);
      });
    });
  </script>

  <!--NEW RELIC Stop Perf Measurement-->
  
  <!--NEW RELIC End-->
</body>
</html>
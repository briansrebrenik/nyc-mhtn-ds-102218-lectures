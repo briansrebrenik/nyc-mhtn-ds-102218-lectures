{
 "cells": [
  {
   "cell_type": "code",
   "execution_count": 1,
   "metadata": {},
   "outputs": [],
   "source": [
    "import numpy as np"
   ]
  },
  {
   "cell_type": "code",
   "execution_count": 6,
   "metadata": {},
   "outputs": [
    {
     "data": {
      "text/plain": [
       "0.98"
      ]
     },
     "execution_count": 6,
     "metadata": {},
     "output_type": "execute_result"
    }
   ],
   "source": [
    "200*.98*.005"
   ]
  },
  {
   "cell_type": "code",
   "execution_count": 25,
   "metadata": {},
   "outputs": [
    {
     "data": {
      "text/plain": [
       "array(['++'], dtype='<U2')"
      ]
     },
     "execution_count": 25,
     "metadata": {},
     "output_type": "execute_result"
    }
   ],
   "source": [
    "true_positive = np.full(1, '++')\n",
    "true_positive"
   ]
  },
  {
   "cell_type": "code",
   "execution_count": 32,
   "metadata": {},
   "outputs": [],
   "source": [
    "amount_true_negative =.995*.99*200\n",
    "amount_true_negative\n",
    "true_negative = np.full(197, '--')"
   ]
  },
  {
   "cell_type": "code",
   "execution_count": 31,
   "metadata": {},
   "outputs": [
    {
     "data": {
      "text/plain": [
       "array(['-+', '-+'], dtype='<U2')"
      ]
     },
     "execution_count": 31,
     "metadata": {},
     "output_type": "execute_result"
    }
   ],
   "source": [
    "amount_false_positive = .01*(1 - .005)*200\n",
    "amount_false_positive\n",
    "false_positive = np.full(2, '-+')\n",
    "false_positive"
   ]
  },
  {
   "cell_type": "code",
   "execution_count": 35,
   "metadata": {},
   "outputs": [
    {
     "data": {
      "text/plain": [
       "array(['--', '--', '--', '--', '--', '--', '--', '--', '--', '--', '--',\n",
       "       '--', '--', '--', '--', '--', '--', '--', '--', '--', '--', '--',\n",
       "       '--', '--', '--', '--', '--', '--', '--', '--', '--', '--', '--',\n",
       "       '--', '--', '--', '--', '--', '--', '--', '--', '--', '--', '--',\n",
       "       '--', '--', '--', '--', '--', '--', '--', '--', '--', '--', '--',\n",
       "       '--', '--', '--', '--', '--', '--', '--', '--', '--', '--', '--',\n",
       "       '--', '--', '--', '--', '--', '--', '--', '--', '--', '--', '--',\n",
       "       '--', '--', '--', '--', '--', '--', '--', '--', '--', '--', '--',\n",
       "       '--', '--', '--', '--', '--', '--', '--', '--', '--', '--', '--',\n",
       "       '--', '--', '--', '--', '--', '--', '--', '--', '--', '--', '--',\n",
       "       '--', '--', '--', '--', '--', '--', '--', '--', '--', '--', '--',\n",
       "       '--', '--', '--', '--', '--', '--', '--', '--', '--', '--', '--',\n",
       "       '--', '--', '--', '--', '--', '--', '--', '--', '--', '--', '--',\n",
       "       '--', '--', '--', '--', '--', '--', '--', '--', '--', '--', '--',\n",
       "       '--', '--', '--', '--', '--', '--', '--', '--', '--', '--', '--',\n",
       "       '--', '--', '--', '--', '--', '--', '--', '--', '--', '--', '--',\n",
       "       '--', '--', '--', '--', '--', '--', '--', '--', '--', '--', '--',\n",
       "       '--', '--', '--', '--', '--', '--', '--', '--', '--', '--', '++',\n",
       "       '-+', '-+'], dtype='<U2')"
      ]
     },
     "execution_count": 35,
     "metadata": {},
     "output_type": "execute_result"
    }
   ],
   "source": [
    "np.append(true_negative, np.append(true_positive, false_positive))"
   ]
  },
  {
   "cell_type": "markdown",
   "metadata": {},
   "source": [
    "* So even though you tested positive, there is still not a huge chance that you have HIV.  So we zoom into this truth the fact that someone has tested positive, and we ignore everything else."
   ]
  },
  {
   "cell_type": "markdown",
   "metadata": {},
   "source": [
    "Even though most people who have HIV test positive, and because people who don't have HIV don't test positive, because there are so many more people who do not have HIV.  "
   ]
  },
  {
   "cell_type": "code",
   "execution_count": null,
   "metadata": {},
   "outputs": [],
   "source": []
  }
 ],
 "metadata": {
  "kernelspec": {
   "display_name": "Python 3",
   "language": "python",
   "name": "python3"
  },
  "language_info": {
   "codemirror_mode": {
    "name": "ipython",
    "version": 3
   },
   "file_extension": ".py",
   "mimetype": "text/x-python",
   "name": "python",
   "nbconvert_exporter": "python",
   "pygments_lexer": "ipython3",
   "version": "3.7.0"
  }
 },
 "nbformat": 4,
 "nbformat_minor": 2
}

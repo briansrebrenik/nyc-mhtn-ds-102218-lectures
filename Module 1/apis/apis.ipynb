{
 "cells": [
  {
   "cell_type": "markdown",
   "metadata": {},
   "source": [
    "### APIs"
   ]
  },
  {
   "cell_type": "markdown",
   "metadata": {},
   "source": [
    "1. Why apis \n",
    "2. What is an api?\n",
    "3. Intro to REST\n",
    "3. Using apis"
   ]
  },
  {
   "cell_type": "markdown",
   "metadata": {},
   "source": [
    "A. Why use apis\n",
    "\n",
    "* webscraping, get information from the internet, and use to do what you want to do \n",
    "* Get programs to talk to one another \n",
    "* Defines how do we get the data\n",
    "* How to share your own data\n"
   ]
  },
  {
   "cell_type": "code",
   "execution_count": null,
   "metadata": {},
   "outputs": [],
   "source": [
    "learn programming \n",
    "\n",
    "go to the internet, see what's clicked on, \n",
    "\n",
    "# programming -> coding, softward development \n",
    "\n",
    "{recommended_titles: ['coding', 'software development']}\n",
    " "
   ]
  },
  {
   "cell_type": "code",
   "execution_count": null,
   "metadata": {},
   "outputs": [],
   "source": [
    "https://jobs.github.com/positions.json?description=python&location=new+york"
   ]
  },
  {
   "cell_type": "code",
   "execution_count": 1,
   "metadata": {},
   "outputs": [
    {
     "data": {
      "text/plain": [
       "[{'id': '262e4f2e-d186-11e8-8872-87e699571f8c',\n",
       "  'created_at': 'Tue Oct 16 20:58:56 UTC 2018',\n",
       "  'title': 'UX Engineer, Front End',\n",
       "  'location': 'New York, NY',\n",
       "  'type': 'Full Time',\n",
       "  'description': '<p><strong>Job Description</strong></p>\\n\\n<p>CRH Digital Engineering is an interdisciplinary innovation team serving the global companies of CRH. A Fortune 500 company operating in 32 countries, CRH is the largest building materials company in North America and the third largest worldwide.</p>\\n\\n<p>We identify new and emerging technologies and apply them to challenging problems in the building industry. We identify opportunities to increase safety and sustainability, empower our customers and design professionals, and streamline our engineering and manufacturing processes. With backgrounds in architecture, engineering, fabrication, mathematics, construction, computer science, consulting, and education, we approach our projects holistically and bring a diversity of perspectives to our work.</p>\\n\\n<p>As a UX engineer you will join our growing in-house software development team, working to design and build interactive applications for both internal and external users. You are comfortable working in a fast-paced, studio environment—whether independently or as part of a team. Since your work will span from early design studies to production code, you have the skills required to prototype interaction designs quickly and the attention to detail required to account for corner cases and fix bugs. Because of our design-centered approach, you are comfortable receiving and responding to design feedback from multiple internal and external stakeholders. Above all, you are up for a challenge and are adaptable as new design and engineering requirements arise.</p>\\n\\n<p><strong>Responsibilities</strong></p>\\n\\n<p>Work with product managers, UX designers, and software engineers to design and implement web applications\\nKeep up with the development of web standards and best practices, helping our team to stay on the cutting edge\\nUnderstand user requirements and address user feedback\\nDocument and fix UI bugs\\nMaintain documentation and test coverage for new and existing code</p>\\n\\n<p><strong>Qualifications</strong></p>\\n\\n<p>Minimum Qualifications</p>\\n\\n<p>Bachelor’s degree with a strong academic record\\n1-5 years professional software development experience depending on academic qualifications\\nStrong quantitative, logical, and analytical skills\\nProficiency with the latest web technologies and standards (object-oriented JavaScript, CSS3, and HTML5)\\nExperience implementing complex user interface using one or more modern JavaScript frameworks such as Vue, Angular, React, etc.\\nExperience programming collaboratively using Git or another comparable revision control system\\nAbility to communicate with both internal and external users to understand their requirements and feedback</p>\\n\\n<p>Preferred Qualifications</p>\\n\\n<p>Strong design sensibility paired with an understanding of the fundamentals of user experience\\nExperience with one or more back-end frameworks such as Express, Rails, Laravel, Django, etc.\\nExperience with at least one additional scripting/programming language in addition to JavaScript (e.g. Ruby, Python, Java)</p>\\n\\n<p>Additional Desirable Qualifications</p>\\n\\n<p>Experience with one or more test frameworks such as Mocha, Chai, Jasmine, etc.\\nExperience working with 2D and 3D computer graphics, especially in the browser\\nExperience with one or more test frameworks such as Mocha, Chai, Jasmine, etc.\\nAcademic or professional experience related to the fields of architecture, engineering, or construction\\nRequired Application Materials\\nResume/CV\\nPortfolio of previous academic/professional work, which demonstrates your design sensibility and technical capabilities\\n3 professional and/or academic references</p>',\n",
       "  'how_to_apply': '<p>You may apply at the link below, or send an email to <a href=\"mailto:careers@crh.io\">careers@crh.io</a>.</p>\\n\\n<p><a href=\"https://www.crh.io/jobs/ux-engineer-front-end\">https://www.crh.io/jobs/ux-engineer-front-end</a></p>',\n",
       "  'company': 'CRH Digital Engineering',\n",
       "  'company_url': 'http://www.crh.io',\n",
       "  'company_logo': 'http://github-jobs.s3.amazonaws.com/dc1c4940-d185-11e8-83f8-f37a98de7736.png',\n",
       "  'url': 'http://jobs.github.com/positions/262e4f2e-d186-11e8-8872-87e699571f8c'},\n",
       " {'id': 'c6cc376c-cb9f-11e8-87be-93e9a61d69b4',\n",
       "  'created_at': 'Tue Oct 09 08:46:47 UTC 2018',\n",
       "  'title': 'Full Stack Software Engineer',\n",
       "  'location': 'New York, USA/Telecommute',\n",
       "  'type': 'Full Time',\n",
       "  'description': \"<p><strong>Grafana Labs</strong></p>\\n\\n<p>We are Grafana Labs; the company behind the Grafana project. Our proven team is building a SaaS observability platform: Grafana Cloud, and an Enterprise offering: Grafana Enterprise, while cementing Grafana as the leading open source software for time series analytics.</p>\\n\\n<p>Grafana started out in 2015 and has grown rapidly with 40 international employees and offices in New York, USA and Stockholm, Sweden.  We are believers in the power of global, distributed teams - talent is not limited by borders and great workplaces are made up of exceptional colleagues.  We have aggressive growth plans and are an ambitious, hardworking and friendly team.</p>\\n\\n<p><strong>The Role</strong></p>\\n\\n<p>We are looking for an experienced full-stack engineer to join our growing team.  You will work as part of a cross-functional team and participate in the design and development of our existing and new products.  As a full-stack developer, you will have the opportunity to put your stamp on each feature you work on and to develop innovative solutions to problems.</p>\\n\\n<p>The ideal candidate has experience with JavaScript and React.js, as well as experience with backend development in Go. You will coordinate with the rest of the team working on different layers of our infrastructure. You'll work alongside our designer, front-end developers and UX specialist, ensuring that you have support to quickly implement new functionality and features.</p>\\n\\n<p>Do you want the opportunity to help shape the future of time series data? Do you believe in Open Source Software? Talk to us. You'll be helping support the large and growing Grafana Open Source Community by making it easier for them to share plugins, dashboards and other ways to extend Grafana as well as having the opportunity to work on Grafana itself, and we think that's pretty awesome.</p>\\n\\n<p><strong>Requirements</strong></p>\\n\\n<ul>\\n<li>Ability to quickly prototype &amp; iterate</li>\\n<li>Build reusable components and libraries for future use</li>\\n<li>Translate designs into high quality code</li>\\n<li>Ideally you will be based on the east coast of the USA but we'll consider telecommute options for exceptional candidates willing to work USA east coast hours</li>\\n</ul><p><strong>Skills and Experience</strong></p>\\n\\n<ul>\\n<li>You will be a reliable, self-driven developer with a proven track record building back-end and front-end software</li>\\n<li>Javascript/Typescript, Nodejs and React.js programming experience</li>\\n<li>Experience with Go, Python and/or C/C++ back-end development</li>\\n<li>Familiarity with using and building RESTful APIs</li>\\n<li>A solid understanding of HTML &amp; CSS/LESS/SCSS development</li>\\n<li>A knack for benchmarking and optimization</li>\\n<li>Familiarity with Git &amp; Linux</li>\\n<li>Ability to understand business requirements and translate them into technical requirements</li>\\n<li>Be comfortable making decisions and working as an autonomous member of a collaborative team</li>\\n<li>A self starter happy to use their initiative to get things done and comfortable making decisions</li>\\n<li>Ability to be creative, resourceful and autonomous in a start-up environment</li>\\n<li>A team player willing to roll up your sleeves, work collaboratively and get stuck in to add value</li>\\n<li>Excellent interpersonal and communication skills to build strong relationships with both technical and non-technical stakeholders</li>\\n</ul><p><strong>Benefits</strong></p>\\n\\n<p>We offer:</p>\\n\\n<ul>\\n<li>A challenging and fun environment</li>\\n<li>The chance to work on some complex problems with really smart, supportive colleagues</li>\\n<li>Flexibility - work from home options</li>\\n<li>A competitive base salary</li>\\n<li>A generous vacation policy</li>\\n<li>Health Care Plan (Medical, Dental &amp; Vision)</li>\\n<li>Retirement Plan (401k, IRA)</li>\\n</ul>\",\n",
       "  'how_to_apply': '<p><a href=\"https://grafana-labs.workable.com\">https://grafana-labs.workable.com</a></p>',\n",
       "  'company': 'Grafana Labs',\n",
       "  'company_url': 'https://grafana.com',\n",
       "  'company_logo': 'http://github-jobs.s3.amazonaws.com/a1f10c16-cb9e-11e8-968d-132ad1b90538.png',\n",
       "  'url': 'http://jobs.github.com/positions/c6cc376c-cb9f-11e8-87be-93e9a61d69b4'},\n",
       " {'id': '76e2a394-95d0-11e8-8bed-67e83dee4a94',\n",
       "  'created_at': 'Mon Oct 08 17:03:22 UTC 2018',\n",
       "  'title': 'Software Engineer',\n",
       "  'location': 'New York, NY',\n",
       "  'type': 'Full Time',\n",
       "  'description': '<p>BlindData is calling all talented software engineers to test yourself\\nagainst the best engineers from Google and MIT.</p>\\n\\n<p>Get recognized, hired and rewarded.</p>\\n\\n<p>About the role:</p>\\n\\n<ul>\\n<li><p>Collaborate with our testing problem contributors to author, edit and\\ndeploy coding challenges on our platform.</p></li>\\n<li><p>Constantly enhance platform performance and help scale our system as we\\ngrow.</p></li>\\n<li><p>Create experiences for app and web environments.</p></li>\\n<li><p>Partner with Lead Developer and CTO on various projects.</p></li>\\n<li><p>Manage individual project priorities, deadlines and deliverables.</p></li>\\n<li><p>Maintain and iterate on company website and overall user experience for\\ncandidates and partners.</p></li>\\n<li><p>Work on a small, agile and growing team to help us build out the business\\nand expand our user base.</p></li>\\n</ul><p>Applicants should be highly skilled in at least one of Python, C++, Java\\nand PHP. We are a small but growing company looking to hire top technical\\ntalent.</p>',\n",
       "  'how_to_apply': '<p>*If you are interested in applying, visit\\n<a href=\"http://www.blinddata.com/r/Github\">www.blinddata.com/r/Github</a> and click on “Test your Talents!” to take our\\n20-minute online challenge. It’s as easy as that! This evaluation will help\\nus assess your fit for applicable roles within our company. Your online\\nchallenge score will determine if you are invited to the final round which\\nconsists of an in-person exam - high scores will be compensated and\\nrewarded for coming in to test. After that point, you will become BlindData\\nCertified and be considered for open roles on our team.</p>',\n",
       "  'company': 'BlindData',\n",
       "  'company_url': 'http://www.blinddata.com',\n",
       "  'company_logo': 'http://github-jobs.s3.amazonaws.com/71f7eaf6-95d0-11e8-95f3-07bed0dff2c4.png',\n",
       "  'url': 'http://jobs.github.com/positions/76e2a394-95d0-11e8-8bed-67e83dee4a94'},\n",
       " {'id': 'bbc72f80-9a57-11e8-93e2-effc1a9c1d65',\n",
       "  'created_at': 'Mon Oct 08 17:03:21 UTC 2018',\n",
       "  'title': 'Senior Software Engineer',\n",
       "  'location': 'New York, NY',\n",
       "  'type': 'Full Time',\n",
       "  'description': '<p>BlindData is calling all talented software engineers to test yourself\\nagainst the best engineers from Google and MIT.</p>\\n\\n<p>Get recognized, hired and rewarded.</p>\\n\\n<p>About the role:</p>\\n\\n<ul>\\n<li><p>Collaborate with our testing problem contributors to author, edit and\\ndeploy coding challenges on our platform.</p></li>\\n<li><p>Constantly enhance platform performance and help scale our system as we\\ngrow.</p></li>\\n<li><p>Create experiences for app and web environments.</p></li>\\n<li><p>Partner with Lead Developer and CTO on various projects.</p></li>\\n<li><p>Manage individual project priorities, deadlines and deliverables.</p></li>\\n<li><p>Maintain and iterate on company website and overall user experience for\\ncandidates and partners.</p></li>\\n<li><p>Work on a small, agile and growing team to help us build out the business\\nand expand our user base.</p></li>\\n</ul><p>Applicants should be highly skilled in at least one of Python, C++, Java\\nand PHP. We are a small but growing company looking to hire top technical\\ntalent.</p>',\n",
       "  'how_to_apply': '<p>*If you are interested in applying, visit <a href=\"http://www.blinddata.com/r/Github\">www.blinddata.com/r/Github</a> and click on “Test your Talents!” to take our 20-minute online challenge. It’s as easy as that! This evaluation will help us assess your fit for applicable roles within our company. Your online challenge score will determine if you are invited to the final round which consists of an in-person exam - high scores will be compensated and rewarded for coming in to test. After that point, you will become BlindData Certified and be considered for open roles on our team.</p>',\n",
       "  'company': 'BlindData',\n",
       "  'company_url': 'http://www.blinddata.com',\n",
       "  'company_logo': 'http://github-jobs.s3.amazonaws.com/b9ebdfc6-9a57-11e8-9811-014cc1eab106.png',\n",
       "  'url': 'http://jobs.github.com/positions/bbc72f80-9a57-11e8-93e2-effc1a9c1d65'},\n",
       " {'id': 'be462f2c-9a57-11e8-8dc5-7ba6ce68e632',\n",
       "  'created_at': 'Mon Oct 08 17:03:21 UTC 2018',\n",
       "  'title': 'JAVA Software Engineer',\n",
       "  'location': 'New York, NY',\n",
       "  'type': 'Full Time',\n",
       "  'description': '<p>BlindData is calling all talented software engineers to test yourself\\nagainst the best engineers from Google and MIT.</p>\\n\\n<p>Get recognized, hired and rewarded.</p>\\n\\n<p>About the role:</p>\\n\\n<ul>\\n<li><p>Collaborate with our testing problem contributors to author, edit and\\ndeploy coding challenges on our platform.</p></li>\\n<li><p>Constantly enhance platform performance and help scale our system as we\\ngrow.</p></li>\\n<li><p>Create experiences for app and web environments.</p></li>\\n<li><p>Partner with Lead Developer and CTO on various projects.</p></li>\\n<li><p>Manage individual project priorities, deadlines and deliverables.</p></li>\\n<li><p>Maintain and iterate on company website and overall user experience for\\ncandidates and partners.</p></li>\\n<li><p>Work on a small, agile and growing team to help us build out the business\\nand expand our user base.</p></li>\\n</ul><p>Applicants should be highly skilled in at least one of Python, C++, Java\\nand PHP. We are a small but growing company looking to hire top technical\\ntalent.</p>',\n",
       "  'how_to_apply': '<p>*If you are interested in applying, visit <a href=\"http://www.blinddata.com/r/Github\">www.blinddata.com/r/Github</a> and click on “Test your Talents!” to take our 20-minute online challenge. It’s as easy as that! This evaluation will help us assess your fit for applicable roles within our company. Your online challenge score will determine if you are invited to the final round which consists of an in-person exam - high scores will be compensated and rewarded for coming in to test. After that point, you will become BlindData Certified and be considered for open roles on our team.</p>',\n",
       "  'company': 'BlindData',\n",
       "  'company_url': 'http://www.blinddata.com',\n",
       "  'company_logo': 'http://github-jobs.s3.amazonaws.com/b82b37ea-9a57-11e8-9c19-dfccb1c7a071.png',\n",
       "  'url': 'http://jobs.github.com/positions/be462f2c-9a57-11e8-8dc5-7ba6ce68e632'},\n",
       " {'id': 'c078b45e-9a57-11e8-867e-4039dfbc3694',\n",
       "  'created_at': 'Mon Oct 08 17:03:20 UTC 2018',\n",
       "  'title': 'Python Software Engineer',\n",
       "  'location': 'New York, NY',\n",
       "  'type': 'Full Time',\n",
       "  'description': '<p>BlindData is calling all talented software engineers to test yourself\\nagainst the best engineers from Google and MIT.</p>\\n\\n<p>Get recognized, hired and rewarded.</p>\\n\\n<p>About the role:</p>\\n\\n<ul>\\n<li><p>Collaborate with our testing problem contributors to author, edit and\\ndeploy coding challenges on our platform.</p></li>\\n<li><p>Constantly enhance platform performance and help scale our system as we\\ngrow.</p></li>\\n<li><p>Create experiences for app and web environments.</p></li>\\n<li><p>Partner with Lead Developer and CTO on various projects.</p></li>\\n<li><p>Manage individual project priorities, deadlines and deliverables.</p></li>\\n<li><p>Maintain and iterate on company website and overall user experience for\\ncandidates and partners.</p></li>\\n<li><p>Work on a small, agile and growing team to help us build out the business\\nand expand our user base.</p></li>\\n</ul><p>Applicants should be highly skilled in at least one of Python, C++, Java\\nand PHP. We are a small but growing company looking to hire top technical\\ntalent.</p>',\n",
       "  'how_to_apply': '<p>*If you are interested in applying, visit <a href=\"http://www.blinddata.com/r/Github\">www.blinddata.com/r/Github</a> and click on “Test your Talents!” to take our 20-minute online challenge. It’s as easy as that! This evaluation will help us assess your fit for applicable roles within our company. Your online challenge score will determine if you are invited to the final round which consists of an in-person exam - high scores will be compensated and rewarded for coming in to test. After that point, you will become BlindData Certified and be considered for open roles on our team.</p>',\n",
       "  'company': 'BlindData',\n",
       "  'company_url': 'http://www.blinddata.com',\n",
       "  'company_logo': 'http://github-jobs.s3.amazonaws.com/b54c0b80-9a57-11e8-8718-914ce44c5534.png',\n",
       "  'url': 'http://jobs.github.com/positions/c078b45e-9a57-11e8-867e-4039dfbc3694'},\n",
       " {'id': 'c2928c56-9a57-11e8-917e-143d2a687448',\n",
       "  'created_at': 'Mon Oct 08 17:03:20 UTC 2018',\n",
       "  'title': 'C++ Software Engineer',\n",
       "  'location': 'New York, NY',\n",
       "  'type': 'Full Time',\n",
       "  'description': '<p>BlindData is calling all talented software engineers to test yourself\\nagainst the best engineers from Google and MIT.</p>\\n\\n<p>Get recognized, hired and rewarded.</p>\\n\\n<p>About the role:</p>\\n\\n<ul>\\n<li><p>Collaborate with our testing problem contributors to author, edit and\\ndeploy coding challenges on our platform.</p></li>\\n<li><p>Constantly enhance platform performance and help scale our system as we\\ngrow.</p></li>\\n<li><p>Create experiences for app and web environments.</p></li>\\n<li><p>Partner with Lead Developer and CTO on various projects.</p></li>\\n<li><p>Manage individual project priorities, deadlines and deliverables.</p></li>\\n<li><p>Maintain and iterate on company website and overall user experience for\\ncandidates and partners.</p></li>\\n<li><p>Work on a small, agile and growing team to help us build out the business\\nand expand our user base.</p></li>\\n</ul><p>Applicants should be highly skilled in at least one of Python, C++, Java\\nand PHP. We are a small but growing company looking to hire top technical\\ntalent.</p>',\n",
       "  'how_to_apply': '<p>*If you are interested in applying, visit <a href=\"http://www.blinddata.com/r/Github\">www.blinddata.com/r/Github</a> and click on “Test your Talents!” to take our 20-minute online challenge. It’s as easy as that! This evaluation will help us assess your fit for applicable roles within our company. Your online challenge score will determine if you are invited to the final round which consists of an in-person exam - high scores will be compensated and rewarded for coming in to test. After that point, you will become BlindData Certified and be considered for open roles on our team.</p>',\n",
       "  'company': 'BlindData',\n",
       "  'company_url': 'http://www.blinddata.com',\n",
       "  'company_logo': 'http://github-jobs.s3.amazonaws.com/b263e514-9a57-11e8-8853-b2a4b3368661.png',\n",
       "  'url': 'http://jobs.github.com/positions/c2928c56-9a57-11e8-917e-143d2a687448'},\n",
       " {'id': 'ef024d84-c816-11e8-9f03-6e04b79d9f73',\n",
       "  'created_at': 'Thu Oct 04 20:49:36 UTC 2018',\n",
       "  'title': 'Senior Java Developer',\n",
       "  'location': 'New York',\n",
       "  'type': 'Full Time',\n",
       "  'description': '<p>SENIOR JAVA DEVELOPER</p>\\n\\n<p>If you want to help build thriving businesses and guide the Financial Services industry from now to NEXT, keep reading to see how your ability to solve complex problems can make digital transformation a reality for clients. </p>\\n\\n<p>What we’re looking for:</p>\\n\\n<p>A Senior Java Developer who will bring insight, knowledge, technical acumen and passion for innovation to our investment bank, asset management and wealth management clients. Someone who is hungry to drive transformation and lead change within a project team for some of the largest financial institutions in the world. </p>\\n\\n<p>Can you do  the following?</p>\\n\\n<ul>\\n<li>Design, develop, build and maintain complete financial applications using Java and associated technologies</li>\\n<li>Lead a team to develop a specific solution architecture track ,including leading and supporting design, estimation and planning tasks for the solution</li>\\n<li>Manage projects, people, and scope to ensure quality of your development </li>\\n<li>Establish, enforce and monitor what is done during development and maintenance phases of a project for quality of delivery</li>\\n<li>Understand project lifecycle process </li>\\n<li>Ensure different dependencies are tracked and resolved on time</li>\\n<li>Troubleshoot complex technical issues </li>\\n<li>Drive the setup of different environments (development, testing, staging, production, etc.)</li>\\n<li>Be open to travel and work at client offices</li>\\n</ul><p>Technical requirements:</p>\\n\\n<ul>\\n<li>Specialized knowledge in all stages of software development</li>\\n<li>Significant hands-on experience in solution design, architectural analysis and development of financial system leveraging advanced Java 7 or 8, python, and features like Multi-Threading, Serialization, RMI, Sockets, JDBC, NIO, Cloning, Annotations, OOPS, Kafka</li>\\n<li>Experience and\\xa0knowledge of Javascript, Junit, Ant, Spring Hibernate, JSP/Servlets, Struts, JBehave, JDBC, JMS, EJB, JAXB/JAXP, SWING, FitnesseREST API design and development tools - specifically JAX-RS, XML, JSON and Swagger</li>\\n<li>RESTful web service architecture and API management</li>\\n<li>Solid foundation in data structures, algorithms, and software design NoSQL systems such as MongoDB, MarkLogic, or Neo4</li>\\n<li>Know how to work around a Unix or Linux operating system</li>\\n<li>Experience with Microservices</li>\\n<li>Hands on development experience with systems integration, package implementation, and/or interactive design</li>\\n<li>Developing software with a test-driven approach (TDD, BDD)</li>\\n<li>Preferred experience working in an agile/Scrum delivery methodology </li>\\n<li>Bachelors or Masters Degree in Computer Science/Engineering (lack of a relevant degree may be substituted by equivalent professional experience)</li>\\n</ul><p>About Publicis.Sapient</p>\\n\\n<p>You’ll never hear the term \\'employee’ at Publicis.Sapient. Rather, you’ll see we talk about talented and valued individuals – people with interesting and provocative ideas, bold and diverse perspectives, a keen awareness of today and an unflinching curiosity about\\xa0next.\\xa0Our culture is all about the thriving of the 16,000 of us in 60+ offices around the globe, while we boldly help impact the success of our clients in a modern world.</p>\\n\\n<p>To start your own journey into\\xa0next, visit\\xa0<a href=\"http://www.publicis.sapient.com/\">http://www.publicis.sapient.com/</a>.</p>\\n\\n<p>Publicis.Sapient is an Affirmative Action, Equal Opportunity employer (M/F/D/V) that values the strength that diversity brings to the workplace. If you are interested in applying for employment with Sapient and you have a disability for which you need special assistance or an accommodation to apply for a posted position, please contact our Affirmative Action Officer via telephone at +1-617-621-0200 or fax at +1-617-621-1300.</p>',\n",
       "  'how_to_apply': '<p>Apply here: <a href=\"https://sapient.avature.net/careers/JobDetail/New-York-Senior-Java-Developer/33070\">https://sapient.avature.net/careers/JobDetail/New-York-Senior-Java-Developer/33070</a></p>',\n",
       "  'company': 'Publicis.Sapient',\n",
       "  'company_url': 'https://publicis.sapient.com/en-us.html',\n",
       "  'company_logo': 'http://github-jobs.s3.amazonaws.com/e1b1cc72-c816-11e8-996d-4f72a3585671.png',\n",
       "  'url': 'http://jobs.github.com/positions/ef024d84-c816-11e8-9f03-6e04b79d9f73'}]"
      ]
     },
     "execution_count": 1,
     "metadata": {},
     "output_type": "execute_result"
    }
   ],
   "source": [
    "import requests\n",
    "payload = {'description': 'python', 'location': 'new york'}\n",
    "r = requests.get('https://jobs.github.com/positions.json', params=payload)\n",
    "r.json()"
   ]
  },
  {
   "cell_type": "code",
   "execution_count": null,
   "metadata": {},
   "outputs": [],
   "source": []
  }
 ],
 "metadata": {
  "kernelspec": {
   "display_name": "Python 3",
   "language": "python",
   "name": "python3"
  },
  "language_info": {
   "codemirror_mode": {
    "name": "ipython",
    "version": 3
   },
   "file_extension": ".py",
   "mimetype": "text/x-python",
   "name": "python",
   "nbconvert_exporter": "python",
   "pygments_lexer": "ipython3",
   "version": "3.7.0"
  }
 },
 "nbformat": 4,
 "nbformat_minor": 2
}
